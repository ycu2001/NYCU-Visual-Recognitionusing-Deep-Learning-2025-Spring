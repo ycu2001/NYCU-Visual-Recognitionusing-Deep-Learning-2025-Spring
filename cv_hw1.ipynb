{
  "nbformat": 4,
  "nbformat_minor": 0,
  "metadata": {
    "colab": {
      "provenance": [],
      "gpuType": "L4"
    },
    "kernelspec": {
      "name": "python3",
      "display_name": "Python 3"
    },
    "language_info": {
      "name": "python"
    },
    "accelerator": "GPU"
  },
  "cells": [
    {
      "cell_type": "code",
      "execution_count": 1,
      "metadata": {
        "id": "hlbMGeAHtROV",
        "colab": {
          "base_uri": "https://localhost:8080/"
        },
        "outputId": "2031330a-9a9b-44ce-d9df-8543e4ea3559"
      },
      "outputs": [
        {
          "output_type": "stream",
          "name": "stdout",
          "text": [
            "Mounted at /content/drive\n"
          ]
        }
      ],
      "source": [
        "from google.colab import drive\n",
        "drive.mount('/content/drive')"
      ]
    },
    {
      "cell_type": "code",
      "source": [
        "import torch\n",
        "import torch.nn as nn\n",
        "import torch.optim as optim\n",
        "from torch.utils.data import Dataset, DataLoader, random_split, Subset\n",
        "from torchvision import transforms, models, datasets\n",
        "from PIL import Image\n",
        "import pandas as pd\n",
        "import os\n",
        "import matplotlib.pyplot as plt\n",
        "import shutil\n",
        "import time\n",
        "from tqdm import tqdm"
      ],
      "metadata": {
        "id": "XFwIbWB7tfA_"
      },
      "execution_count": 2,
      "outputs": []
    },
    {
      "cell_type": "code",
      "source": [
        "device = torch.device(\"cuda\" if torch.cuda.is_available() else \"cpu\")\n",
        "print(f\"Using device: {device}\")"
      ],
      "metadata": {
        "id": "W_xBSMkBtg4o",
        "colab": {
          "base_uri": "https://localhost:8080/"
        },
        "outputId": "c69a4a13-1c3c-42e2-f144-d9a88066e322"
      },
      "execution_count": 3,
      "outputs": [
        {
          "output_type": "stream",
          "name": "stdout",
          "text": [
            "Using device: cuda\n"
          ]
        }
      ]
    },
    {
      "cell_type": "code",
      "source": [
        "# 複製數據到本地磁碟\n",
        "drive_data_dir = '/content/drive/MyDrive/Colab Notebooks/data'\n",
        "local_data_dir = '/content/data'\n",
        "if not os.path.exists(local_data_dir):\n",
        "    print(\"Copying data from Google Drive to local disk...\")\n",
        "    start_time = time.time()\n",
        "\n",
        "    # 計算總檔案大小以顯示進度\n",
        "    total_size = sum(os.path.getsize(os.path.join(dirpath, filename))\n",
        "                    for dirpath, dirnames, filenames in os.walk(drive_data_dir)\n",
        "                    for filename in filenames)\n",
        "\n",
        "    # 使用 tqdm 顯示進度條\n",
        "    with tqdm(total=total_size, unit='B', unit_scale=True, desc=\"Copying\") as pbar:\n",
        "        def copy_with_progress(src, dst, *, follow_symlinks=True):\n",
        "            if os.path.isdir(src):\n",
        "                os.makedirs(dst, exist_ok=True)\n",
        "                for entry in os.scandir(src):\n",
        "                    copy_with_progress(entry.path, os.path.join(dst, entry.name), follow_symlinks=follow_symlinks)\n",
        "            else:\n",
        "                shutil.copy2(src, dst, follow_symlinks=follow_symlinks)\n",
        "                pbar.update(os.path.getsize(src))\n",
        "\n",
        "        copy_with_progress(drive_data_dir, local_data_dir)\n",
        "\n",
        "    end_time = time.time()\n",
        "    print(f\"Data copied in {end_time - start_time:.2f} seconds\")\n",
        "else:\n",
        "    print(\"Data already exists in local disk\")\n",
        "\n",
        "\n",
        "# 更新路徑\n",
        "train_dir = os.path.join(local_data_dir, 'train')\n",
        "val_dir = os.path.join(local_data_dir, 'val')\n",
        "test_dir = os.path.join(local_data_dir, 'test')\n",
        "\n",
        "\"\"\"\n",
        "# 檢查\n",
        "print(\"Train directory contents:\", os.listdir(train_dir))\n",
        "print(\"Val directory contents:\", os.listdir(val_dir))\n",
        "print(\"Test directory contents:\", os.listdir(test_dir))\n",
        "\n",
        "\n",
        "# 數train所有資料夾裡有幾張圖\n",
        "train_image_count = sum(len(files) for _, _, files in os.walk(train_dir))\n",
        "print(f\"Number of images in train directory: {train_image_count}\")\n",
        "val_image_count = sum(len(files) for _, _, files in os.walk(val_dir))\n",
        "print(f\"Number of images in train and val directory: {train_image_count+val_image_count}\")\n",
        "\n",
        "# 數test資料夾裡有幾張圖\n",
        "test_image_count = sum(len(files) for _, _, files in os.walk(test_dir))\n",
        "print(f\"Number of images in test directory: {test_image_count}\")\n",
        "\"\"\"\n"
      ],
      "metadata": {
        "id": "HDRImDEutjkm",
        "colab": {
          "base_uri": "https://localhost:8080/"
        },
        "outputId": "2d98327e-7b25-4c0e-ac2a-cb3979cd09fe"
      },
      "execution_count": 4,
      "outputs": [
        {
          "output_type": "stream",
          "name": "stdout",
          "text": [
            "Copying data from Google Drive to local disk...\n"
          ]
        },
        {
          "output_type": "stream",
          "name": "stderr",
          "text": [
            "Copying: 100%|██████████| 6.91G/6.91G [1:05:04<00:00, 1.77MB/s]"
          ]
        },
        {
          "output_type": "stream",
          "name": "stdout",
          "text": [
            "Data copied in 3944.58 seconds\n",
            "Train directory contents: ['73', '19', '77', '41', '16', '06', '60', '92', '24', '96', '89', '94', '74', '10', '79', '86', '85', '54', '04', '39', '57', '46', '97', '11', '62', '37', '95', '14', '80', '03', '82', '69', '18', '34', '13', '91', '52', '21', '20', '66', '32', '25', '42', '44', '56', '33', '51', '23', '43', '81', '48', '36', '02', '.DS_Store', '08', '31', '01', '72', '55', '0', '83', '30', '26', '27', '64', '09', '49', '59', '05', '67', '35', '75', '93', '90', '50', '63', '88', '45', '22', '61', '78', '15', '40', '87', '84', '12', '65', '70', '98', '07', '68', '47', '71', '38', '76', '28', '29', '58', '53', '99', '17']\n",
            "Val directory contents: ['73', '19', '77', '41', '16', '06', '60', '92', '24', '96', '89', '94', '74', '10', '79', '86', '85', '54', '04', '39', '57', '46', '97', '11', '62', '37', '95', '14', '80', '03', '82', '69', '18', '34', '13', '91', '52', '21', '20', '66', '32', '25', '42', '44', '56', '33', '51', '23', '43', '81', '48', '36', '02', '.DS_Store', '08', '31', '01', '72', '55', '0', '83', '30', '26', '27', '64', '09', '49', '59', '05', '67', '35', '75', '93', '90', '50', '63', '88', '45', '22', '61', '78', '15', '40', '87', '84', '12', '65', '70', '98', '07', '68', '47', '71', '38', '76', '28', '29', '58', '53', '99', '17']\n",
            "Test directory contents: ['a43bb304-f357-4e99-a2c0-197e2de6f41c.jpg', '6b363b55-3e49-4ab5-864f-2d3a661897c1.jpg', 'e81270ae-10bd-4292-bff4-27b72390a514.jpg', '3bb85d13-6345-433d-aa9f-5320f5fea879.jpg', 'd852d566-c7dd-4347-a73d-746fd043a44c.jpg', '139fd1b3-f46d-4aeb-8130-013af3bed844.jpg', 'aa47abbb-f247-41b8-ba8f-439fa1952938.jpg', '68c6a83f-6dcb-4bc4-9673-5a37b1390c15.jpg', 'da074307-b829-4573-9ad2-ad6cbaf3ecc6.jpg', '33d8978d-369d-4025-a661-cab65ce3bfda.jpg', '8592bc57-2328-4cfe-aec2-49fcc0e656e7.jpg', '3211dc08-022f-4663-abd6-c9e067c1a669.jpg', 'd473fdaa-3d87-4b0f-aaf2-4784fd67bd0d.jpg', 'c5b78623-b3e8-41dd-8522-66177654a437.jpg', 'b15bd7b5-ed50-4824-9b6c-447f86d349f8.jpg', '05ccbd72-6e2b-487d-9ed0-74e606b4142c.jpg', '776c5b0b-8d2e-4943-abbe-41a632a0e0d3.jpg', '13fc4894-bce3-419a-92d4-771eab74a6cd.jpg', 'db6cbeb0-f680-48bf-a4f7-3c922836621d.jpg', '676a14fb-8036-443c-a873-28484375a288.jpg', 'e6f27dbc-4f0e-486d-a630-0d4bc3cd5bf5.jpg', '6f44743f-370a-477d-b439-82d135ca3b93.jpg', '36735731-538c-4c14-9b21-5dd881609382.jpg', '2cb026fa-0637-45e9-8bdb-ebcf92dfc0f6.jpg', 'c52d6a89-5a03-40f9-a599-8660a018c9de.jpg', 'cb84f22d-3428-4f09-a41b-a32af71379ee.jpg', '12ae0f7e-4834-4cbb-a730-f9dae2f28486.jpg', 'b21b5ebd-39fb-459a-aa1e-07858807a7b3.jpg', '5f37907e-3705-4ee3-a78c-74023424e376.jpg', '39ebd396-7f67-4cba-b7f6-2ffe25d173fe.jpg', '8741451d-5c9e-4185-a916-3691f97bd2ad.jpg', 'b70b8dc2-7739-4182-80f3-014eb45aae31.jpg', 'c627957c-90c9-44e3-aa8c-f9c48a031a7f.jpg', '45f385ea-516c-467c-b6db-b22b95d7772f.jpg', '46c0943b-8d2b-41ee-9fd8-b50576d14236.jpg', 'aadaf1e1-5dbe-4db9-aefb-e6504069e220.jpg', 'f916d41f-7ae2-4892-8d3d-60a8842cc559.jpg', '736bcffa-57e7-4668-b1e3-62312ff13c2d.jpg', 'e5abcdfe-37b1-403b-b91a-4c1475ac4526.jpg', '7345d7ea-044f-4b36-b472-5640971e6dc8.jpg', 'e55350e5-b56f-416e-b567-366cdee59d3e.jpg', '83f4ae02-aefe-4817-a8f6-0becf682330e.jpg', 'ac1a56bc-6af6-4cd4-9412-890ad46e6ac4.jpg', 'b72d3b9e-3b4d-41ee-a4bf-255454e5a567.jpg', '278742f0-1bc7-498d-a7f9-dd263ddd78ec.jpg', '7beee503-a436-4f9e-a400-6ac40e5e30ec.jpg', '3fa6ca43-87ba-48ec-95c5-01c0892282b3.jpg', '474b0570-94f2-4f8c-b247-771f98520f96.jpg', '9bb84fb5-0c23-49e9-b196-d6d2de15a5c5.jpg', '50d4e5e5-cf31-4d22-8767-851a6406db97.jpg', '69ac63c6-4d24-49fe-8ab0-a88446632ffa.jpg', '62bd6692-4fcc-4c98-9925-f7eee98259ff.jpg', '812c0900-9c8a-4d3a-86ce-e0405e6eb161.jpg', 'f184fa24-aabc-4935-a56f-0f1e519eae8c.jpg', '782c7507-1211-44c3-aed6-36bfdcbdf6a2.jpg', 'd25f82ee-deaa-4cb1-86b5-2275b896ffc1.jpg', '53bd11b4-c453-4a4b-804b-9f2acdfce430.jpg', '135cf27f-91f4-4bbb-9cc9-0c677bbf1ea1.jpg', 'a3c78762-efce-418c-b665-f899be131458.jpg', '9379b955-514d-4017-bef1-f5268d2eb5fa.jpg', 'fd7744df-9797-4e72-835e-13139a0bb4b9.jpg', 'aaea1203-f1b7-4634-9f8a-7f8a0c37fd66.jpg', '90075154-3240-45da-8956-91c0db2b6ab5.jpg', '7d9fc79f-25ae-459b-b9ec-8643645ef2ef.jpg', 'd5f8d2ea-0aba-41ed-a552-ce5a9684c474.jpg', '3d2e7d12-bd65-4234-b49b-703c233297c5.jpg', 'f8e40097-b325-459f-b100-708b2a4402a2.jpg', '6c26846a-193d-471e-a3a3-2d2c59600247.jpg', 'b2aef230-4919-416e-8df3-b13757758698.jpg', '4c628de3-0016-4d8b-8872-6bd7a65b4414.jpg', '63e28da1-0325-481b-8871-3b58bb25e8cc.jpg', 'fe2b2829-1eb1-465b-94dc-40c7ec31df70.jpg', '2a3c4906-4384-425f-8cf7-ef066ba4cad3.jpg', 'fa02ce6e-3160-4916-927a-024e0d1c43ca.jpg', '1f42eec2-f5c1-475e-a679-95e17d9ad224.jpg', '15eea684-7011-4686-9e89-860bf80daf7a.jpg', 'e034da89-6a09-4fd3-88c7-9b454662b467.jpg', '069130cc-6e25-4790-afc7-0c322b5114bc.jpg', 'a5dcd67a-e6a5-4425-86d0-3b803709f6e6.jpg', '5179e059-5ca9-4375-a8a5-9e40a46478b1.jpg', 'e973228a-7620-4c12-95a9-344031a04a5c.jpg', 'db2ff55e-8acf-45e2-a0d0-76c08776cf98.jpg', '64eac7f3-88d5-4351-b1dd-57b0a714152f.jpg', '592e0228-c207-4672-8272-420107f3b24e.jpg', '5cdd2b33-620f-44e0-95ea-a7edfd555901.jpg', 'dcb54885-3170-45f9-9b7d-1f7a5362cbd2.jpg', 'f85ac082-fe94-428e-b33b-50ee377b38ff.jpg', '231c01dd-f2a0-498a-9f27-435c4b775a64.jpg', '5417a659-e00c-496b-8e1a-22383d3ce85c.jpg', '3b77e381-5cfc-43eb-8f51-0af84c2e745c.jpg', '0a9ee85b-9914-44bc-9299-bc3ce2d20f2f.jpg', 'a72ce749-e63c-49a1-b140-d58eb66d0c7e.jpg', '9784c65c-42dd-43b5-839a-88d1a435ca1d.jpg', 'aca23728-abbe-4282-8eb0-40186cba80d9.jpg', 'fac31a1f-088e-4d4e-a8a3-68a11e727823.jpg', '7ec6f7e9-8b8c-4db0-9e01-f70510b8f802.jpg', '397a4162-211a-4d3b-bee4-342bdaccb20c.jpg', 'a90eded5-c277-4edd-bc00-81a1b42db3e3.jpg', '578ca079-c491-4488-a46d-7b2f7eb3fa7c.jpg', 'b667483e-95e7-46ad-aedd-db27067a6a23.jpg', '2377cfc1-1fdc-4af0-9222-5ab576cc0316.jpg', 'c6c6258e-3063-4477-94fe-ac6658a52363.jpg', '9e81de1a-28f4-4918-885b-c2f785dc2cc7.jpg', 'fe73e63f-1371-4672-91fb-687cd41e9c36.jpg', '8b5b92f7-0cd5-47c7-bd49-5fd267ba8914.jpg', '21764c69-8258-49b2-92c3-2707de706502.jpg', '25baa73e-2aa4-46a9-8dda-16488ec7d660.jpg', '8c860d2d-a504-460f-8398-13f3222ac0f2.jpg', '03ddfa7b-2f28-4f07-9932-31ff5f3448b0.jpg', '41413608-83be-4293-a0a6-ec53fdd8f5f9.jpg', 'b4badadf-e51e-41d2-9095-6acfd8fd62dc.jpg', '0ade8437-57b7-498f-ac92-eb6bbbc49a5b.jpg', '4869037a-b86d-41cc-a72e-2f80ad4d9b24.jpg', '25da4759-23fc-4245-89ba-f8abb209e3ce.jpg', 'd881b040-43a8-4866-9933-040b1d09003b.jpg', 'e9bbc11b-4173-44d6-b067-5a375f70f43c.jpg', '065cd8cb-c56d-453a-a597-d8de173b53cf.jpg', '1af204b2-2650-47b6-a375-1a457f8a14e1.jpg', '9a71d744-6d8c-4580-9c55-6412536ee9b3.jpg', '1a0e283f-c4fd-418b-adcc-2415c73b8cd3.jpg', 'c30eb1cf-7688-4b15-a680-aed6b0fbf4f9.jpg', 'ed2f5f5b-9b50-4bb0-b347-5860c167b0c2.jpg', 'd656c3bc-b350-4463-9fc3-ecfc757295e3.jpg', '90633244-4d6d-4a77-a43d-31d7e0413d21.jpg', '5c8f7062-7923-4f34-91bd-1f0b18fd28b1.jpg', '43fe2c70-b1c7-4025-9177-d1633d5c9e6d.jpg', 'ab22d6ce-b8d0-404a-99ef-f13821a3622e.jpg', 'ce410bc2-3042-48df-bccb-a7f438cd4b05.jpg', 'f9253165-889c-43dd-995d-f2557123a5b9.jpg', '2771f2d8-d5c6-48bb-933b-3c1bba0deb55.jpg', 'f657232f-e801-4236-842d-b7d9f202654c.jpg', '6778b093-d50c-4e43-9a7c-9e398afffd45.jpg', '23adba6e-ad9b-4eb3-a6ed-533bf3a67c1d.jpg', 'd652b593-a0ec-4e40-881e-1e0ef7d8332c.jpg', '9d360bee-63c2-44c3-aeaa-a301c126e540.jpg', '02993173-8c76-461a-a40e-3ca2fb87b9ca.jpg', 'e3459562-ef62-4143-a326-17129fceeeca.jpg', 'a80e4655-0f24-403e-94f0-f90e1f0bf58d.jpg', '2c5d15d3-b5e9-4148-8d4b-609eaff4cb5d.jpg', 'd5740820-2b1b-4c76-bd45-9fb81fd4956f.jpg', '3d29e516-b2dd-4bbf-a1c9-922a40f88820.jpg', 'afe822e9-7895-4523-ad76-6ee5f4b596e0.jpg', '54f781b6-b045-4bfa-8b2f-400f764711dd.jpg', 'e9323c26-b51a-4a07-99b2-005a419b002f.jpg', '2fa443ad-833c-4950-af5f-0fc6955209a7.jpg', '400b9629-1a51-437e-9f84-4d2aeba407dd.jpg', '564066da-809e-4222-a374-412910c05e83.jpg', '86350890-6be3-4861-ad5e-48c825aa7ea4.jpg', 'a8c90db3-9a58-4222-a6dc-0405bf82d78e.jpg', '884b7083-3001-4ace-87d3-160db1b524a9.jpg', '01e69fd5-640f-4c89-8a0e-a378d1a16784.jpg', '17b30772-82a5-4fff-a71f-37fa6df87761.jpg', '0560fd2c-85db-4147-a0bb-c29971ec8254.jpg', '625e7567-b33a-433a-9123-c86546bb1e3b.jpg', 'eaf068a5-4d6c-4d1c-8731-cf8fa00bf776.jpg', '93ddaeb0-45e1-4b53-be5a-d0b1329148dc.jpg', '501e88ed-c647-4472-9b4a-6912a9ec2ec8.jpg', '45634104-ca54-46a1-bac7-51d9fec6c193.jpg', '274dd111-34d4-40c2-af39-426b86791f18.jpg', '6998ac93-2ff3-4381-b46b-02e4c101be17.jpg', 'f465916d-0bc5-4a70-9b09-0b4ce91b6280.jpg', 'a7bd9597-5c64-4d6b-afc7-44bf868b3a97.jpg', '29f60c65-5e71-4398-80bd-dfbb63bcdaba.jpg', 'f0ba5400-a3b2-4744-b78f-dcf7804bc1fc.jpg', 'adf81665-4788-41b0-8fdb-e16130f66da7.jpg', 'e9b736ca-32cb-4033-8f67-727463fc7422.jpg', 'f947b182-9666-4076-a67d-e36a624f6b40.jpg', 'e19e03ec-c56f-41ac-90d4-2034c41d6df8.jpg', '64b13e02-9dbf-480e-a385-441736030e10.jpg', 'b617185b-cafa-4cdb-8c26-a4f01c812848.jpg', '7b2f365a-58ad-49db-a7f1-1894724f9bef.jpg', 'aa483b02-eb3a-43b4-8bd2-d09c5f80cd7b.jpg', '81ea5ffb-96f5-4458-bcc4-3c6d6d21c35b.jpg', '0f4fed86-fdc7-499c-bbdf-46160b85e2b5.jpg', '687c7860-6105-4f4a-bb73-ffab36f730af.jpg', '1ae74803-6064-4fc8-bccb-eb21a641842d.jpg', '326f6ece-f7db-4d38-a9db-a846ef39bd88.jpg', '5b64e005-89c4-49b4-bf17-d18b02da33df.jpg', '64d1a9c2-55dd-4539-b51f-d372c41cfb90.jpg', '9f99c561-2536-40e9-b668-e70aa4d2742a.jpg', '33611421-92cb-46d7-a021-553658271a50.jpg', 'bc2f2117-3be6-418f-a104-4d4419ac1e18.jpg', 'efb9cb37-89f6-46a6-9513-4cb73005e3f8.jpg', '163d823c-f8be-4c45-88df-5faa906751c1.jpg', 'eb358440-f194-4507-be32-f0c2ebf77632.jpg', '9e3df595-e49b-4d67-884e-9731eec8aec9.jpg', '7d40f5f3-9b42-4a47-930c-213ed4bf1a00.jpg', 'e37dba31-5a33-43d3-b9ef-50dc87e58fea.jpg', 'ccf8329c-7775-4ba4-9949-84f5da747319.jpg', '75312fe1-34c1-4a70-b4ab-188411caea76.jpg', 'e6a58981-80b9-47ad-b1ea-9aa16eead45a.jpg', '380c1d5c-19d1-483f-8c5e-ae34d46d8bb4.jpg', '5cf75b81-150c-457b-aa39-530c8b34adf3.jpg', '30e4c391-6ac1-4d38-acc4-c87d9e71d51f.jpg', '36231919-f1dd-4173-bfd7-771b39f7430a.jpg', 'ace806b4-2663-49b4-8748-bc0404153b58.jpg', 'a7222650-0a5c-4448-9821-5c1454b69cee.jpg', '6eeaf792-7e73-4f76-bf9a-dcf796823d07.jpg', 'e3a4ddd6-78d7-4f38-a549-defb6a1bedaa.jpg', 'e8fa7306-93ab-494a-bab0-12079c3376e3.jpg', '9f5903f0-bcd2-41ff-8369-48cb8bd01162.jpg', 'd95fdcb9-6104-44b4-bff7-0e2a7d7872a9.jpg', '6ea6e956-9e68-42eb-9f80-81c37af5bb9e.jpg', 'e1948e06-9478-42af-bc38-1abe0f6e889e.jpg', '5e9a877c-8eaf-4788-a70b-8c83b3fa4c48.jpg', 'dfe5abc7-9f71-458e-a2fb-a237dacf3f78.jpg', 'fb91f6e7-3e67-4ad7-8153-dbb1a7f4e78e.jpg', '1c6f6dd8-a536-4067-9d59-6f01dd433c7d.jpg', '83fd594f-74bf-4528-a596-ffbcc83c5a61.jpg', '1ceaccab-4044-4e96-907c-7813da358b26.jpg', '5f47f50d-3c99-46cc-b7b5-db7f0ee04677.jpg', '7287c9d2-b72d-4faa-9dff-7a47d0315b30.jpg', '6ac354c3-4d17-4036-b88b-b69c702a9c8d.jpg', 'a74bc079-d45d-4383-b200-8f2263767d8c.jpg', 'b51a60f9-0f1f-4fb3-bd48-de8263b332b7.jpg', '1bd1d294-5a1e-4a37-bc63-98c12335300b.jpg', 'b1d8c059-792d-4cad-a0f6-483b6ca1e711.jpg', '452e8530-db83-4760-96c4-da2af0d1aed1.jpg', '1d0dddd5-6966-4417-8f17-1e5435e7b8c3.jpg', '95ebc60e-002d-4ec4-b993-62a2de7ef9ca.jpg', '06ae9f9d-7c2e-4f88-8a55-340147a8f0e3.jpg', 'f3831349-c397-46cd-8d82-a3a01972d0ad.jpg', '68c0d567-78a6-4b83-b61e-dad7f16e0f0e.jpg', '4f64036b-c9b8-438d-af78-46b9b6a5ce6c.jpg', 'bf26d0ce-97b4-431e-9929-f180757c4e60.jpg', '5ba525ce-d08c-4065-b8a9-b16544055ac6.jpg', 'd7b76e03-02b4-4f66-a4e4-29bddd136033.jpg', '32ea0e11-ebd2-4c07-80bf-f79897ba4e43.jpg', '4818db39-cb23-4ef1-8b84-42af7476fd6a.jpg', '88fa430a-5847-4752-b722-166fc69494fa.jpg', '035bdcba-61de-427c-9461-7f031fd8d0b1.jpg', 'a5a7e872-c027-4a52-b080-a1eb51fab7ee.jpg', 'a2579679-51c2-4c95-8820-d64640e9446c.jpg', 'b0f725cd-57b3-444c-a1a3-be128ba7dc7f.jpg', '26ed961b-b573-48ce-ac49-a285d18d9ee1.jpg', 'ff675580-7710-428c-866b-a20f65dccb8f.jpg', 'e5ef377a-0353-4023-8791-3cfa13adfb73.jpg', '6beabef5-a91a-4542-b1b2-0c174dc24c31.jpg', '282695f5-473b-43bc-9d4a-fce75d0dc995.jpg', 'b89790ca-edf4-4f16-b773-5f2d9f4d3a8e.jpg', '29c7ddbc-57e4-41da-b24d-287a5bf28222.jpg', '786d59a1-c350-4a5a-9400-5debe41590ed.jpg', '0aa9db87-5641-4363-8290-05268262bbc4.jpg', '1dc8257a-c9f0-4d50-993d-2fbb26f75c66.jpg', 'dcab4ca5-e59c-4ccb-b7d2-70d8773eba5d.jpg', '1e84fe3c-9113-4bf0-b59b-d83bff6f84a1.jpg', '8d222ca1-93a0-4d88-a252-b9d6bf516e87.jpg', 'cb251814-84b8-4e32-93ed-6031e81a57c5.jpg', '976db143-8596-4991-a5ce-c2553f615aac.jpg', '4904f608-d5f0-43bc-9ba8-c6324768ea3e.jpg', 'ce77360b-9998-4dfe-92f9-6cdea86d3985.jpg', '8843ea46-6c67-4b39-8734-e1b02bd20074.jpg', '0226c21d-f171-47bb-8e51-9f7ae1c5bbff.jpg', '4ec3fefe-3570-42ee-a04e-00c3d4d6677e.jpg', 'b3c9f92f-343c-4c10-a9fa-18d6f60500dd.jpg', '866732b9-bb28-4657-b7b4-5cc8a6938932.jpg', 'dc7ebc5a-fd25-4b23-8fb5-c847da3a4a28.jpg', '39c7805c-d47b-4799-90a1-b382974f6e52.jpg', 'b5380543-e194-464f-9050-61ef18cedea4.jpg', '315f8c00-bfa9-4a02-bb26-ba904437d864.jpg', 'aa6360cc-78a5-4658-848f-fd924bfe05e6.jpg', 'd7488a14-726a-4359-bcbe-a486a43347d3.jpg', '463239b7-5f38-4b90-ac8e-75dced01de8e.jpg', '8a8a5aa3-0a04-4bd8-937c-4c5011c5802e.jpg', '4f1058d2-5cd6-4d6a-a880-1427c57fcde7.jpg', '8579c8e5-3f22-410f-840c-3e6bf4294b6a.jpg', '3127bb37-ffc6-4540-b36d-ebd637ce66f8.jpg', '3f954905-b317-4e0a-b26c-2024d95318d7.jpg', '15fbad20-41b0-4f74-94f6-dfb235d0dfbc.jpg', '697fa00c-8bed-43d6-9b85-6745a57fa5a7.jpg', '1f840bd5-c3de-4f42-8aaa-1aa866314d5a.jpg', 'e1e4fa90-301a-41b0-9b08-8539c53dffbb.jpg', 'a96448ef-827d-4c79-924e-5bfd170254f8.jpg', '92ee615e-9de9-4f9d-b2ec-c7ad7cb4845f.jpg', '23ae6d11-b902-4aeb-a5d1-bb0d4c1e2d96.jpg', 'f479aac1-48b6-459d-ad33-95c2e0b8e0e5.jpg', 'b0218aa6-e534-4b72-ae5f-5ab94cbf5e35.jpg', '6dadd7b1-ba73-467d-a006-733abc41936e.jpg', '247d2b9a-764c-4765-8c99-ee03d38454a5.jpg', 'be7a38ad-aabc-466f-9aae-13ad46845304.jpg', '32e516db-249a-4ecd-b041-5bffa5a5231b.jpg', 'f95aaf8d-703b-41d7-b147-11cc3667a75b.jpg', '532d7419-04db-4af5-b0c9-0c168e12a8b4.jpg', 'ea14ba88-d33e-4ba7-b5a3-777c1a0c5c21.jpg', 'e65eb7f6-4d9c-407a-aa6a-dc80bc06173d.jpg', 'a6735e51-040a-4d20-af5d-209480c30bed.jpg', '6c651d30-bb67-4331-ba48-ddc99ca01297.jpg', 'fdf53a6b-6b4c-4ce5-9d1f-7b41e07e04b9.jpg', '1cdb1a35-33e9-4dac-a968-da9bc327d398.jpg', '36ddcf27-e12d-4527-811d-a1380fc91b88.jpg', '99948f2c-cc36-44f8-abcb-08c2ce092c4f.jpg', 'd311bdf9-49cd-4576-9fb2-571c6312b8a6.jpg', '6a396fae-0412-4317-9980-394284a13239.jpg', '87966418-d0dd-4b97-98fa-025d6557e949.jpg', '898e4675-a38a-4983-bb26-8d8e6e782d28.jpg', '978c70b0-979c-4e61-8447-d349f25c4cd2.jpg', 'dac6a7ae-4187-4a7a-b108-debdf1209d2d.jpg', '5a7e3cf1-7579-40d3-9215-b5223ce5f2f9.jpg', 'f84b68af-a923-4a5f-8002-488738e55d12.jpg', '2fdbd496-53cf-4d1c-a308-ba3cc90ebcf4.jpg', 'c7e2db21-a157-4d10-8890-430336e31c43.jpg', 'cec37b87-ffcf-41dd-b7b6-72f7d621f4cd.jpg', '602bd0bb-6308-47da-8def-513759a00b94.jpg', '17607fdc-574d-4e16-b061-ceb1fa9d5208.jpg', 'bffe20e9-4bba-4eea-87c9-b76894f65ca8.jpg', '13fe1571-cf66-4240-93a0-852f0e01b2e1.jpg', '01fc3cb7-af91-40d8-907a-598964cd90fd.jpg', '4960efe0-bb6d-494b-8c6e-c8f7760d748d.jpg', '569be681-f6ee-4ed1-942a-77c96e66b64b.jpg', 'c1e78aee-d381-4e59-9d3f-d477ef61ec8f.jpg', '2d902428-ebdd-4fff-a088-7f2ffe492444.jpg', '04ce6dfb-4277-4424-99d1-90f259f2b65a.jpg', 'd2b56703-54f6-465e-9fdc-fc5386b2f571.jpg', '19ae4d27-c81f-4c01-8c0e-6984c1b78eb6.jpg', '4e7a3f8d-7798-4f45-acfe-c795176f9cfe.jpg', 'ba65722e-4cc9-4a41-a5bd-a39958d45e86.jpg', '02551507-f91b-424a-8214-4dfa28f6cdbb.jpg', '4d6b0721-e4b9-409b-b9c6-7ec98130b666.jpg', '5048d2b1-f1cd-476a-972c-0d3bf04d3b07.jpg', '87b89c46-bad5-4b08-94c7-dc0818d09988.jpg', '7e0cf614-3a8e-455c-b3e6-52c2a5d8c80e.jpg', '5440219b-ac77-4e05-b168-5a2349e0ac43.jpg', '52661657-9e88-48cf-a24b-f3501e787fb6.jpg', 'c3d4cd3a-9d14-4ad2-8914-d2d19adeb9a5.jpg', '6abb6b5d-f01e-4ced-8371-a022074d05bf.jpg', '492a7e2d-f90d-4f1f-85b2-597355380632.jpg', 'af2d8784-6af4-4a3f-aa1a-3c758917ce66.jpg', '8ac85a99-a6de-4c61-803f-2a631e341f64.jpg', '847ae364-b156-4fcf-9f4d-1d97235bc246.jpg', '5b21ccdd-68f9-4e90-a7d4-d27215ffbaa9.jpg', '6626951f-e304-4e2a-83b1-9cdd2c642153.jpg', '3cff9d79-bf44-4f0e-970e-31004e157383.jpg', '81228ddf-b598-4cf8-9afa-f1900f0fc8f6.jpg', 'd4b4a4ef-b0c5-4d44-a89d-102a11e3882e.jpg', 'ebbed0cb-e2a2-44d2-9178-cffa43658f5b.jpg', '1b8bf054-9dee-42e7-a000-423205519281.jpg', '2b4bb71f-1283-4cd0-ac2c-0eef022dfe2e.jpg', 'e78092f5-c780-4b6e-a1a1-41def1d1db6d.jpg', '43811be7-6159-430f-ac4c-359e4aba832a.jpg', '622f476b-a603-4684-a7e1-2f327a9e0871.jpg', '0d2aa843-8009-48a2-a308-af3fc0952bf9.jpg', 'cec1fedf-3fd8-4a41-96f4-2f80c4be0f85.jpg', 'b6563d3e-eb74-42df-b7b2-5152cc7b3789.jpg', 'a0525006-94c2-46e8-8f1c-2eb596bcef90.jpg', '02be272f-4a75-4b9f-8d95-069197c9ea48.jpg', '210f1a47-0c31-42fb-a8ea-51876dd4cc3b.jpg', 'ecb807ec-2f88-4f83-9272-e3159d7c8223.jpg', '2203d9ca-7190-4c05-86f7-a8017fbd1cdd.jpg', '45150aaa-2677-4381-aacf-12f8c94d955e.jpg', 'efa7923e-4f26-42c9-b186-18b8f0ad83c9.jpg', '48810224-cfc8-4689-9c64-36447024480c.jpg', '920ce359-ceb3-4954-932c-2443b24aafc4.jpg', '1121b332-439c-498a-b77c-912b5b5e3cc1.jpg', '76fada9d-aa78-44c9-8f2f-68fd66e60304.jpg', 'c670ea30-4c5c-42c0-bd87-31fd271addb9.jpg', 'd04600ca-b07d-4e03-a540-b2af41d61991.jpg', '729963a1-1af4-4a5a-b187-e1342f47dbcc.jpg', '74d527d9-7857-4864-85e6-14bd7f241d01.jpg', '1b167450-3766-48cd-8eba-fdfcdc65454c.jpg', '9c4d07ff-5d3f-4bc2-8a5e-417996739a3a.jpg', '29d50ec2-fe1e-4787-980e-1d7d4e4905a2.jpg', '010bd2ad-2fda-47a7-84cb-8a0dad7b6123.jpg', '2d95e54e-4b69-4673-90ef-60d68abefa4a.jpg', '0c3790e9-dcc8-41db-944c-8fc1317d9ce9.jpg', 'd45613a1-3143-44aa-9240-f56237236fd1.jpg', '635676ca-0c6e-401c-ac49-e84cbe14aa10.jpg', 'f735dfce-ad0a-4384-a9e9-1f67f7948f1e.jpg', 'ead9781f-6852-4f49-a64d-320921fe6b28.jpg', '750733e9-4c59-49cc-85ee-9c99558ac5c3.jpg', 'ae744ccc-34ef-41ea-91cc-26869a2e7be2.jpg', '68e53f75-5dfe-4ea4-b2e2-5c2d648148b1.jpg', '225ab3ab-9f39-4240-a66b-f9b5d05c128e.jpg', '1f6cfba9-9e6d-44ff-b3d6-a02ca131c02d.jpg', '5e3d143b-e2dd-4fc4-93d2-14c748b2e85c.jpg', '9a180758-5a09-4fc3-a44a-8ffb3c1a3245.jpg', '28c79501-b6b7-4e68-8c0f-74a83d166fb9.jpg', 'e70f85e9-76f6-42a3-9b4f-d009b30200c6.jpg', '179cbb86-fbe2-422d-9b5b-9ae9eb083dd0.jpg', 'd8be15d4-edc9-405d-9dd1-3e83d7c659b4.jpg', 'b4c089e7-793b-428f-be88-dfb19e4e3587.jpg', '905cd8a2-de48-46d0-8999-1cb1ce731c6d.jpg', '05850d80-754e-411a-949e-6a545cc94fe3.jpg', 'a47f12c8-ca85-49ce-84e0-5340854649f5.jpg', 'bf977eb8-e0c9-4797-9130-546db444b051.jpg', 'f8fd77a6-a24d-4a3f-8086-0c86c7769439.jpg', '22c651f7-5749-4f7d-bf91-6d59f0a72c6e.jpg', 'b6a2814f-e981-4e2f-8541-148fb66da4de.jpg', '825c226d-4872-421c-9fec-28e53a319452.jpg', '8d50b18b-bcc7-44aa-a32b-f120a066d3a4.jpg', 'ed334a1a-e904-491c-bb61-2b804dc6942f.jpg', 'f3e571cb-4ef6-430a-903f-28c5e0407f65.jpg', 'db7d8ef5-6286-475b-84b8-6900c37ee812.jpg', '4d298e78-68b1-4434-8ca7-8a366cd04029.jpg', '4817c37e-7cff-4456-9043-de7670f779e0.jpg', '1218c469-773f-448c-8247-369d298dc81c.jpg', 'd95fa72a-fa8c-4a72-b540-0bd15f855719.jpg', 'a932bc88-81f3-4efb-aa19-fc0e8979b53e.jpg', 'a4939359-28dc-4799-8335-868ef9876602.jpg', '6c9594e9-fefa-4010-9a36-959b7eb37786.jpg', 'f0c603c4-47a9-4d6a-a589-6072c8862c88.jpg', 'fbe6649a-473e-4843-bcd6-83513be64b27.jpg', '34ef752a-cb50-47fc-ada5-aa085aa3c869.jpg', '9bb1aef1-e6b6-4504-89c1-707b64dde839.jpg', 'e952347f-0dc8-43d1-aa28-bf7257a4a64f.jpg', '2579c5d4-d684-4a92-b3fe-ae2d60ebe64a.jpg', '62134b93-8345-435c-8d71-381da3d195b0.jpg', '5897a316-7e9d-4423-a00b-6a5607118090.jpg', '09e962cd-7d30-413a-a286-62d87240c4bd.jpg', 'b987139a-997f-43da-81cb-eca2761adab4.jpg', '2d564401-ddc4-4ffe-94fe-0bf5b4d78c0e.jpg', '3a79c22d-5b30-49de-80d4-162aae6dabd7.jpg', '85871ea6-73ee-47f8-88a7-b479221b70f6.jpg', 'b5582ef8-9dfe-4c14-b4a0-c1d049dec99b.jpg', 'df8e81bf-cb0a-4bee-a3c8-343a65beb437.jpg', '488f63a9-1909-43ee-bf75-1b0706957d8b.jpg', '44e76d8b-2f87-4ee6-ada5-628b648644f6.jpg', '50e517c0-bcd1-4299-a7f5-05b665e36b37.jpg', 'ccccbaf7-4ba7-4762-8dab-09dee6b35621.jpg', 'e725cfa3-5727-43d7-932a-ed79ff0dc376.jpg', '2043f973-1cd6-4a6f-9e3b-9e70185bd195.jpg', '0473a36d-a42b-4cb7-bcef-3aca60784d15.jpg', '3d291851-cfc7-4c87-8117-9f4305007847.jpg', 'ead1f90f-2162-4668-830f-6d6ce503df6e.jpg', 'b3c79fbd-ae62-4ca8-8e20-d8b25d4c2afc.jpg', 'c8ac38be-d93c-4303-8c6c-6efa52d84fb4.jpg', 'ba524c3f-be30-433c-8117-57a2d01f4c34.jpg', '23a9d606-b6c4-4385-9ba9-317b7845d86c.jpg', 'f8c0aa04-930a-4f1e-bac5-fa760897a618.jpg', '56ad523d-c20d-4445-8eff-6b7d0ed29d38.jpg', 'd3f4de8c-857c-441b-a907-5fc131d43180.jpg', '6536dffe-df50-4448-9e8d-6d78c9a22edf.jpg', 'fbe15771-e2a9-41e2-84bf-c1b49ae5d7bf.jpg', 'abe48c17-d660-47c8-9cb9-753e4ba4c871.jpg', '6f33ed16-e0d0-4ac9-a942-ec1a2151cd8b.jpg', 'c3dd5a35-6c52-4a45-be0f-6f1604bce80c.jpg', 'e825ad37-883b-4568-8182-97ec4c189fad.jpg', '236df09d-b2f9-42f7-9e6f-f94aaf875e0a.jpg', 'd0d841da-3a1d-4970-92e1-c08567f2d8b4.jpg', 'ce438385-45e9-4954-8272-137eb1506607.jpg', 'b6f303c3-ed95-4594-8d9f-80339fbeee02.jpg', '502c7d65-1251-44b6-b65f-f5d16bd05aa0.jpg', '07fc5b9d-e41e-42d0-bb07-7dd45856b9e7.jpg', '73cf6543-831d-4fc8-a414-825f397a835c.jpg', '96b0d992-5be0-4570-be9d-043e07e5b5a3.jpg', 'e8ccca58-bbe5-4053-918a-311aeee4ef2c.jpg', '16608916-6779-4953-a652-e5607cc6d914.jpg', '8b90dbb2-0a48-4399-91e0-6f6d3765639f.jpg', 'c46f03a3-85f7-438a-83b1-4ca7c6cc19cd.jpg', '886cc4bc-aa8b-427f-a512-3decdfedfeeb.jpg', '34ade2eb-58df-490d-8788-74e8a2760ccd.jpg', 'd5329ded-619f-44de-9da5-4258b8f2471f.jpg', 'ddd19369-053b-4f9c-98e3-ef29a287443c.jpg', 'ca3a4240-e621-4f96-9c21-6fa46a454aa4.jpg', 'fe82dd60-d47c-4488-8e06-808873b0a21f.jpg', '2ded3ac3-320b-4c30-9249-7eaac8d532eb.jpg', 'ba4d9bfd-ebc0-493c-8905-e2e5b46330e1.jpg', '5ff5e290-07eb-474f-8467-0d7f923bb6e8.jpg', '4ded8054-0f47-4a51-965f-28cd673d954e.jpg', '918b178a-f534-4c6e-9b99-9c1df86563ff.jpg', '9457c2ae-cb2d-4382-91d3-7f8f6bae657f.jpg', '86a4f578-03b9-476a-891a-b6499e02659d.jpg', '2e7d31d7-55f6-48d5-8db8-d143f08c1511.jpg', '6efa2585-2946-4d25-bf1c-b10943e32d00.jpg', '937859d1-dca1-4e2f-87e4-0dc448ced20e.jpg', 'd61c78a8-d8bd-4895-bd60-66879a42eaa0.jpg', '4928ed6a-3071-4d52-a584-4bd317d7a2c7.jpg', '33e6d2c9-dd27-434a-bf9a-4f513c75c8a2.jpg', '1e727c3a-49c9-4eec-a16f-4bab0111122e.jpg', '50b5f7ba-2126-492c-ba44-a08db977a7dc.jpg', 'aa9f3a6f-1ce1-474c-8049-94d560174cf8.jpg', '215f5f38-7c2a-49d8-b540-4f96baa9ff4b.jpg', 'fc9b7789-c9e3-47de-8383-db779c4bf0af.jpg', 'ac75f2a2-0312-4dc2-8a76-6110e85e380b.jpg', '63db7f4b-049f-458e-b74a-0936192898f5.jpg', 'f7b338b4-5219-4f91-b2f0-34a216d25725.jpg', '1a9bfc29-f2d7-485f-af98-b9028e75ea2e.jpg', 'de900e67-d46d-40ba-aaa7-30b85804a3d5.jpg', 'dd498163-19b3-472d-a19b-8dd5ff3ee157.jpg', 'e1f16a9a-1102-47ec-b13e-11705dc5d237.jpg', '56aa1865-483e-4f3f-9e25-f45e93302618.jpg', '268bb556-c384-4675-abdb-59b277533d21.jpg', 'be5bf20c-652f-46a2-92d4-a6da324bdbf7.jpg', '3ace9575-6ff8-4e8a-8fd8-c13054fa5d2c.jpg', '54cf8a6f-23a7-44a2-9387-627327d7688d.jpg', 'e3966080-330d-4f24-bdbf-da2d73f8ac6f.jpg', '1a44de76-1b17-46bf-a508-3337585e994c.jpg', 'bea01a45-ae5d-402e-97cf-55fc835fe947.jpg', '530a90b3-6c40-4b3d-be70-02cf9fb25776.jpg', 'de4b5f58-ce96-458d-b39f-28248febe5fa.jpg', '632b611f-bb4d-43f7-b22b-50c95a4834ae.jpg', '453abc55-3c79-45a3-b641-792aa9859443.jpg', 'b858a6f5-c054-4d75-b310-231cb8d7a4f8.jpg', 'e9c51e2f-bbbf-4f55-b75a-0f6aeb09e0fa.jpg', '879f95b1-95bc-4fca-b58f-85ac977e8283.jpg', '093e74cb-bb7e-4de9-be34-108aeea2768e.jpg', '143b3131-8eea-4244-9fe5-b86e66e52457.jpg', '71fed9b3-0c49-46b7-8a7b-f0d2ec821510.jpg', '8b5885bd-80cc-43fd-8cac-16a78ac6fe23.jpg', '74ede984-c82a-451c-a2b6-5365000c0fe2.jpg', '2fcfee58-09f9-40e7-ad1d-ae9c7c62adbf.jpg', '62ce3641-8dd0-4cec-84c4-a1a74618e54c.jpg', 'ea976015-3f42-444e-a012-a04b075fc883.jpg', 'd69aabeb-9abc-4999-9560-2ff51f5d5089.jpg', '540d7702-b3fb-4385-a3a2-7e0b191dde60.jpg', '0aa36c76-edc9-45aa-802a-3a0659eaba42.jpg', '14cc9757-5cf2-4154-804d-e74ea228dbc2.jpg', 'ee608ee9-e174-496d-a248-35c62512de17.jpg', 'a3f6179b-d80a-4447-95e7-d8b695a1ca97.jpg', 'eeae79de-7275-4bea-8902-ec7d408e1c7d.jpg', 'cb4c1438-926e-49c8-826b-e0b547c5bda8.jpg', 'beaae1dd-d3b4-4d03-8b05-384de1d9d5b3.jpg', 'e52533ad-8ded-4964-aa02-47c455dac51c.jpg', '87930718-e38f-43ad-84a7-435ea9b5c7cb.jpg', 'c9dc68b1-fb45-4000-9d4a-4d7b7ede8cda.jpg', '2e32e7b3-bc85-4734-bfcc-0596d48e7f7a.jpg', '4c10691d-727e-4310-9197-1eaa1f13fd50.jpg', '181ddf54-bf5e-4b77-a0fe-bb322fe7ced7.jpg', 'a0a0238c-b428-4e38-8c92-e8bc3150c14f.jpg', 'ddd9d93f-8cd1-4ab6-b977-074cadcdbcd6.jpg', '1a458dce-6adb-45d2-8fb6-9aded4e1b101.jpg', '7cfa8e78-dff8-46b4-aa21-145b9b79b544.jpg', 'fc54d571-bb98-4968-8497-4dff15531f65.jpg', '21563c98-e7c1-4d2a-bec4-d6000b5f853c.jpg', '10c68288-68af-4289-b550-ae97e5810481.jpg', '4bd393fd-840c-4133-b26d-040762f9403e.jpg', 'e41bb46d-190c-40c8-8802-24e4c13f74b6.jpg', '3faa36b8-e117-4720-8df5-6f4ed19f9530.jpg', 'd145296f-25c2-41e0-a6f0-33d4f89fc98d.jpg', 'df264460-0c5f-4eb5-840a-38c100597a46.jpg', 'f9a6c6f1-b2b0-46b1-b342-d821c5c305ad.jpg', 'e5f41528-4586-4d48-af2a-86be9d844cd0.jpg', 'a8dc9b4a-3a86-4f44-adca-fdfdf8dce3ee.jpg', '48368fee-68a1-4d13-b223-ed23c8a749d6.jpg', '21c6ca1b-ef09-493d-b612-b89060466774.jpg', '7cc763d8-34c6-4a01-9f8d-6bbacfd8846f.jpg', '7bf873f8-fa12-401f-9fe5-dd297242b486.jpg', '5369aaae-ee8c-432a-a6e0-724270e6632e.jpg', '8e1b3a79-e776-4efc-9a33-ebbbb8165a07.jpg', '9dfd6eb5-bedc-4bd4-870e-df506f690c5e.jpg', 'cc9ec1b6-2ee8-4920-a2a1-596eb3622613.jpg', '07b5f5f4-7b76-4cd2-ace4-384270ef336a.jpg', 'edefe41a-1495-4839-a53c-44cb40f7d46e.jpg', '9e3a94f4-ed65-4848-b573-fb9c084c6288.jpg', '42f817f9-daab-486c-add9-511082a7c28d.jpg', '66620575-48bd-4d7f-a96c-9e166e6577e0.jpg', '68a9ef4a-dc40-4b98-8075-2fb80dc5cfb4.jpg', 'e818b2f4-32d3-4f16-8b86-389ad1a96269.jpg', '0792212f-62e0-403a-8785-2a04dfbf9530.jpg', '58821673-5ed7-4fab-8d5d-01dde8540ebd.jpg', 'c39f9c9d-0255-4bc3-8927-5bfe2e26abd6.jpg', 'fb8e2ae6-a132-4b11-8806-b881394b74fd.jpg', '814618b2-8449-4fc0-ad92-b07ec28c9da5.jpg', '3afbc7b8-bfc4-47d2-90ab-b48640d0901b.jpg', 'f0daccc4-e61f-48a4-a3f9-6327f4828ebe.jpg', 'c707f9bb-4442-438c-9069-c23a3211a530.jpg', 'c7723d28-e656-48d6-837b-9f2c0c6203cc.jpg', '14f81d3b-d219-4853-b5fe-2af1ffe77a29.jpg', 'bd135cd0-da5d-4f3a-8b0e-492296ae8223.jpg', 'd223212c-3e6d-4c7f-9c1e-e19d1481ff5f.jpg', 'e6c6a9fe-27ad-4e44-87a7-b61117a045a2.jpg', '4d4d2eb2-acb6-4717-adb3-9ea7263a9b06.jpg', '8d39fed6-69c4-4547-aa12-10a507af3f8d.jpg', '8026782d-7722-45ed-b115-15c794cf4aea.jpg', '9e7b3671-8ef6-4b49-a30c-bf5b60d45ca2.jpg', '2a209504-a0d0-4d06-9454-b047a68274b6.jpg', 'd26f03ce-f378-4c97-a4f6-da7f513c8021.jpg', 'd5523491-30b9-4376-882e-455e72a484a9.jpg', '8ca9f93c-957d-493d-bcc8-86e1147ed905.jpg', '3d392a66-6e43-4c1c-9134-8bc57e7a632f.jpg', '0bf100e8-7259-49f3-93a9-d771615c464f.jpg', '605c5c57-e402-4123-bdd6-481de37cfe5f.jpg', 'e6f040e9-ce07-4ae1-8494-045cb2ee5562.jpg', 'bf0bae76-8ee1-4f3f-9b9a-b3ac353f4f13.jpg', 'd1583b5b-c78d-4dc0-abee-60a13c351435.jpg', '5df3f9c7-2d21-424f-a67b-6f07a87c9901.jpg', '16f56e30-ff29-4252-84d2-4e72f7c6a6d5.jpg', '01add505-c847-40d3-8663-0931ff051ebc.jpg', 'e21894a9-7c2a-4b11-83e1-4d0e2e31dec0.jpg', 'ddea73e6-7cdb-41b6-bcf6-3f4c7ee9dd1f.jpg', 'd51464a5-8a50-47f8-9993-2812e3bf4538.jpg', 'b9da201e-6ba8-458a-902f-c7d28a49ccd8.jpg', 'ad621c70-6f0f-4dd2-b384-b2d131511f02.jpg', '1f5683b9-9448-4489-85fd-ebab1137c96b.jpg', '5c85847b-2355-4364-b26c-f392a1438ce0.jpg', 'e01d165f-b894-4eb7-95d3-4a5bacf06886.jpg', '81b6f6a5-aab3-4f2c-b821-0104dec25311.jpg', '1e6aa994-3ec0-4d86-ab66-9200f06210b9.jpg', 'e2ca1db3-66ec-44a2-b2b2-b06d1ae1e47b.jpg', '8628e9b9-925c-4832-a9cc-86a9d5704e1b.jpg', 'f1d4b864-1f4c-4517-9c15-ea2488c3dc33.jpg', '4359433e-aa04-4279-aa8c-62935e4c298a.jpg', 'a8d5f4e5-1901-4ee0-91fc-a6ceb3f42556.jpg', 'fdd8a66c-ed6a-491f-9b62-49686d169fda.jpg', '66c599b2-2a80-4163-94fd-37181d2db4b6.jpg', '4de65cb7-8119-4aa7-8b21-fdad813fa744.jpg', 'fbf0bcd3-64af-4afb-abe5-42a9cc82f801.jpg', '172eca62-5b46-4ec2-91f2-4269cc7d9cca.jpg', '686b625e-c7bc-454d-a30b-bdf4a2150289.jpg', 'da19393b-5a72-4dea-a477-f19a1dd7bb69.jpg', '7eb0327a-3291-4d06-8798-4cd897d6d5f1.jpg', 'ec0c6fc5-5c87-4ae2-955a-5176237a6cce.jpg', 'a3ce9e0c-7094-4ac7-9b99-4835a6f17bb9.jpg', '7f6fe042-5d2a-4a03-85d7-e651cf3ed3b1.jpg', '6fa44747-a00c-495b-9920-1e66158236a3.jpg', '41c94ffe-076a-4f8b-8965-ad8ab7001158.jpg', 'de8787b8-e899-4238-973d-478e02dc7b21.jpg', '133dd85c-d3ee-4e43-90d8-89c3f72ada69.jpg', 'f9481f2d-5bb1-4c31-9692-178548484fe9.jpg', '37b20914-15c1-4715-addf-128ab222ee0b.jpg', '20804e61-38cd-469d-a503-bf7a0f6c7d51.jpg', 'be32e1c5-2363-4f76-b244-78ce0a6aadf5.jpg', '2b3fa44c-b1b9-43a6-893f-28ca6711da9d.jpg', '3fff8769-4210-4c87-a25d-b700dd84f9db.jpg', '0e3ff6b6-4fe6-4e3b-9eb4-ab81a583d037.jpg', 'be3c5d57-8466-4e1d-aa41-a41d465a6144.jpg', 'a7af9f14-c16c-4e3f-8d78-00ceeac9300c.jpg', '114291d2-77cb-4d44-8434-8f6a29cfe77b.jpg', 'a624044d-d50b-404c-a6eb-c743d9ef97cd.jpg', '9dedf9a8-f9b6-4ddb-abee-1982df6caf1e.jpg', '9255618a-4122-4312-b811-3622372b3e8c.jpg', 'b3af9e93-c002-4cad-b86d-c8f55f087841.jpg', '33aaa077-4636-47fc-bfd4-569c882f5ad8.jpg', '9294f5de-e388-4020-b990-6806f288d1db.jpg', '543c7346-d8b2-45c2-a82a-8b748d3835b8.jpg', 'a5a1fd50-a16d-4fe1-aeab-a975618e632c.jpg', '649477ac-953d-4846-ba14-574749218fff.jpg', '80e045eb-974a-4b1b-8b9c-566d4a6e682f.jpg', '850b3599-1439-43aa-8a81-e6ad4dd1ea40.jpg', 'c0a1e919-f6a5-4f93-a46c-14039c7ec491.jpg', 'ba8343fb-aa26-4c60-b8f7-e4bbcdd8d28b.jpg', 'e971f847-eeaf-42c0-9559-d5327b5ed0e5.jpg', '3c9611f3-1af7-4144-9838-421d3310914a.jpg', '8231ae34-8663-4f02-8a5c-1a3b2cf768d4.jpg', 'a490280c-b149-491f-9764-f0500c23bdc1.jpg', 'baffdee7-da7c-4bbb-ac01-9b2c67f39daa.jpg', '862dbbcb-7b67-48b1-af74-9f37325e1245.jpg', '81048a85-7e3d-40a1-ab63-122bd352f7f5.jpg', '41b7d609-e69d-4349-a233-ecd2276f3a39.jpg', '3b38db7d-7be3-4c1c-a844-18b69e9e9b79.jpg', '105045d4-8f91-4757-8413-c16ba155f5a9.jpg', 'a0eb03ae-78b7-4309-9155-034b0a39acc0.jpg', '3c0a3bfc-0a3f-4ffb-aeec-8618fad41547.jpg', '8a4355bf-3a65-41bb-be29-ba0ef3fc8612.jpg', 'f07c1a26-c2b7-441e-a52c-6831ef00b913.jpg', '5458179e-6830-43ea-a789-f9d91d90a1cd.jpg', 'be974099-bee3-498b-bef0-1a57b8823c52.jpg', 'd74c308e-10d6-4ea5-a44e-fb2d783c0fb4.jpg', 'd7e5d024-b509-40d0-9fea-3b4205eb9c35.jpg', 'aa28f28c-4695-49a2-bf90-a79ccffc1a51.jpg', 'a628fedc-df26-41c4-bf6b-518a3a7bb666.jpg', 'b13641a5-cd36-4138-aa76-1468eee699f7.jpg', 'befc1c8a-0b3b-4b11-8a36-a3c4b5a8ed8c.jpg', '522cdff6-55c9-4b43-abfb-ae1682e03f59.jpg', '2d9cd41f-52da-4092-b4ea-6c8367231d1f.jpg', '85aadf15-f9e8-43b4-9702-0b4c58a07e9d.jpg', '332c0be4-78d6-41b3-adbd-10cb47b29ebc.jpg', '47828987-7442-4180-932e-c8134680879b.jpg', '4977db79-493d-4dc5-8c72-b6d81a9b5aaa.jpg', '91aaac25-0ed8-4a88-a86a-5a48a84c0742.jpg', '25db1d98-0c2e-4be7-86ba-1aac9f2979c7.jpg', 'c68fc0f1-fa49-4913-9516-fd9ce86db679.jpg', 'c2946b92-6962-49ba-80f6-69823a196800.jpg', 'ad7ccc70-c201-4a9d-b630-4935abbd5846.jpg', '8a62322c-e94b-49e1-a8af-fc8a5c20053d.jpg', '161232aa-80ee-476e-a6b5-715649e8f699.jpg', 'c09b6e27-7af9-4498-ab65-fc72ba00356e.jpg', 'acd49884-6064-4cbd-89ed-7e2003b960c8.jpg', '107b1739-2656-4c15-a00c-73d5b5b28d56.jpg', '46b2d69d-d9b1-4455-922e-96ebe044cadb.jpg', '0edc7910-7491-42e6-bafd-3ccf38e9eb53.jpg', '31977612-d63e-45b6-ba21-f3c10251fac7.jpg', '9f3ebc63-b3c0-4ece-9b34-7cce77ec7736.jpg', 'cb60cc6f-4bbc-4474-bfe9-e4ce84b90ba6.jpg', '174efce9-cd9d-4ea5-86b2-1f19e3dad7a9.jpg', '48354615-1d56-45af-83c3-c4b284259f15.jpg', '6a47737a-0971-412a-b475-2246d2907f61.jpg', '8450ad39-382b-4cbf-a6de-94da714c8edd.jpg', '80a7a298-2e33-4308-827a-bf69cee749f9.jpg', '2bb67c01-eea0-412d-bf04-1259feb4b025.jpg', '514c5020-33ce-4223-9c84-ce4d1de05d74.jpg', '373d35c3-701e-46c4-ab45-43f6250939f4.jpg', '29b4b8d6-7f85-4391-a729-9d252961c80a.jpg', 'd15338a1-f867-47d7-9623-c10f57bfc3fd.jpg', '424b8e1d-a0e1-496a-9fd5-d7e076059b5f.jpg', 'c1cfc881-4f7a-44e6-970b-8a762827e826.jpg', '5fdf51a8-79c3-4956-995c-5ca4a5a51248.jpg', '8afbed4e-3d6f-4c22-b4bf-a50a66e4c98f.jpg', 'd765337e-ba94-4d91-ba8e-73bd21b2269e.jpg', 'a0ad4640-6f08-40e9-90f7-579291a83c70.jpg', '491d2da6-3ad8-42d2-b759-2eea64333f9e.jpg', '06fe3410-87b6-4d8d-a264-69f29374ad96.jpg', '710d228b-abfd-4f9d-a8a6-d33dfc721b77.jpg', '35745e80-aace-4271-891a-27419f7ff5b5.jpg', '3d222655-ea68-496d-8f5f-80d58681f147.jpg', '376c7f45-6237-4138-aff3-37db86998e6b.jpg', '8aff3a75-a749-41e9-8283-8557794cd165.jpg', '4275d521-a838-4692-a106-aa03d0e69530.jpg', '4599cccb-4433-40b0-ab40-864bd384e5f7.jpg', '2b637911-b000-403d-a8c0-3c646575b10d.jpg', '62c62c74-f2d6-4573-ac8d-0b6a03dbe1f8.jpg', 'ba62fa32-789a-4ea1-9c2f-ceb6272906ef.jpg', '99dc0154-d048-4e08-baa6-c904075eabdb.jpg', 'd9a31bf8-7e29-4877-b840-eb133aea8ec4.jpg', '711dc344-656a-4d09-8989-35c715092271.jpg', 'cc98f5fe-6837-48a1-a27d-4556b095e997.jpg', '5e02b3fa-445d-464b-8878-0ba3c2794fc9.jpg', '0a65c565-66b8-4cf4-b28c-815fd5fdff5f.jpg', '96e065c1-4f54-4f62-93ed-cc7e1f0561e5.jpg', 'f7aa9d21-7272-4609-9046-2d4f1dd94d5b.jpg', 'a90c3522-31c3-44c6-9e59-6f1c1134ea81.jpg', 'da9e9cc8-faea-4976-93ac-98dc3e865a22.jpg', 'eadc231c-695e-4451-beb4-6d07e3271374.jpg', 'e5980aa6-4f69-424b-ba04-8b5e495a546c.jpg', '4d347c12-6e07-49cd-bdd9-469312c25ab2.jpg', 'dd7891db-627b-4751-ab15-6ea79e6aff2d.jpg', 'dcfae8c5-fd97-41a8-8708-83de33d359b8.jpg', '6e9d1894-99c1-40fa-8b2e-d8a067633a71.jpg', 'c256db3d-7fe0-4e07-bc4e-9fe2ba365b11.jpg', '8f680f56-5f93-4508-8e18-e48b21399cc1.jpg', 'bdf2446f-aa41-408d-b333-12b577b190eb.jpg', '75cf3db6-d7d6-4ae9-9639-42b96ab8eb08.jpg', 'd84cbe98-009c-4c68-a2df-44ab086dfa2f.jpg', 'b4f492c8-0773-45ca-9a9e-6befc124b833.jpg', '33ed95f8-41d2-4e4b-8fbf-e48be5bf5c71.jpg', '4a2d5af8-3417-48f6-9eae-9773f25fb1c8.jpg', '1f275f81-e158-4819-bd11-6f0909d90203.jpg', '4cace7ab-dbcb-4b4c-b652-193513c16cfe.jpg', '118f33c2-d05e-4116-945b-f68e01f33090.jpg', 'e767e4f7-1d83-4941-bf3c-866554ccd20c.jpg', '3cd3dc26-b094-4dff-b803-27e464b1876b.jpg', '1b11c732-6b97-49e1-b3bb-3b4bb7b14d99.jpg', '5046b565-17a7-4816-aebe-b3926571bd16.jpg', 'd827ed69-dff2-4e1f-b8e6-2427ddc0ba40.jpg', '4d8b066a-a807-4e86-813a-e5385c8dec5c.jpg', '88294eed-74f5-496a-8fa4-c4b4d5ca3cfd.jpg', '18a094f1-3f5a-4694-9bb8-4d8b9acf5e16.jpg', 'e790031b-590d-41a3-9f6c-951a03b2d8dd.jpg', 'fa2906d1-ddb9-4904-8cac-401ed8325616.jpg', '67107b55-1e1d-48ea-8815-d2019a7fd6ff.jpg', '356b0f02-ea88-4b89-82da-885c121ec642.jpg', 'a58c2c28-ef2d-4694-93df-41fccd6c8f11.jpg', 'dc053fe7-12bc-4f5f-95f4-878a12a57d0b.jpg', 'f308ba75-f97a-4e81-bf0a-e40ba95426b5.jpg', 'bc486a68-0eb7-4f9f-add2-dc3a27fa0ae6.jpg', '35d8c476-a51b-4146-bb42-88e532af9d22.jpg', '45421c4c-57f5-4120-9290-189bdcbfa74f.jpg', 'fc53eef5-1ceb-461a-8c7f-f73ce83055fe.jpg', '8397fb46-2e53-4c84-82e8-54d50d769915.jpg', 'e9c73212-e10b-442e-92cf-f4b669cbace3.jpg', 'ddafd0f7-b34a-4f05-9aa4-1f1ba5efeae7.jpg', '245d02ec-3d2b-4ffe-ae50-6bf05534e857.jpg', 'f07c27b7-e594-4cc2-8e57-d39f82f58994.jpg', '3fbcd72c-b4f3-4b68-8bb5-965f25957cb3.jpg', '55f33c49-def0-4273-b509-9847bd129186.jpg', '4a6bc7ee-ab61-4518-b059-54f2920d649b.jpg', '241191a6-427e-4443-90c6-155a0e04f86c.jpg', 'e41ac843-08e4-4102-8ee0-30eb067d3a88.jpg', '9ca1a7a5-1ebf-4e3a-ad44-bf4b0a2bb377.jpg', 'c1b60e99-73c9-4e62-86b1-4118ab34f62b.jpg', '9254e3ab-c1c7-4de5-9a5a-12662dbe9aae.jpg', 'a6b86a61-11a8-4853-8e58-6535d500f823.jpg', '6310a5c0-890c-4b17-b4a1-f31bbc94713b.jpg', '3fc8008d-d014-4afa-8e26-6fa5c4911d9c.jpg', 'e3a78216-ee00-40a3-9437-a9c8f14904f0.jpg', '3c238e08-3e9e-4ddb-83ff-21c5d3486a6f.jpg', 'fd73019f-c19e-482b-a25c-f8b538fc6f85.jpg', '4d1b195e-c936-40d8-96d3-2505a2e47fc7.jpg', '0333807e-0294-4059-adf9-30220c8d91b9.jpg', 'afcce1b6-c13b-46db-8ee0-038175216b0d.jpg', '9125629b-f9b6-43b0-8840-5e5e2cf96ddc.jpg', '04c6ca1b-501d-4fe9-b533-19a61dcd9ffa.jpg', 'acb14ff7-a0f2-4395-8429-f76e4d1c91ea.jpg', '56013710-df24-4b12-9eb1-5084a042a656.jpg', '88ededbc-9ce0-4cf7-82d7-0ff16a36ba40.jpg', '2be00e81-d9f4-44b1-9c19-bd5db475be50.jpg', 'f87d832a-3b93-4ed4-9ed8-fe15cb94ef33.jpg', '9d73cc13-4e49-4178-90cc-ac6ec221e4c2.jpg', '8d9a7f3a-0624-4e77-8d2e-fc5b7e3c4819.jpg', '7cda0b67-ef3f-418c-a508-8a9ce1faab5a.jpg', '2401c0b1-56e2-4509-a0e2-fe98a82c15c6.jpg', '73cf463f-782a-433e-9bb5-3c93ebd3517a.jpg', '2e85ad6f-b32d-40a5-a633-8b621cd8d272.jpg', 'c290e7ee-79a1-430b-8227-c23a62e42843.jpg', '790f352a-1459-468a-aa9e-355391ee5921.jpg', '2edd8a24-2080-4ec2-bdc3-bd29bc0ab337.jpg', 'dfb19347-fffc-4c9f-a2af-df6f6cb4d4a8.jpg', 'f32c8dfd-752b-41a2-aca6-c252ca9b71d0.jpg', '88cea4dc-3a4d-480f-9b63-d17e7da1c965.jpg', 'a19ab504-0301-41c2-a3c9-3666e343f2b3.jpg', '225d093a-ee81-4f9a-a2bd-146fd96facc8.jpg', 'd7ce751a-85e2-46c5-8174-d785fdf2be02.jpg', '9cad673d-ad46-4a59-bc4e-234993806e70.jpg', '4379f970-bfb3-48db-a77b-baeab86dc952.jpg', '2aa943d6-b171-40de-8845-7a6489102714.jpg', 'd2d1112f-c346-44b2-b895-f716644fc923.jpg', '061802ed-35f0-43b5-a250-7b58dc24015b.jpg', '9a29e02c-dc84-4c34-a5c9-7f4f1300908a.jpg', 'd54776ec-0ff7-448e-b0b9-c234360444b8.jpg', '4a74cdb0-61a8-4a20-b561-d1c942159eee.jpg', '0f7ecabd-3e65-4549-89ea-72fa8d9a8052.jpg', '4b8086af-2e89-4569-96c2-12cfce5d117c.jpg', 'f651071f-6c95-4101-8e58-1e4462f41e35.jpg', '5e7141a4-7c49-4199-ba18-e4f5913d6316.jpg', '03ab6dcc-0e14-4517-a864-cceea90eb493.jpg', '84603591-bda5-4375-a869-ad638627dd90.jpg', '500c09f6-5291-41bf-9b15-cc6b8c6fef6e.jpg', '067e5dc9-b632-405f-a6d0-c75d310171a0.jpg', '6b0f6d3f-d145-4be2-a283-2f81301cea77.jpg', '0692984d-dc8a-41ae-b1d0-c8af60237439.jpg', '189696fa-0af4-4972-9059-3c24fd236a8e.jpg', '2c148b8e-55f9-409d-aad4-ac4aa2375a63.jpg', 'e006649a-316a-497a-bdbc-ba4a3020b9b1.jpg', 'ab0a3272-671a-4e2d-9cbc-4142635c7b8a.jpg', 'adb30ef5-3915-4ca8-b37a-4ba4d3650bb2.jpg', '6ddc2ee7-fb61-411b-9ed6-8687cc72834f.jpg', '7604d4d2-9f42-4ecf-8620-36edd6f5e22d.jpg', '39f40e44-a171-4269-8e72-fa159cdc6d38.jpg', 'c4a568c0-66ff-4de9-8dea-1d07ec61ddf6.jpg', 'ddaaceda-9866-4898-a9de-5f5679c8be10.jpg', '34c18363-20a9-4a10-8649-0cebb6d2bd00.jpg', '4a6987a6-6af4-4751-9261-048d900240d5.jpg', '83eb0b13-0754-437e-bcfa-ab6103dd8d25.jpg', '0cb7f4ba-23c5-4920-89e9-fba33cfc5649.jpg', '39b00ad6-2cf1-4997-b517-a60a46bc3f65.jpg', '90cd79ab-c4a7-425f-8d45-5e1d2e198783.jpg', 'de85c66e-43b2-42d0-ab71-45a59cb5d8a4.jpg', '8ccd26ed-acde-47f4-80fb-a7b03c63f9b4.jpg', 'c57046b8-62bd-4c6f-bf77-ce83ad11e0fe.jpg', 'eb2e2b6b-3d3d-4a3d-913a-b4421cc85544.jpg', '2e92ad4d-30df-4672-bc5d-2edd73792e3e.jpg', '1fac9dce-f509-4488-9619-32d12d8a8e6d.jpg', '236439e5-10f2-4a79-9c07-dd7ddbe01dfc.jpg', '0dfa8795-16d1-4a4f-bb74-5d6135fada49.jpg', '79655a96-ee90-48aa-a4f5-534a7c1936f7.jpg', '1dedfd55-5ab6-4f96-aeb5-0974ee4466c7.jpg', 'bd26525c-ebdc-4764-b84b-5e314210416c.jpg', '386cd8ea-98a1-46d8-97a0-15f1e188c20d.jpg', '104e5213-8e52-4bf3-b876-cbb179eae573.jpg', '25964cf5-3ef4-479f-901f-b5a156abdc2a.jpg', 'c8185e10-97ba-4241-ac3d-34edc7d1cd17.jpg', '7859f1dd-8b63-4963-ba40-27a72f6772be.jpg', '6a5934bb-e59d-4fb5-a0d3-f185debabfda.jpg', '9c08c0dd-5945-47b1-bf7b-e6240f5330fa.jpg', 'f21f674a-d52c-4aa9-a584-4c045ff65cee.jpg', 'f8b9f084-fb38-4913-b5f9-16e637c6d495.jpg', 'fa37d4f6-ee12-4ee4-845f-9b55cb17becf.jpg', '263260de-5b55-49c3-bbe1-0bf05960156d.jpg', '98433f9a-b995-44f1-b7d6-c8de3b79643f.jpg', '12f7f023-5e10-4f87-87ff-b2743ea4bb3a.jpg', '6bc9e11e-efeb-4196-a45d-c6a894092e16.jpg', '70856b04-cb20-4a56-a708-ba7c8a80c843.jpg', '5de67f5f-6f28-4a1c-ba40-75b036642ae6.jpg', '3b487ee6-cfcb-4e2e-94e0-afb51d9a6f5d.jpg', 'cc9769a6-cb32-4ca9-b98e-1348dbe72d0b.jpg', '875268e0-14d4-4771-9519-91458c45d78b.jpg', 'ce2f5400-596e-4af2-a9a4-8f1c2754395f.jpg', '2f1d5117-43b0-4718-b7e1-9e49b1cd8f92.jpg', '4406dc55-4302-4922-bd7d-8bd3247096d8.jpg', 'd750efd3-a5a2-406c-a2e2-09d1c2c1fb39.jpg', 'dfca93ee-b4cb-4893-997f-91ada83cddc3.jpg', '139d0c61-8c3c-4a91-96cb-f5d356525942.jpg', '908dc77e-6e3d-4460-b3ab-48bb810cbd1c.jpg', '589fbd06-0cbd-4815-a965-b4ef00e4ac35.jpg', 'be6d911a-6ab7-4cec-91f1-052f4d1e2698.jpg', 'b6e2d550-097f-4565-b4c3-fc5746967ec9.jpg', '4ff9482a-2860-436c-9609-427bd9866b02.jpg', '983355dd-393d-4d3a-a6e7-265c7afd3d98.jpg', '19271135-e88a-4843-acac-c17bbb9fe885.jpg', '8fb834a9-208f-450b-aae5-861057d20a4e.jpg', '6ebc9fca-c679-41c3-a716-e09ae0d56640.jpg', 'ca8af063-e1d8-4827-89be-aaf6638e7d95.jpg', '6899f993-c306-47b1-a2f4-d1268e5b53f3.jpg', '09b9bf09-0ae3-4718-912b-abb7a30586a2.jpg', '28224a5c-cfc1-412f-88fd-56a2204cf613.jpg', '5146d543-b89f-45cc-ba77-0e7695f45e97.jpg', '5f5d2143-65af-46db-ba28-3168565f6c1c.jpg', '08fe5f2d-ba09-40de-9bb7-b70d1cff9178.jpg', '1532195f-1e29-4ec6-aeea-024a1daee520.jpg', '88751991-6033-4080-93ed-8820b9c074de.jpg', '67065dbe-29b9-410f-bb18-a8bd7969027f.jpg', 'f2462384-cb37-41b5-be5e-82134ebb8610.jpg', '684d102e-4270-4756-83a6-565dc02371e5.jpg', '60e50cba-c991-4538-a6b7-3ff1baeb910a.jpg', 'daaa168e-d7ba-43b4-89e9-8990a830a3e2.jpg', '6f282eff-f960-43d2-8161-50fd027447aa.jpg', '8e0e9525-ad6d-475a-8e35-f6b2bca76869.jpg', 'b64aae87-148b-4f4d-9135-f454435bdd1f.jpg', 'aaa2576d-0e99-4d69-94ed-3b85f827e7fd.jpg', 'e74c79dd-ef3d-47a4-bd30-1d378b0c2a4e.jpg', '85b13eae-8edd-4414-9e15-e19fb7e8efd0.jpg', '4b019b4c-a1f7-4ddd-b6c0-d64db6d4d987.jpg', '5827fe5d-be0b-48a3-a5dd-3911a6db305c.jpg', 'e2c44d19-0233-4738-83f3-cd03aef21f06.jpg', '23ecc931-77d6-4757-b382-e832f73dc020.jpg', 'b3f1dcbf-6d67-4d63-84c5-037471f01cf0.jpg', '1de5b26d-a013-40fa-a16e-dc8aefd406c3.jpg', '851284b6-d525-4330-af5e-2344a2dfe94f.jpg', '62d40dd6-4ad2-465a-9309-fef288233224.jpg', '0b3a307b-5048-40ac-a5e3-b4d1622defee.jpg', '4b6e9f90-1b14-420d-84fa-023f4a7f2018.jpg', '1f48a605-bf94-452c-912a-f2a2fb57d9aa.jpg', 'f5638f16-ddcf-45c9-84c2-491c137df65e.jpg', '3d89ea16-d324-4826-859c-4d44cb47c8a9.jpg', '3f417e35-b9ec-4c6c-a1ca-944b2bb39113.jpg', '1617a5c6-8de5-4ca3-970f-67aff680845e.jpg', '9fafdf7f-ed1e-4195-ad34-4b7e76a01aaf.jpg', 'c2933fde-043f-4664-91a7-a8f4a52ec323.jpg', '27162170-1ac5-427e-b88d-aa04a8f3aa14.jpg', '8203080f-c2c4-43c6-b740-544cd1d51067.jpg', '29359349-d78f-4135-ab6f-505887ec8941.jpg', '664e7524-cd91-40a6-b64b-ebe1a3f45ec9.jpg', '8ab34f22-6231-4892-bc8f-a709ee4eabcd.jpg', 'b469a998-5e41-4018-947c-2f222c31a836.jpg', 'fe6bdb6f-f9e4-4801-9eaa-2fe4294fbba4.jpg', 'b1167169-83f5-49be-8bb4-41122e2e0a23.jpg', 'ff111602-9f6e-4be8-9603-c77e6dc102a7.jpg', '0685fffd-1204-4dd2-8c31-409da7e1740c.jpg', '06b66ea5-eafd-478b-aa3e-47c5821794fb.jpg', 'a3228704-af26-4e1d-a305-b051e52d35b4.jpg', '075ef090-573e-4863-9709-85e21b693306.jpg', '188a66c4-1621-40ad-a999-2a6ff8dcadba.jpg', '0cb806ba-5861-4783-be14-f4b7411994fa.jpg', 'f1a3b543-e9de-4363-ba5f-4aafbe021333.jpg', 'b157a160-d32d-486f-8470-b4af7f3fded6.jpg', '6ccb5238-6fcc-47a6-8c7f-82b0c4183f40.jpg', '3fef1fe7-af19-454f-a6b9-892aa6dcef36.jpg', 'ad49a571-da3c-453f-9f8d-f3f7402479c2.jpg', '26320141-3ed1-49c4-9013-7bee0858a1f6.jpg', '0366f599-0be6-4bd9-8477-12673df7e64e.jpg', 'fbb6a14c-171a-4bd8-acfb-7040d848d521.jpg', 'ad69e6aa-52b4-4f5f-9f13-ca1166343a13.jpg', '81fe0eb1-fba0-40e5-bbb7-45ce4ed761be.jpg', '5e68f125-57e7-40fd-ba02-8a07582e76ea.jpg', '27109352-01f9-40ec-9a4a-c5764a8ad1ec.jpg', '037c1d78-a313-4cef-8044-de1008e7fe76.jpg', '7ca35ee4-5306-40a2-86ef-b4b1a63ee2e3.jpg', 'dd794188-1d1f-4ce3-a874-8c5294be3664.jpg', '82692c46-a53b-4374-80ea-d31f0814880b.jpg', 'd61a9bd9-1b54-4176-9afa-bb74cbdcd4c2.jpg', '229d0d53-d5d5-497c-ad3e-2a23da1db513.jpg', '42160580-54b4-43e4-9034-649bb1146068.jpg', '1134ea6f-25d3-4630-bf0a-0b11fb72f7a9.jpg', '87cde58c-6bf8-4e55-a100-2fd4570735cd.jpg', '028a004e-4f96-4573-ba6f-0240f750d45c.jpg', 'edfccc50-6f77-4e8e-91d1-3ca7812e6dda.jpg', 'f480a784-7ba4-4f62-8607-328aa51bd2f0.jpg', '59ba6b9d-b4be-4aca-8bf1-3c95410292ab.jpg', '0cc977bc-ae1b-49d4-b987-cfef8a4aa5ba.jpg', '2f024d74-e09f-4c33-90e4-b67d6692e6b4.jpg', '6f11ef14-03d9-45bc-829e-78d8ec96c4d0.jpg', '641abc4c-c94d-45e1-b124-96c99b90134b.jpg', '2c84edb8-915b-415b-9fc8-c76dec67b300.jpg', '9d5f1997-9136-4dff-935a-d9a693c4e291.jpg', 'e7937abf-9b9c-4e2b-81ea-d287e9a239cb.jpg', 'd1193817-c882-4f5e-922a-ffa32f57a47c.jpg', '9fac1324-e358-477b-a6d4-5e9e7d4ddc67.jpg', '16b2a510-edc2-48fa-a736-a93bf896f44f.jpg', 'f4dd3a53-b36f-4faa-9f98-366c6e9561b0.jpg', 'f3830118-1972-40d4-8ecc-44dc17e8d826.jpg', 'fc264ab8-1a75-4e80-bf75-e9d2c42beb65.jpg', 'f499412e-1d8f-412a-84d9-7db8933dd955.jpg', '09d1a74c-da57-40f8-8d4e-f42f3ac4021c.jpg', '12baf9e1-9b44-4457-9f6c-0c13e402bf39.jpg', '1893eac8-7b31-4dc0-9489-ee8f021f025a.jpg', '1a538d14-d16c-4b31-a42f-c4dde4e88d41.jpg', '1a6d3557-9368-412e-9105-c9fce5d4ee60.jpg', '555ed6fe-176c-4002-bf68-750767d6d5bd.jpg', '04822c95-8de0-4be4-bb11-58057e681bbd.jpg', 'fc3a9684-2353-48d2-8dae-06ae2f37fb0a.jpg', 'c6bd68f0-6b19-4305-bc45-a2c242ab9081.jpg', '2b8a83cd-851c-439f-b792-37e7f9574a3f.jpg', '84232576-1d2b-437c-9d6c-4f5d5a395033.jpg', '8ee8fe2d-0a00-4903-bac6-69e38e8dc5d0.jpg', '9a094c5c-1970-447c-9462-13c67a8abd4e.jpg', '9bc0593d-2172-4d99-b0c2-2cccc4e57e0c.jpg', '4b21befe-d374-4aa1-8c92-215caf59c7b6.jpg', '03b3b555-21f6-47ee-b1cd-2e99d0f5ed16.jpg', '6ca6a94d-6af5-413d-8ac9-21c08bbc6587.jpg', '8408e9ca-e984-46b0-ae30-08409ecf76e7.jpg', '76fe583e-f56d-418e-b362-1291e8d2f7fa.jpg', 'ebdf7ce5-bcc5-44b8-b087-9714673b1730.jpg', '662ece6d-ee12-4b74-abd2-9e6875914cc1.jpg', '4db77a22-4a0e-4ffd-afdd-4b3652328ae2.jpg', '15379aa7-336c-4233-ab64-de3beeeacb9b.jpg', '50091b7a-c24a-40d0-8a20-945bc1e91e22.jpg', 'e25ed325-c88f-46c3-9be1-4544b3e782cd.jpg', 'a94c3f77-a958-49b4-8586-0f8c9eb57aad.jpg', '1fd64e61-4409-427a-80f1-34988f5e0780.jpg', '02da5346-4986-449a-b9c5-a5702dfe574e.jpg', '4f70a216-021a-47ae-abcc-f04d969a24f5.jpg', 'f8ff85e7-fce0-4fad-8ed6-ae3cb14544a5.jpg', 'f3534a2d-4292-4628-bf3c-1ab0a20608e2.jpg', 'c22c03e9-6562-423e-b645-b26c8c9e9677.jpg', 'fb6c35ac-25fd-4458-a0f7-f7dfdcc0bc3b.jpg', 'b27f4010-15bb-4530-ac51-c7f2e5e1ade7.jpg', 'e48dca24-a546-43bf-87a5-f2d3a2c9f672.jpg', 'a50bb9e9-d2b3-4138-8557-f4eef2834119.jpg', '9d6180a9-aa5a-42b5-b226-5511bfae74be.jpg', '46c388e3-c300-4949-92cb-6f71b510acaa.jpg', 'f08085db-ec62-4fd6-9b96-69f11495428e.jpg', '49ec9e5a-0dae-45e7-88b6-5666379f61c4.jpg', '2a9e45aa-abb2-4f08-a663-c1d5aedafc4a.jpg', '69b306d7-e39e-4ed8-8716-f270bc4f0236.jpg', '085457ee-696f-4062-86f8-be6fabbf56f3.jpg', 'b0a33bca-dc8b-4a0e-b8a0-c9ce45ecf8ee.jpg', '4a2e02cd-88cd-41d5-ae1d-67b7e6e0ddd4.jpg', '2a15f703-462d-4545-bf5b-07a71f966043.jpg', '44c63c3a-573c-48b6-a646-62db585a16b9.jpg', '6dd9eef2-5a9d-4556-8eb2-1093c8da139f.jpg', 'fa9c8836-c15f-4921-91f6-fb82714d3aa2.jpg', '498b1794-8ca7-4e38-9da5-bfbe984549cb.jpg', 'bd9de174-793f-44f8-8762-ecd4b7c0233a.jpg', 'c14e567a-9df5-49b7-8d16-d4e6dff37732.jpg', '23b454f8-d18e-469b-8c29-4071edf55333.jpg', '11ecc178-a364-4ce8-958a-2ba664a99282.jpg', '9173e25e-b7cf-4d06-bc04-e728869b2c50.jpg', '8eaafad7-a92a-462b-8b0e-17dede51e764.jpg', '679426c1-597b-4731-876b-e6ea25eb2f57.jpg', 'b95293ec-da9e-4033-87da-6a4b13b6c7a5.jpg', '92e1c032-c367-49ea-867b-6c1b10c54118.jpg', '790cadc5-34d5-4501-89bc-8bdcb814a5fb.jpg', '3a8a63f2-138b-4587-ba19-73d059c53ad7.jpg', '001a74bd-6679-4709-aa0b-d10277f057e6.jpg', '8f6a3007-b276-426d-9f4b-729b490cb13d.jpg', 'f4e2705c-ded7-433c-be53-9748989ca9e0.jpg', '2d2f1cde-e046-42e4-a301-68f994b2dff3.jpg', 'a2361750-31ea-479c-a42b-5f28855192c1.jpg', '1bb1f311-7ab6-4de4-955f-7a2313d0ac20.jpg', '56bece13-e50f-4a0d-94cc-96318fbd5408.jpg', '80943e34-8729-4b1f-9625-5f95ac50bf49.jpg', 'eaad80fb-d797-449e-ac73-709702093e47.jpg', '99ad670d-3a25-4e27-817a-b28eee3ae7f6.jpg', '35d3749f-1500-4167-84f3-846417143a8b.jpg', 'd893d668-22a5-48b7-bdf1-255b68dedb21.jpg', 'cebe2ba7-fee3-4f1f-9b9f-8067c6db3326.jpg', '0e5dae67-683c-4413-b913-b89a7cb7b6b9.jpg', '7a8eb6b8-a5ca-4553-8b8d-2a08f23cb316.jpg', 'bd3ef1cf-1f6f-452f-aa57-dcf13f0a3b55.jpg', 'd5c22254-7328-4403-b5b2-7fb22f465964.jpg', '78fa0592-e946-4fcf-b6bd-30bca241d116.jpg', '0d6ba7a8-eb50-4650-ab7a-c57feafdc62c.jpg', 'b1328003-007b-4f7e-86c5-604afacedcab.jpg', 'ac6e0515-fd02-46cb-9a8d-726b5a25cc73.jpg', '55aab2a4-0df3-42d6-aa10-4cf5f2deeeab.jpg', 'fd4bd2da-5a7d-4db4-bf1e-65fe5e95c4bc.jpg', '7e355ce4-6e68-4de2-a087-a71dde0e847a.jpg', '540e6448-baeb-467e-a77a-8058454d8d08.jpg', '8b8f4772-9140-428a-845f-7ecffe750d05.jpg', 'db4d1714-c591-438f-a93b-ae9cba361a74.jpg', 'e8f3553d-9645-4244-ad6b-b050aae7f10e.jpg', '66b3725f-3314-469d-bd36-0618960fbd3d.jpg', '88d2e6e9-1049-46ce-a739-d2471505c2e0.jpg', 'ce7c5e0e-5146-4df4-9e5c-bf91a0cb9720.jpg', '218b2652-bf22-46f8-9b6f-409744a9b13d.jpg', '4a936281-5e1c-4c68-be2a-14d13bce23f5.jpg', 'a9fa26db-1a5d-4492-a677-a4e8ad41a71a.jpg', 'c6fc0394-3ce0-490c-9891-3d182d7926fc.jpg', 'd73f7dcf-2442-408b-baaf-54da37cfebe6.jpg', 'a6cba439-d527-45ff-bfa9-7fe5dc663672.jpg', 'ea91d286-a6f2-40b1-b9a2-af3bd991a98f.jpg', 'ee363984-6116-432d-b03d-90e18773aa36.jpg', '43c41fce-ac65-4f98-80a8-4a7cb9fbe5de.jpg', 'ba5da373-39da-427d-88a3-a52f26a923ce.jpg', '81e15427-ee69-4a6c-b82d-a01fdaae8411.jpg', '7827e124-2f4e-493e-abde-b8d9b3f81bbe.jpg', '240a3388-c008-49d0-bf92-904e777116f4.jpg', '29690bbd-e6d4-431b-95d6-7619505ccbea.jpg', 'd240c981-9f5d-410d-b7c5-5d048f0752f2.jpg', '8a4f1048-23ed-4208-b10e-b9f19de60c07.jpg', '002fe951-e857-4ebf-8de4-53c89b9f324e.jpg', 'c56559f0-bd2a-46bb-9342-9ea9a6ede13b.jpg', '655a197b-ce40-498e-bfe7-9655b5dd6218.jpg', 'cc73e1b7-caf2-4252-8e75-f2036ce0c51c.jpg', 'f657b602-db15-4890-9c3a-916eb9d106ad.jpg', '2747956f-ef62-4042-be0b-5518da62ee66.jpg', '60f2dc12-24ca-470c-a644-25646a012daa.jpg', '7b79cd65-a914-4042-b752-1596069ba53d.jpg', '160439df-5cbd-4716-b7ea-dbf0bba498c7.jpg', '063b877d-a7ba-4172-8131-2dedcf83c9c9.jpg', 'd9b097f9-71fa-4ec8-9f57-74f70b6c7d72.jpg', 'e380316d-3b71-43a2-867b-40628eaa7bf0.jpg', '17c99793-d8f0-441d-8a20-df394c9ff139.jpg', '4b6f31c7-413b-465a-9588-d26c7a575488.jpg', '77aeca09-1924-4b6f-b27d-c978fb7e3af2.jpg', '5dbfed8d-8759-426f-bf02-53816784bac5.jpg', '6a10023f-a77f-4fc5-9e11-85f3e24d5f36.jpg', 'ecec60fc-95ff-4718-9fbf-9ea9a714f729.jpg', 'ab9582e9-bef0-4686-8db3-27c604a8a069.jpg', 'e0f8356b-710a-44e4-9407-0fae819d2f91.jpg', 'f4bbb12d-d17a-48d8-97e6-4c3c9292712b.jpg', '7f4d7efe-3ec1-430e-a68e-49a1eebfb305.jpg', '85a2b6d4-5aaf-4366-aae8-7966d3864979.jpg', '85af7be5-7ee1-4d48-a97d-7e0023932092.jpg', '565cd0eb-0943-4309-9486-85336bb276de.jpg', '85d1c01f-52fd-4ea3-8b13-64ff0bdc00e8.jpg', 'dd248308-151e-452c-8b1d-86675d01cd92.jpg', '10558c8d-cb1d-42a2-a3e3-ade96f7727df.jpg', 'aaa906e6-2992-4d09-b786-21fb7f52ec46.jpg', '2d8ea93f-61e8-4de5-a273-bc7ed66b1a05.jpg', '9d027a2a-7aa1-4e25-8f01-1b3673c89ff4.jpg', 'd1e481a3-ffdf-474d-a09c-093c952b06cf.jpg', 'a4c042e6-70f1-498c-b15b-2d731a2f5cf5.jpg', '60e7ef7c-8955-448a-a981-4ed2eff10876.jpg', 'dac52bbe-08c1-47d4-b22e-c3119e1b7048.jpg', '1027d01e-8696-4e87-827a-989e691ddfd8.jpg', '6fa18988-18d4-415d-b3ec-a8d5fd2d8fbd.jpg', '2d140d8f-93d5-4c7b-8397-2e34f9cf0e74.jpg', 'cd507237-702f-4c7e-8cf9-160b3e388b96.jpg', '1df13c2e-7e8a-4e48-887e-f46b25f15f1b.jpg', 'f272ff53-edbe-4308-8801-1ead8ddec967.jpg', '51716b05-b799-4ae0-afb3-95dba29c8c7b.jpg', '247b4465-cc54-455a-9d08-a722059de3b5.jpg', '87a06807-6a34-4d4b-b22a-8f0377834f42.jpg', '09229114-0b1e-4e6a-ac9c-b7b38835b37b.jpg', 'a079f2e5-cbf6-4195-ae00-c9523ef53981.jpg', '2b978ad5-9ca0-4abc-a783-16f1d8d29bbd.jpg', 'b710d304-0f49-4850-976b-81eef7e7dc7a.jpg', '8b8ddb36-821f-4a00-b525-78c9d9825173.jpg', '8f736f08-cb2b-41a6-b193-2fcb6b9db542.jpg', 'dc460024-f9d3-47e7-8ccf-25c389545327.jpg', '7f284917-94e2-4fc1-9404-234d8f59b202.jpg', 'f515647b-a4c0-4a4a-8555-5f21efc79cd9.jpg', '9a4f56e3-eb60-40ad-ad9d-34a1b5a12478.jpg', '0b47870b-b5af-411c-a62c-8daee66fb930.jpg', '1b3296d2-b8e5-4d61-993d-0f70bca63274.jpg', '964f2a0b-2ad7-4e5b-ac0e-b4a18403d701.jpg', '5eb52e3a-b03e-4219-8f82-1089b20bde79.jpg', '9b89cbf6-2489-49e9-88a4-3a8ccf7b1cd7.jpg', '4b4bc781-6084-4edb-a070-0704f3cd361e.jpg', '51eb2e76-592e-4267-9961-ff7d5dd1d215.jpg', 'b3c827d8-9dd1-4654-a751-4ae5e5e11c3e.jpg', '88fd1372-678b-44a6-938a-eb60a366a730.jpg', '2194276d-17e4-46ef-b11a-f44e4c587658.jpg', 'd1d0fa18-3af5-45ad-a018-30f0220e4732.jpg', '664d6e50-497a-4410-a585-a782013a6faf.jpg', 'af2c01c8-bdfe-423d-a81c-823c198d299f.jpg', '97cd2c16-c91b-487f-bbcc-0e6df0bc86dc.jpg', '209abcba-d8d1-4c8e-af81-252fe90e67f5.jpg', 'e2a8553b-a149-40b4-b9b8-ae26570b1c01.jpg', '987dfbec-a67b-420e-8f54-b9c3521d862a.jpg', 'e3f05025-783f-4c32-bb52-66fe256fee6c.jpg', 'b139115e-c3a2-4298-8c66-7776f3f2dc66.jpg', '72f48e8f-5ee3-4635-a920-b9ff7e930f18.jpg', 'e915f865-2adf-4718-8921-e9a947ed1388.jpg', '93649a70-078d-469c-9d32-97e9de1e06ce.jpg', 'e8c75cc2-17da-48eb-9f5a-aff42d7b06d8.jpg', 'd59105aa-584f-4e14-97ad-e281da564a01.jpg', '36b39a80-7189-4afc-828e-bbf44a2e601b.jpg', 'e87ca70c-e0d4-4d63-9206-d0e716a81041.jpg', '59bd4924-e7e8-47d4-ad11-10525a6aeaa4.jpg', '8f313ab4-1a2b-41ef-bb07-222f62a1cc3f.jpg', '4b36ba8c-2c1a-4954-9ebc-064c1532c3dc.jpg', '6ecf9046-fa2c-4034-b6c6-93cb2f8755c8.jpg', '49a25e39-96c0-4a78-a544-cafae5caa8e3.jpg', '04034645-1774-41da-af31-9a04edc5ff28.jpg', '4096f655-1d69-45e2-ba96-b9635a8f085f.jpg', '454e8bce-eefd-4f6f-8823-7118d486ddf7.jpg', 'aca2dce5-8fee-45da-9cbc-bad6037e768c.jpg', '659d8f53-5925-453d-b715-983d47da6885.jpg', '379cf741-ab18-41dd-b6f5-78676b821966.jpg', 'e70eab87-ecfd-455b-9778-6d59a9cf715f.jpg', 'cb301b9d-7f62-41bb-8d7f-a00f2a4ed4c6.jpg', '3aff99f6-d327-4e75-a903-77e2c44ad513.jpg', 'd016ca20-10d9-4978-8abb-3da76bb2da0c.jpg', 'd67ddf43-5858-4aa4-bc81-d242ab6ac469.jpg', '694c8a09-e242-4758-a64b-16bca5f67fd8.jpg', '14deccbf-4cb7-4f31-b27a-f02468e73ee2.jpg', '5dc05f29-dec7-477b-b050-65a610fbee84.jpg', 'e6781539-55f0-4808-be4b-35255e607c0f.jpg', 'ea632c64-ea5f-4708-a4b6-808d26958bd4.jpg', 'f9ae1593-42d2-4683-9479-eb8e7e1ef15e.jpg', '2eea3175-1b8f-4a46-aac1-a50f26cbfc55.jpg', '03bd9474-d24b-4926-83aa-849650a8295f.jpg', '0672e6d3-df91-48a2-bfed-f124d771ae25.jpg', 'cf3ae6a9-6be2-4ec8-9faf-6d45a52d8590.jpg', '157055a4-2177-4b1c-a3a1-ee90bd2bc826.jpg', '8eaf320c-e5c0-4eec-a9a2-30c2c0fc69d2.jpg', '5be117b2-d64a-4d2d-b9eb-478ec3b28621.jpg', '867ec94a-43c2-4a77-b008-47f44a862b7d.jpg', 'db2eb6f3-05fb-4119-b1dc-1f9756aa1db6.jpg', '8acd0471-59e7-49ec-aa39-5b4bdb3723d6.jpg', '39f43db4-99fa-473e-ae33-8da8550ce09c.jpg', 'f0ca8e18-db27-41ea-9dc2-274172d2fa89.jpg', '31bc24c0-823c-44a2-92fb-63bf61a11dd2.jpg', '69d3d19e-d8a6-414e-84e5-49c9ad0fc753.jpg', 'b02affce-550a-4c62-baf4-4c6d13d06883.jpg', '42361866-7c1d-4d8d-b458-7c2fa95e8e48.jpg', 'f1a5e570-bfcf-4482-8412-689e01ef042f.jpg', 'bc8308f1-3e72-4b75-baff-0e0f7a5eddad.jpg', 'f39f1613-4af6-4584-8a81-59e679e2d444.jpg', '80fc148c-8c22-488d-a609-4da1faa1c69a.jpg', '4493ede0-3c3c-40f9-a889-aa4fd4f386de.jpg', '7c160fdc-39e5-4d45-9550-7a174906c245.jpg', '404b6ce8-44ac-4d28-9659-986f809eeb39.jpg', 'dcf7ba72-196f-4d7a-bd73-42f532abb5ac.jpg', 'a3439366-3a08-4896-8df7-0f99bd64d349.jpg', '375c4353-be38-40cc-b7cb-85136fdaea2a.jpg', '4766873e-f9dd-44ea-bf45-17831fb6a818.jpg', 'e0d1da76-42f0-4850-80f4-21a0e0d4846c.jpg', '863468ed-afa5-486b-82d2-ee42982a39b3.jpg', '6fcee1ae-d790-4316-86aa-3e3fbabe4a2c.jpg', 'e5b5f1d7-5d49-4ad2-a1d4-e88631a0f62c.jpg', 'a43725ff-1f48-4dea-bebb-669a4a3c4194.jpg', 'f7de8214-0611-43d3-baa1-fc1c789d7c23.jpg', '2cb9d6e0-f2a9-43a2-8279-bc743887f024.jpg', '0824f672-9b69-4722-841a-ebb8d6f178b8.jpg', 'd44868dd-fcfd-49c5-bda7-dae786dd833c.jpg', 'e3920d73-d824-4ce4-b142-1e4b0893ce10.jpg', '1242d0a2-fe42-4b27-a0bc-ba57ecc07773.jpg', 'd74e4a0c-bf62-48b0-a76b-90997d3ad64b.jpg', '5969b331-86a1-403c-bb51-976015b0ce2e.jpg', '48bc7027-ecda-4a4e-b6d7-6c5b2595ffee.jpg', 'c9f2a943-02be-4d39-8c8c-01238b2ba3a6.jpg', 'ec95398c-5596-455a-a004-06b32583276f.jpg', 'ca86c277-fb33-4e7e-b2f3-b2e653a1bac1.jpg', '23794023-5ec3-485c-a0be-4c406f4d5712.jpg', '67a5136f-0ebd-495f-b195-35bf9f0e2434.jpg', '68223aea-da5c-487e-89fb-1bae25b6b314.jpg', 'ba1c05b0-64e2-46a9-a26c-ca9a23ebd833.jpg', '4937336c-7f83-4634-88ba-bec7662e2358.jpg', 'd492df6b-ffa8-48cb-9b0b-d7c4c5395188.jpg', '9304f6fa-0f4c-42b1-8ab4-f2440540f27f.jpg', 'e8b582e6-b52b-49a5-99c4-983cc1425d14.jpg', 'e545274b-6305-405b-b6a8-e33ccb498372.jpg', '9f7d2bef-3fa1-4baa-a14c-ace0b2ade763.jpg', '98ede611-64c8-47e9-9179-039feba93c7b.jpg', 'ccec48b0-932f-447a-8d43-48c51855c118.jpg', '7b8f5b2a-ef4d-496a-a41c-bc4b6b311599.jpg', '99335895-7ea4-4ca7-b9f7-a132d532ab0e.jpg', 'be65f6ba-2b80-4c6b-b26b-bd72ea019dd9.jpg', 'bd50df5c-ddad-49d0-b342-4069dcb8a3b4.jpg', '546560c5-ee85-418a-b9c9-b8cef2ae61a9.jpg', '986f6def-e7d8-469f-8ae5-bfefd57aae95.jpg', '9e632298-774b-4b0a-b50f-e8c10eb8e89e.jpg', 'fbbced98-81e9-4be2-9a12-1ed857facd63.jpg', '649c06a7-e730-4a9d-b895-5a979c5d4275.jpg', '5611c994-ccbe-42d3-ac29-b16175a12eb9.jpg', '471a0f14-53a1-4389-b9fd-356476b15c26.jpg', '70099c76-cb50-4c7b-bacb-48a5d2bee137.jpg', '6c9224f9-e208-4f54-99ee-afc9a715704b.jpg', '777fcdc4-8ffb-40bd-a8c4-ddcfdcc2503b.jpg', '25ab46a4-374c-4c7e-8d58-24785e581912.jpg', 'c4b2ce9c-07a2-40e0-aad0-e5d2d47ebe37.jpg', '17dba52f-55ea-45ce-9dc6-de45991e10b2.jpg', 'f90dfe54-649a-411b-939e-64d1845a2bef.jpg', '1d3fa6ee-f892-4f1a-9dae-cceb0322f955.jpg', 'ac3024f3-6501-42c3-9a3d-8875aa2b9781.jpg', 'e1d80bcb-e04f-409e-88f0-7a1ac0d1ab83.jpg', '024f542b-069a-4c88-a8e9-1ad1bae9ed3f.jpg', '2f07c83f-728d-4c19-8a6c-fc74cd3fe815.jpg', '43ae9205-d5bc-4e9b-a950-d51653dc83c2.jpg', '983f4e5b-52be-456d-be79-8fa43c42688b.jpg', '81c9c857-59f9-4171-b0b0-5eafb2f40e8f.jpg', '76f9ea0e-b795-4fdc-b0ce-5f026efdee37.jpg', 'ffee82bf-08f8-4e82-a3c3-8cb8b7006344.jpg', '2736579a-b9fb-4467-a50f-bb2ee3551189.jpg', 'f3c8a968-cb53-416b-9d17-82ffbd981151.jpg', '23c2cd2e-baa1-4339-a2ed-acce902bf080.jpg', 'ac4ef1c4-376a-460c-8814-bd1042b37207.jpg', 'b7614dd6-ca89-443e-98a9-dd7a3195d9d0.jpg', '268ac644-77c5-4bbe-87a0-46f546f5591d.jpg', '461ac4dd-15f1-42e2-a2e5-286ca723c740.jpg', 'f2a4c058-999a-4120-8763-cbe916016ef7.jpg', '073dfbf7-b33c-4628-bb9d-5a9cea02f7cb.jpg', 'e18d6abb-4e77-4092-ab9f-b685214db253.jpg', '668e69d1-784b-48d7-a3a0-ee1025662bcf.jpg', '1849446e-17ac-44b4-ad28-eefe81039d30.jpg', '205a76b0-0aff-4a7e-95bf-f96a8d74bf10.jpg', 'b975d0f0-3a1a-40fd-a05c-d7f2f6eefa86.jpg', '36579e99-0627-443d-b20b-e9a2e1d45998.jpg', 'b35141ed-a477-40a1-b8a2-272c1ccb5179.jpg', '39e6745a-3f61-402f-8344-2f282e69f6ba.jpg', 'a4bedf88-67d1-4d7c-80cb-9e123f759154.jpg', '85e1970b-7a1a-4ffc-862a-5f3295705e34.jpg', '7cc4e636-ad03-4b01-90b9-05146a79d0fe.jpg', '99b5ecb9-d10d-4fea-9ed9-d9f764f70984.jpg', 'c5b81c4f-28bb-4e2a-aca5-bf44449c56a2.jpg', '8ed02c7f-fb5e-40f3-9c8a-2c9cb5ad6efb.jpg', 'cc5cfaac-5023-4832-bc4d-a2d858ed8379.jpg', '556d065f-8bc5-44ab-aad9-11e5b0a9d99b.jpg', '5bb5c157-8867-484f-95f1-8500e3e39b07.jpg', '65d6640f-ad3d-45ee-9c7e-2d330b61e968.jpg', '6f02d944-2293-45fe-9e0d-3aeb0b115d25.jpg', 'fc5ff85f-2b0c-4b37-9c9b-54a429186b56.jpg', 'ba2ae8f4-d2c9-4264-8d88-5b8a8bb21960.jpg', '4c1a5191-3de0-49e9-aee0-3d4ab04c3df8.jpg', 'ab7a81de-4707-48d8-b3bc-01f397eae30f.jpg', 'ed5c7238-8895-45e1-80d8-e76161a48cd7.jpg', '6c9d33ea-9aec-4c9c-88b7-fe44aea6bc3f.jpg', 'fcafcac1-b8e0-48a2-b059-351865f41383.jpg', '0179e450-8f31-4122-be0f-da4a47a207b1.jpg', 'ce19f1c7-a7db-474b-84a6-24af0fb1917f.jpg', '5a7f91a3-7c24-446b-8d3b-403064780b59.jpg', '7af12b82-f717-4b6c-8841-54d8710a2778.jpg', '457c2c68-2986-4b7d-b751-05cfc9dd7fa2.jpg', '455f5b75-c195-42de-8f0a-e88ef3c2f379.jpg', '95f8e320-130d-47bc-84e0-08b45bb4d150.jpg', '858c5933-3692-459e-8197-7d84480a4e2f.jpg', '1c94f6dd-0ec1-4b50-a93b-da87b454baef.jpg', 'b0318664-d9b2-4011-9212-71ffd8623ae1.jpg', '14d100fd-46dd-4605-91fb-4d015136634f.jpg', 'ac22ad68-a9da-47a4-8fa3-7b08bbc648f6.jpg', 'aeb22d7b-27cb-4cf3-bd70-1b1ff65ea9a5.jpg', 'd1ce9200-9cfe-4a03-9130-36f7d189019a.jpg', 'eeb0ce77-0af9-48df-9f27-cb97fa274541.jpg', '573cbe53-905a-486f-a382-e266d5f3fbfd.jpg', 'e6e14184-3d89-401a-bf03-089c7642bd5a.jpg', '4c11e6de-b98a-4e7a-91e9-1cf9fa0a2bb4.jpg', '63e4afbd-0aa4-4127-ac67-9646b52b3301.jpg', 'ac701452-99ac-4ede-81dd-2cb1b808b080.jpg', 'beba6685-73f8-42d2-9555-ad1403e25c33.jpg', '7ecdf738-a891-4fcc-b290-11920c90b948.jpg', 'c081d170-f07b-4dc1-88e6-4170ae6e5c2e.jpg', '8e339f47-b2cd-46d9-80ae-9ebee33fc813.jpg', '765eb8ff-bd12-486e-9fc2-72380b98ba85.jpg', 'dd3c434a-7b5b-49eb-8c85-0633ff45afb6.jpg', '008e97fa-a96b-49f1-9c23-554ffb5ba0f0.jpg', '635e7214-e364-4615-be7c-6ee4996b4809.jpg', 'f8eec5c0-6741-4bce-837c-c6c85da1b304.jpg', '069ee944-3055-44b2-95e1-076043a5c98a.jpg', 'cced1c15-a098-4906-a495-ff8239f33473.jpg', '612cad8e-db4c-414c-9e40-ee1e05fc23cb.jpg', '9ade86ae-ce00-48bd-a955-a89337987608.jpg', '55c69772-e8a9-4783-ad20-a330441944ba.jpg', '7becb3d7-8ace-4585-ae2d-df66841df3d5.jpg', '6aad1127-4778-43fb-9232-a29bd888c338.jpg', 'df973419-776a-473a-b19c-6df3dbea6f9c.jpg', 'c7fc3fe2-3ebe-472f-aed9-ae6bba6e537b.jpg', '4b81e67b-ef5c-45f7-9f3f-2ed74e7195e6.jpg', 'e5b5eb4e-5b74-422e-b41f-769f7721c45e.jpg', '476570c0-bb02-499e-b41c-b6183e4d6be2.jpg', '26712c06-f1bb-4812-a647-fc5f643aa440.jpg', '430bc2d1-1b48-4910-b457-b55ae7157a4d.jpg', '48887842-88d4-46f5-bdf8-5095e487686e.jpg', 'e475884b-9cb4-4530-89a6-cc31da28b450.jpg', '46aadc34-7f90-46f2-b0bb-f419fd8b71b2.jpg', 'bf70ae89-9407-41e1-9028-775c41a17c76.jpg', 'ce969354-84a1-4e6e-a631-774f6635ca0b.jpg', 'c9aef58f-4ea3-4c42-a275-34a346a6e66d.jpg', '09a07821-c118-446c-8c9e-82f789241f46.jpg', '5589a1df-f4eb-447e-87d0-885f0c15b5ce.jpg', '42f42d3e-7b45-4eef-bf8e-0b09d94410db.jpg', '8153a2f1-cf25-4558-9865-293e35f8db02.jpg', '685cd46c-c2b4-4436-8bd9-9152b437e2b0.jpg', '327a2483-4c7b-4e54-b1db-92eaf2371046.jpg', '43d7547b-7f6a-4aa1-bd10-8518b85656b9.jpg', '3afe8a7e-9ffb-4e15-a61e-1ca03d44a690.jpg', '773c9a92-09f6-4be9-b4b9-5a7728ace89b.jpg', '3cb9dcbf-a07c-4b63-8e86-dbb38b48c6e6.jpg', 'fc24687a-f60f-43de-9cca-c223ccf4ca26.jpg', 'a307e450-2821-42ea-83e4-21fd2c27d95d.jpg', 'a9557ca5-ab1f-4b30-848c-040a60aaef38.jpg', 'ff71f277-eaea-4336-a838-bdcc222369df.jpg', '238c2e7b-75da-439e-b388-3590da6e2f5f.jpg', '1451fe02-7992-463c-9735-6584b4bc0a6e.jpg', '324ee80d-0211-49b3-9749-552f4e752905.jpg', '5e24268a-d2d6-4b29-b315-e028517061e6.jpg', 'e2b77ed9-1321-4a45-87bb-e2e1f6963015.jpg', 'c8d72309-3816-4265-8d0c-c3f13fc481ec.jpg', '90d3f04d-616b-4b1e-a7e3-4dff60835320.jpg', 'bc8a41e1-d6c1-410d-ae26-7eca5272fb2f.jpg', '753705cb-8093-4fc2-9185-b56fa395180d.jpg', '25f90ab4-8683-43a1-a1d4-3b1b8a4c3e2a.jpg', '925aee47-9e25-408f-b0fc-5c02d5ea160f.jpg', '08fb0bc8-7a72-4f6b-a56d-bcc7d37a4cb9.jpg', 'ca9b56a3-a877-43e0-a1b3-f7f49e9a0b3d.jpg', 'd788f0b2-6a09-4bab-9843-116cfc1fa94d.jpg', '5ce7ccb6-0ed5-4609-b77d-3fe053f9b8d2.jpg', 'ee0b324b-5ffe-41ab-a509-9ffe8de626c5.jpg', '721d528f-01ff-45a0-baa4-4b7483f282bd.jpg', 'a84ec94b-fb29-4e49-ac8f-8ab1385be41c.jpg', 'f2878599-3bb3-479d-ad8f-c9e02c64fffa.jpg', '815eee79-2557-48c8-9c52-44639292c951.jpg', '56707dc6-ac58-4275-bbef-c6627cf60af6.jpg', 'd25392e6-74b2-4e96-b9e2-2453461f905c.jpg', '0d604eaa-b2ff-44b8-9a89-fbc7c916f457.jpg', '1341d526-350f-4a4b-8e29-023685d02065.jpg', 'b5aec751-35f9-43ed-aa91-a3d387a3197c.jpg', 'e77a9919-ae4e-4b9f-bf58-3d9a77f6f0f8.jpg', 'a8bf10c5-6d19-404f-afba-38c18001901f.jpg', 'e4a7e821-f16c-4dfb-a3e2-0659889062ba.jpg', 'd87c5a1c-58d0-44d3-b5f9-6bc1681c4a0f.jpg', '79a9bda3-8094-4261-8a99-6c853c87212d.jpg', '028f595b-e1d1-4db3-962a-b5ea59555b83.jpg', '4899e126-1de1-418b-b31b-007ac44174ed.jpg', 'a37e2924-ac22-4097-9598-6c1f1490670c.jpg', '6e65a318-4fa3-44b8-ae29-94c74f05d7a9.jpg', '0c51a900-61db-410b-8732-00ab690d890b.jpg', '058a26e5-d0a2-497b-a2e1-1860e848bc76.jpg', '6433f9ca-8ddc-47dd-8e2b-c98c43fab98c.jpg', 'ef71dd1c-2db1-4b64-af5c-6ea76aa46d40.jpg', '07d0c199-27d2-4f02-a780-b308fa14cb5a.jpg', '9af276ae-7816-4569-8601-6ff76362e69b.jpg', 'de820704-5d1e-42b1-ba7a-a50d6c37b729.jpg', '25b56421-2c3c-4ad5-88cb-99884ea810e8.jpg', 'f55c9b7c-1f7f-407c-b248-ef788c195a74.jpg', 'b0715ca4-44a6-4519-8779-1df4705b5c24.jpg', 'dadfebd0-d6d9-4b6c-a330-9f8e262f62ee.jpg', '4f63bf61-f108-438b-a5e7-5b2f50a74bdc.jpg', 'f33673b7-0a73-4464-8e19-a12798370008.jpg', 'b815b9e9-b8dd-456a-9a9e-4dd65c7bdacf.jpg', '6f796615-0b59-488e-9dab-d7568c88135d.jpg', '990ee389-7c71-4acd-ba2b-7a315165d665.jpg', 'c33a96e8-9da5-47ea-9164-92b055d7b73f.jpg', '13576841-dd43-41f0-8776-99f55a6cbcfe.jpg', 'd6edcdba-042f-4c95-bc14-0e2fd3745a7a.jpg', '04aa63d1-0070-4f4c-96cf-3a437fadc84a.jpg', '8fab3554-cdb2-4819-a5c6-0d2cf2977324.jpg', '3a7fe482-eaab-41a3-a57b-04d9daf3c055.jpg', '8d83c687-7eb9-47c6-b556-7dfbe5ef699c.jpg', '6d9b5b51-b0e9-4de6-a315-15b7f0d6eeec.jpg', 'fc058d4b-611d-4d49-9161-d4297e607e55.jpg', 'aaa6ae4f-f7a5-461d-9d32-de750f97679c.jpg', '402ec66d-1548-42f2-bd0a-b282aff9b78c.jpg', 'd12bbdbe-004a-4b73-bc70-c383055c60b3.jpg', 'fa3fb166-cb6e-43f0-809f-2d686ae4fb7a.jpg', 'ebd9e958-55c7-47e9-9549-18915c9353a2.jpg', '3342e137-ea21-489d-aa01-3ccfb9cd6874.jpg', 'd89ebd2e-24a2-4fae-bbc5-058e0362a3c1.jpg', 'b67c71c4-3a65-4103-84b1-60dd76770aad.jpg', '1afc83f9-007e-44b5-9a36-9f5fe1608b27.jpg', 'ee3d3cb9-e707-4cc2-b58f-8b12051a2331.jpg', '5b79ba3d-f876-4fcb-aaa4-6dc16b988cc7.jpg', 'c3ab3797-b308-478f-b32f-9c8b205a1476.jpg', '6ca495da-f2e9-4c92-8821-152580b6aea4.jpg', '060bc05e-7829-4f23-9d2d-058b8ca3bf56.jpg', '88e32f1f-ae2f-4e25-8bdf-6ac7412b9de9.jpg', 'fba47590-62dd-4fd0-8637-20d008403ec2.jpg', '953bc1ef-ab23-4f36-b0a6-641dd08e686d.jpg', '2b95f67f-f39d-4db2-8a52-ea580299d966.jpg', '7889a736-06ac-417e-86bf-b9392910b33c.jpg', 'cac1202b-959a-4367-bb41-cb09cf1cafc7.jpg', '21d560c8-d59b-4e47-a109-b5c0d3885429.jpg', 'c4443982-62a7-4745-adcd-c94db6092628.jpg', 'd479b6e1-8324-4183-a1b7-3d132c76d639.jpg', '200ecf21-9607-4f87-a3cb-f95aefa0d9ec.jpg', 'c056695d-2bfc-486a-afd1-54ef77ca5bac.jpg', 'c24a8fdd-58dd-4b78-97b1-c44bc916243e.jpg', '44e421c0-7945-423f-8cd9-2df47ef52d77.jpg', 'a953a3a2-4923-4cd7-937f-a259c770c2b9.jpg', '16f1f805-04b8-485c-a32d-0cdaa26051ce.jpg', 'fa39e2f1-9a0e-44c2-9677-bb470ad328c7.jpg', '7774c0c8-9ba0-493e-8247-f13d3636e7f1.jpg', 'a6814630-168b-4108-a846-d33db52d4ec4.jpg', '3a734db6-51af-47cb-8d77-5d9c1e125d38.jpg', '3c86485c-3755-4f38-9540-3a20fb80aaeb.jpg', '7f6d1993-b06d-43f3-9911-31a4fa90307c.jpg', '29b76436-56b8-49f8-ab23-e591fddca818.jpg', 'f98cf535-5a05-45b4-a6f3-5811884250d2.jpg', 'eb36b58a-13bf-4cc7-8fc9-a53f934b778e.jpg', 'ffe7bbc2-c7f3-425f-9711-40aa5bac904a.jpg', 'd75af087-bd37-4d58-99ec-fd0894398974.jpg', 'fc5a198e-9c7f-4c83-bb1f-373bb30dc54f.jpg', 'bcea80bc-efd5-4647-8753-eabb345519d8.jpg', '0e1c7705-1f11-46cb-9e65-f6b85fb3bfad.jpg', '4e8a4dc2-3041-4262-97d1-58682326307b.jpg', 'acf144ac-1734-4d28-b627-8cd37d01561b.jpg', '09a8b082-be12-4e71-a526-462b7db3371c.jpg', '2bac7065-7dfd-4446-9865-95f6d3a86ae9.jpg', '73bb8f31-b77b-44cf-9374-e6268ec4c95e.jpg', '378c8546-e2de-4915-a913-c1f592707788.jpg', 'd15e3a65-ee49-44a6-b5b0-c6108ca17f10.jpg', 'ef4b31cf-e6b8-4a4b-a76f-d41871299118.jpg', '7a140922-7d0e-4d6e-9e16-4c6a1ab77d89.jpg', 'f842c756-18f1-4c6f-96ec-5bbe5274d527.jpg', 'beab8aa3-09ea-4e18-86c0-283c8269c392.jpg', 'd9a5f3bb-da0f-4534-9cd9-0c720ca58a7f.jpg', 'a84b7cdf-d882-405c-9af9-38d17e876e52.jpg', 'bc351364-ae78-4763-8c3e-80777db924d9.jpg', '15caf847-cd86-4e39-968f-7936220a3e84.jpg', '305efd50-7e53-44c6-88c6-3f5e4b80e0c3.jpg', '2cb6db04-1799-4983-8e92-a54bc4df00ac.jpg', '9dc525c9-8787-4955-a832-22afb42c69cb.jpg', 'b1667215-ec32-4868-beca-3445fb95373b.jpg', 'ad68fa4d-d1e3-48b4-9026-229a61d39d90.jpg', '33b048d5-2cb1-4def-a3dc-1d496bca4417.jpg', '846111ba-5a1a-4330-bffe-7831ff3e9a9b.jpg', '98a2640c-c039-414d-956e-4df5e6e05133.jpg', '2744276e-a134-4757-9603-276e833164dc.jpg', 'a268fad8-420c-4f0e-881c-ac85e079ee57.jpg', 'a262bc43-c76d-42fa-aaa2-6cca729bf3a6.jpg', 'e473e932-2822-4b02-9888-29460c823967.jpg', 'f80077b2-9b16-449e-961e-ac8ad12c8496.jpg', '995ca8bb-0b54-483d-9bdc-07fcdb9e1519.jpg', '707b4633-c384-4b67-b3bc-d0f63a6ada55.jpg', 'd1eda4c9-20fc-4779-8792-fbe0db299294.jpg', '12d4ea70-4bab-47db-b46f-325433388470.jpg', '856dd357-e7ca-4b15-a326-295a55381592.jpg', '34ac4483-1801-4605-b04d-f294e283884c.jpg', '492d51b5-a4ca-4a25-8fb5-4e3e8a906a87.jpg', '6e023403-a154-408c-a0f0-bad73be09cfb.jpg', 'aea9fb59-afcc-4290-ac99-db38cb3b7e51.jpg', '013d9874-2638-46a7-b32e-1b37c6435f11.jpg', '1a36144f-4113-4999-ba04-2bc258b3a07e.jpg', '8f03f9e5-d603-47aa-8210-5e41b28fbfa3.jpg', 'b72e8ac5-6497-477e-b3b7-4222ad999488.jpg', 'd816fdda-cb62-4252-a755-6150549d437b.jpg', '931d1b11-c84b-4755-9fce-d9d2624e9ea0.jpg', 'b7fb3f57-e813-4804-a112-531d748fa280.jpg', '35a9dca9-50cd-45e9-b828-d218712f1bba.jpg', 'fa659bf5-055e-4983-a098-205dda380016.jpg', 'b0abf808-dad0-4342-8b60-2339b99abff7.jpg', 'bb530beb-b36b-4f91-bbe3-bd644456f51c.jpg', 'ccc5475d-aa9a-46ca-a6d7-9095c83d6dac.jpg', '6239f0b5-db7d-40d4-a3a3-17d0fce7300c.jpg', '4c222956-ff40-4dd2-a926-8f0e01c29d6e.jpg', '9b881469-2e9d-457d-a4b1-3d177849673d.jpg', 'e195682a-a9a2-4147-a2c1-750309df488c.jpg', '5c43b352-247e-45a8-97ba-fd199e5e99bf.jpg', '98f20b4c-0f9f-4f40-aca0-b8f10fb107df.jpg', '16064385-c5dc-471a-8223-3b02cfc7433f.jpg', '00bbaead-4a43-4ee5-84f9-9b92589f0e67.jpg', 'e864173f-173b-4fb7-b637-c00b76386365.jpg', '07c4c365-dd6f-4dc0-9317-3213e926be52.jpg', '2cddb36e-c6ed-4bb8-9682-fd7b4302fa38.jpg', '38c95d48-b881-4067-9d12-470fa0ee872e.jpg', '8623c8a9-1bca-401c-a06e-da5d29f31bf3.jpg', '3e632f1d-8e8d-46b1-adfd-cde04d19a6cb.jpg', '400cf43e-e45a-4618-a570-5e8f8d1ab765.jpg', '8e5595ae-b5be-43b4-b366-6831ca0fab9f.jpg', '3badf86f-1b76-45d3-8767-acf48cc83c10.jpg', 'ba9fa0c9-82f1-43e8-9d89-18c41a2f2cfb.jpg', '2fa75df3-b774-4701-820e-b4771564b30f.jpg', '071f16c7-9c6f-40df-b11b-596924b4b519.jpg', '09816131-69ed-4be2-b676-3961227f4383.jpg', 'a5612089-ea45-4071-aeeb-f30c96c002ea.jpg', '165c04e3-6823-40e2-9743-da0638a0d077.jpg', '748a8aeb-054e-4891-bea3-25395e64219d.jpg', 'c814d82f-33f0-4733-b35c-01a039aacd23.jpg', '818cb06c-ab79-40fd-b2bb-e2c6f4dc7a93.jpg', 'f5443e74-e17a-43e9-8fa3-5103a3dfc0f6.jpg', '7a6f803b-7c8e-4a68-950d-8e7a2e7e2a3f.jpg', 'c30b91a1-deaf-4c8a-bd1b-33ae66557ad9.jpg', '92c8fa9c-8240-4c56-af72-20d38019e49f.jpg', 'c5be048d-5505-424f-a18b-05f1f0a73c44.jpg', '56496058-bbb4-4a3d-b5eb-010332669f1d.jpg', '080394e3-758b-4979-b1e4-910ddcab4463.jpg', '2732379b-f472-4abf-821a-42a52c8e104f.jpg', '85ad3cea-7188-4770-81c7-9f563f11d458.jpg', 'd34b8f6c-0fc2-4d87-b105-394c24823afa.jpg', 'cbc78646-77ff-4787-881f-71f81c9f2c27.jpg', '96b9c4bf-388f-409c-8e34-b32e8bbc06e6.jpg', '0666c75e-c590-4e58-a59c-1a7f52741f87.jpg', '631e2d1d-d268-4e91-8503-9f1a668deffd.jpg', '9d550b38-0802-4a15-b995-8bc0abbc1f86.jpg', 'ff4bc73e-f4f9-4173-8de3-fe0f009a2022.jpg', '3d5d8ab8-07b0-4482-863e-313be4100f37.jpg', '9455107e-a3fe-4c3b-8345-0e8219d8bca4.jpg', 'd102e931-5ebb-4b60-8038-c26de724490c.jpg', '659fee9d-a6fd-44a6-abb9-e913a530dd35.jpg', 'abcf7937-e428-4624-aaba-2d45622ef46d.jpg', '34183e5b-3517-433a-8962-7002f31681f3.jpg', '3556ea56-4104-4f30-8199-84a981a1c0a1.jpg', 'e1c9d9a1-164d-4021-a94b-7a680e6617c6.jpg', 'c702bc9c-4680-4e99-a61a-1261b3f0223c.jpg', '727036f6-2955-4049-b160-7531492aa50e.jpg', '51f04adf-6e63-42f9-bfad-1ee7a9dc13fb.jpg', '39980c84-fe54-452b-9af7-31f2ea7e3d5a.jpg', '5c55320c-bc12-4769-a661-073b42897ca0.jpg', '8768d0f8-1c0f-442b-852d-bfd5eedbe011.jpg', '26bcde99-e242-4aea-b870-e90544347406.jpg', '910d55ff-214b-4dc5-b508-46a2083485f7.jpg', '9d967383-2c06-4153-ae88-fda67ae8d625.jpg', 'f32c3ad9-5f2c-4a3c-ae67-f4aacb1136e5.jpg', 'cd772a7f-83a1-4c6b-a49d-609e6f1da980.jpg', '0eff0106-78d0-4c50-a7dd-3dcb9a7ef92e.jpg', 'd53a9871-fd4f-442c-a740-63e4d6c49bae.jpg', '37fb93ef-116d-4091-980d-9eb59826e719.jpg', '2e97324a-ab71-4869-871c-ce499213ae0f.jpg', 'd3c48022-499c-4edb-a37e-473070a1dfa0.jpg', '54559949-1eec-43f9-ae85-9ef123aa66e9.jpg', '57f66702-0487-45dc-8c2c-180c1edd8083.jpg', 'ced2f3bf-ea80-4d5f-8ca6-1e7e77cc609e.jpg', '9addf17d-a14f-4f89-b2c3-e33ab3d2f98d.jpg', '7c703e03-c5df-4e23-86ce-f923c47f79b6.jpg', 'bf70a340-478b-496d-adfd-48b07cd53f84.jpg', '1b49d8d4-7f1d-410f-b051-9ed091a736a4.jpg', '4da470ad-210c-46b8-b321-f460e72116eb.jpg', 'c229b29f-452b-4c91-9768-262eaef7ed85.jpg', '614465e2-43f8-4c1c-9dd9-c385ad8ec680.jpg', 'cc013ad6-5cd2-48c0-aa81-2ae54ea07c7d.jpg', '4a4f9a53-8432-47b7-956e-b4319191cb59.jpg', '64b864f8-2df7-4def-bc37-cfe9af427ab6.jpg', '8d20505d-0cbc-4f0f-8294-cc1bc2ef7695.jpg', 'd5c410a9-5b07-45ca-ab43-29003a60b15a.jpg', '5a34df6d-b92e-404f-805a-872d69abe290.jpg', 'c0eecab6-c177-4ead-9eed-cfc2befda99f.jpg', '5869a4d3-dbf1-48ef-97b0-f2459aced303.jpg', '7ddf28aa-0ef7-471f-a0bd-086c0b4430dd.jpg', '73ece763-be26-4ea0-b8b8-78ed00d41c18.jpg', 'c973a2fa-647d-4cb0-90f1-f53f682b149c.jpg', '5ba4f250-82ea-42d8-a6ff-26815180a94e.jpg', '6345c435-03cd-412b-99d2-0e9616709ffa.jpg', '94ca8b4d-e025-4c34-b398-0468d915eab5.jpg', 'a48ab1ad-c03f-4ade-b7b0-40f86fb1a1b6.jpg', 'b1a84eda-6ffd-4007-bdd0-39f6b8143c8f.jpg', '94c64598-b108-4c5d-b593-a7ee584afd8e.jpg', '84c51233-b5b5-4681-adea-fe9e4a02e3ca.jpg', 'ae234c5a-d654-4415-b287-66c2f69873df.jpg', '0ea94e4d-9ab7-4aa7-883c-f3d8e7d8f1cf.jpg', '3939a06f-06fd-4c5c-a337-d6ba2b721a91.jpg', 'a9463ea4-5702-44e7-877e-873f6647efca.jpg', 'ff2cdf43-ae94-443f-b6a3-750fe49aac73.jpg', '8521a5da-31af-4ba7-a75b-b5d4923bbe5f.jpg', '1d7682ba-695d-488e-9c25-f3078748325e.jpg', '6c3ef667-5674-4cd9-9686-c30bdfd3eaf0.jpg', '756665b4-bf8e-44fa-b0c1-65b581d8c650.jpg', 'fcb5b5df-c45d-470d-a043-edb2429a8ea0.jpg', '3b2a3536-1b36-41b8-a8a9-6a8d51f5e612.jpg', 'ce518c15-ad6b-48cd-ba3a-82886a11e05f.jpg', '9cba5954-3fe5-404d-b425-c937a5981712.jpg', 'd2bdf48c-61f2-45e5-8845-a0b282fdda49.jpg', '95399158-c620-45d5-8074-a27700ffbc8c.jpg', '5744a023-234b-448c-9b35-eeac48f66c53.jpg', '8db5341a-ac5a-4bb5-8a41-760b15d0ea10.jpg', '0c0d87ab-6a5a-4f80-8643-c8871ae7950e.jpg', '817a91b4-6639-485f-aca2-7a818a56624e.jpg', 'd5197ba4-9572-468e-99bd-34d3ee40be6c.jpg', 'd220f224-80b7-40c6-a864-7e3bfe3ce7e8.jpg', '0358b3ec-72c3-457d-a462-59d05420faef.jpg', 'ddc92048-38cb-4658-8eb1-67b096e20ef7.jpg', 'f1edf5ad-e3d9-4242-8a65-8153ea7f61ab.jpg', '90387fbe-164e-4c90-a6d7-58d3f6d34c52.jpg', '077e8c70-3f59-46f2-ae16-caacbfc7d17e.jpg', '996aa532-ca4b-4df2-bc92-fc9019ba7270.jpg', '80741021-7d5e-4ddd-9e17-ae0ef046ffad.jpg', '62156892-f77a-427b-a06f-fecd771bae30.jpg', 'e15c5a62-96bc-4c2c-ac97-fba27702a680.jpg', '6522c8ff-fc40-481f-a15a-ee15c8aadbae.jpg', '6aec9bea-dae8-4f34-902b-18924edbfeee.jpg', 'fffd7a83-b866-4e64-8809-118fdfbcaaea.jpg', '36cafe62-7546-47ea-a968-6d7f546e0504.jpg', 'a866f9e8-d422-44a4-824e-c6d865f43a79.jpg', 'c74eec91-4173-4b5d-b1eb-005fd30b71cd.jpg', '744da3f6-9503-4772-96b5-9d58b73751ac.jpg', 'd4fca350-4406-49f9-a60a-8d4ff58e809e.jpg', 'c2cfcd07-9447-4b00-b91b-e17ecc57dd8b.jpg', '781c2f2b-36db-4cde-925b-60c0125febf2.jpg', 'd15aa60a-bad6-40ab-8c23-2bc004022999.jpg', 'a0949603-cff0-47e7-b042-9f8b80bd6427.jpg', 'dfbae5cb-ebdb-4e35-b5c2-f12defe53f8f.jpg', 'f15d77be-4276-465b-bdf6-735bcc9b9d48.jpg', '91a08db3-c795-4057-8132-94d74fae5f7a.jpg', 'c0ba606f-95eb-4900-927a-07cd332a8a82.jpg', 'c3341387-9ddf-44c7-aaf1-704319090151.jpg', 'bfb69721-6a62-4e98-9ebf-5a002fc53113.jpg', '171704b4-4ab8-4b06-be23-1b70abbc810b.jpg', '7b14f180-1ca2-4737-964b-6beadf48a534.jpg', '6f645d08-9025-4f71-bb68-b56b48abf729.jpg', '60fb76e9-89a6-45ae-b2f2-72136cfd8d7c.jpg', '72371f94-c929-47af-8a97-46b00c96fa2b.jpg', '93615d4b-556f-4a0a-a6db-7553aecec1d0.jpg', 'baf0c023-7fe0-476e-9503-694c1b194738.jpg', '98d0e0ca-fea4-446d-b4ad-efb7060f73ee.jpg', '1de42b34-6e36-4fe4-a5fb-82371eb8f697.jpg', '7e4e6a04-a703-4de7-aff9-9bb732bf6d2e.jpg', '239d9909-8e74-43e3-85f1-a8225282bde4.jpg', 'cea85a92-9dce-49d9-b888-562717a33e20.jpg', 'ac6b2ffc-3e85-4e70-8f93-a486f55dd2ca.jpg', 'ae67b620-87c3-4e7c-8dce-ad41e944a71e.jpg', '4d614f8c-4dcc-4e60-b1f0-448846249ca8.jpg', '658e76fe-385c-4ff8-a5d3-2dfaf9368268.jpg', 'b92a0430-2564-47e4-ba49-9839080774d3.jpg', '7c8a30d8-70f8-4de7-a77f-e23cbb4a7834.jpg', '1c740543-0964-46c9-9490-aa5d73ccec67.jpg', '1b3de028-ab8e-41a6-9c0a-4418d98c7eed.jpg', '70f9a6d3-0bbb-4c19-b4e0-7a3a5d51eed8.jpg', '82c84df3-fded-49a7-ad50-92a7e584adf0.jpg', '9b9a8b72-1400-4f97-9080-1810975a3b96.jpg', 'f962aa1e-824a-40c1-9db1-b825ddc6a44c.jpg', 'e82831ce-9198-42d8-a70f-d23db897b62b.jpg', 'c1031965-fb4f-4770-9ff0-f2545e7a32d2.jpg', '4a383ea3-d031-49d3-a423-161aa501c3a5.jpg', '4ead1659-39da-418e-95e6-0bc0fb8abe39.jpg', 'dae3f427-e111-420e-a0db-c0055e7e769e.jpg', 'ffdd6511-a37e-4b2d-8c18-4dc868c2bd2b.jpg', '6d49c0a2-ce89-4c7e-a314-bc19b43ce130.jpg', 'ddac810b-4b3f-405b-9592-a95d7b0b997a.jpg', '30398540-9e89-4883-912a-15c7877a0d39.jpg', 'ed3ce4b8-55e8-4d9f-bf34-805a71bc2ec3.jpg', '352ade36-c330-4384-9873-eccc76cc9bdb.jpg', '3ba55d46-df71-42bd-909f-47c22b8df63a.jpg', '2cc4dbe5-9b85-4ea0-b15b-53c32bd3d9fd.jpg', '57dc3593-c7d9-4df6-8409-a76919566f0d.jpg', '9b38e08d-1271-4ae5-9175-6616cd7d084a.jpg', '683af63d-a17a-4e8a-a0a5-52da48bf4884.jpg', 'b5172fcd-8b85-443b-ace0-e2b802b52852.jpg', '69dcbf00-9be7-4827-a49e-b81b6296625d.jpg', '2ca63835-753b-44f9-b0a9-df904fe67c82.jpg', '509eff89-9cef-4dc0-9c09-50b1cb67cba1.jpg', '8d2af1b2-807f-4e60-b798-f233cd530523.jpg', '1ca1ebfb-53ef-4790-9718-82eff94781b7.jpg', 'ca1bb87b-476f-4cdb-b868-c8c682f16684.jpg', 'e599bea4-b2d1-435d-b112-a85c30e61fe0.jpg', '0ca25926-9dd1-4d03-b9ca-27c0378860e8.jpg', '8deccdbb-87e6-4f45-974d-b31dda29e584.jpg', '69bbc7ad-7a77-4b87-a228-a3ff50699663.jpg', 'b41eb99b-b306-442f-97ca-aa769a8aa8c9.jpg', '598e970c-81c9-4501-96b6-ef79fa51e3a7.jpg', '8da40023-9804-4047-bf25-4e25b6a80535.jpg', '9e637db1-0cea-4fa9-8e96-455eb5b525b1.jpg', '08cce461-c27e-42a7-9a0c-e115f5ac2018.jpg', 'f2542402-5302-4b12-b7ec-c32adb501a84.jpg', 'd488b11c-4211-4e1e-8ac5-c17bad7da5b9.jpg', '1b689aeb-cc9b-4192-8efb-87e35881a8b1.jpg', '61860cd4-70f0-4913-b846-2e9ff682982d.jpg', 'd8710573-5d1b-4705-8b5a-80a6edd25454.jpg', '28cca378-206e-4c71-808c-a123174d4e6f.jpg', 'f8cc97bc-bd77-49ba-bf98-65c3dff5154e.jpg', '41d9a649-8809-4c42-9f5d-e5c987120ef6.jpg', '87e8e7cc-3e45-4a4f-a500-76e25acff8ab.jpg', '4644f9fc-7f25-44b7-97b5-c09a0efa4430.jpg', '5f8a5b2a-bf3d-43be-802f-23c10fa15456.jpg', '0e38500c-27fe-4c87-ba99-34bf50505285.jpg', 'afeb6af2-9a49-45c3-801c-2f19b3e49eb0.jpg', 'ea56c51d-d778-4a64-9c64-8af12f86acbb.jpg', '30bc5029-02a3-4058-9b67-744282b0de4f.jpg', '1afd86d1-5634-471b-83e6-63b342b99da1.jpg', '1a95c4bf-b630-4cbe-86b5-7ecc962f93ef.jpg', '7bc6113f-6a41-431c-8440-a617c9cf194e.jpg', 'ee5c77b2-f804-429d-8328-2d133fec94e2.jpg', 'ed33bd03-2bdc-4c40-8e4c-10835bcde32e.jpg', '0832cd2c-8b8f-4403-a499-1f7b628da697.jpg', '163e7212-3ea5-4d85-95c3-7cd78a4f1aaa.jpg', 'cb328b3d-23cb-4b22-b221-dbfb405e498b.jpg', 'a810c647-8bcf-4b0b-84ac-1270ef9a7ea3.jpg', '0fb62bfb-9e89-48bb-9b48-4ce444a0ce77.jpg', 'f56e200e-9243-456d-9856-de0866de5c1d.jpg', 'bb440eef-90fb-41cb-8caf-26f729e228d5.jpg', '5e73d5e1-deaf-49ad-b14c-5a2e04cda960.jpg', 'cd628be7-2ba9-4d73-b1f7-b0a667a31224.jpg', 'e648c8ba-ee43-4d2b-8f3f-733fe37ea762.jpg', 'e1a1b72d-a803-45d5-a08c-464cb3fcdba7.jpg', '6f67ee44-6ca0-4c65-8f4e-cae1f427c0db.jpg', '64071e45-5112-4f87-ad7b-c1f9f45a6371.jpg', '8a2cbf0d-b505-489d-82e1-88560915462b.jpg', '9353162e-ca79-40ba-91a9-8877fdc56d69.jpg', 'bc306ad7-f20c-4f18-831e-272cfefd4ec3.jpg', '9d4c922e-4c6a-44eb-8303-017399b53cc9.jpg', 'd4b85cc0-ca31-4beb-a74b-c18756ac2877.jpg', '2ae0246a-a430-412e-a979-5753e0697312.jpg', 'b0ba4252-6f01-446b-916d-5acc99c8ea2c.jpg', 'ddbb1da7-ecc9-4db7-87ce-5ffacc7b825a.jpg', 'd606831f-b22f-42b6-86b4-ab6e4d717bd3.jpg', '09d5d4fc-761a-4b60-9e05-a469651db00f.jpg', 'b672b178-c9fd-4f6f-90e0-2b2ad166b7b8.jpg', '080127c6-8bf8-419e-84de-b64d9097b478.jpg', '1a9b453b-978f-4d80-893d-b7498a023385.jpg', '23296a1a-cb0f-46ac-85af-e9b8ce656cf4.jpg', 'b481e2c9-db9f-40c3-b428-eea3b17aae7f.jpg', 'd7f5684c-5ba7-4c08-b9ec-49fdada1b9ec.jpg', '5d14082a-d1ab-438b-9879-722024db4268.jpg', 'e658d29c-8adc-4f6f-950f-3a8bdffb2a78.jpg', '7fd27a5a-0dce-4a98-a659-59a453035175.jpg', 'f5b6bc5a-1964-4296-8eaa-7876c39a9150.jpg', '03a9d40c-1500-4afd-9cf1-0703c69f1f17.jpg', '6d82e3e1-ad2c-4371-9397-75f25d12bad5.jpg', 'e9ea02ff-8173-4dc2-8f10-b1606a1c7720.jpg', '066ecb89-94ce-4bc2-94a1-a716a1cd5390.jpg', 'd9f7eb52-5a16-4aa4-b87b-d6c6c00978f5.jpg', '01928ab5-e908-4af2-9510-4488f620254b.jpg', '916f4f11-c245-4057-bbed-4fb281c11db1.jpg', '670eef43-6693-426c-861e-0ac35c65c6d1.jpg', 'eaa0dd55-af64-4a24-a136-257c40e5cff7.jpg', 'acdd1d52-30cb-486b-b057-7c2917851c49.jpg', '0aed7ab6-0d46-4f78-a6db-f276a918a0df.jpg', 'bbe38363-6216-4472-a3b6-181210c93fb1.jpg', 'f4b6d83d-c4b2-43fc-94df-0c7a6445c0ff.jpg', '60af27ac-14d5-497e-8c62-dde81699a218.jpg', '3e77f326-a2e7-40cf-aea2-ccdc86854e9a.jpg', '633dfb97-bb44-4719-b3ba-e11deac9fa3b.jpg', 'ed4359e8-2141-49e0-9331-9adbe1b5e6dd.jpg', '68c1efca-e52b-46ae-beb3-defa1184de84.jpg', 'fa6ed7a2-ce7b-46b0-816f-3ca1bcda1f5c.jpg', '1ba2b25e-34ef-4037-84b5-92e728515945.jpg', '4326f92c-4cdb-458e-ada1-f3ec284cab74.jpg', '8828da58-2c6e-4db1-aead-6c31f4213b87.jpg', '5df5010f-ce54-45f7-89ee-2beeb1fa490a.jpg', '4299440d-cd28-4857-8261-2e115373d80f.jpg', '63510aa3-50cd-4b39-93d4-f6c064684091.jpg', '765b50b9-d92d-4e7f-b04e-2622f128ff54.jpg', '173c4626-1638-49f3-bde8-c575deccfde0.jpg', 'fcdbd0d7-5b1f-487a-a357-bfa511eed52a.jpg', 'a64285ef-603f-4274-ace9-2496d3eaf279.jpg', 'd0aee5e1-df31-4156-b6b8-9c357a8a8017.jpg', '4f8695b8-847b-4f7b-b7e3-bdecdd235445.jpg', 'ff8b3862-ce86-4c20-b109-6aa445c3b4e1.jpg', '0c0c5159-f5f5-4fdf-92f1-a4485dc318b6.jpg', 'ef401e4f-159b-4a35-8475-d3c6451aea04.jpg', 'eb0f9f64-edf6-4c30-83c2-9563ac6d522d.jpg', '3aa06f30-5b42-4f90-9516-004443a99de1.jpg', 'd7f6c4c1-2440-45bf-bd62-ff63ff1c9fb5.jpg', '63cb7f79-3faa-4fd3-af56-fc7cf8c72a1f.jpg', '7c751a85-46fc-4bb5-a8b7-e6d3c89190d4.jpg', '6ed4a86e-f793-4926-aab7-1ac23cdccf9b.jpg', 'ae93d75a-12db-4e0b-a794-be44fef7a0b4.jpg', '5a238b31-d5ce-40fd-89c1-366a70665c6f.jpg', '5b0551f1-efce-4bcc-aa7d-252daa7d0215.jpg', '7b031d68-7c9a-4a08-bb0d-5b6a9d8a0629.jpg', '9b44083a-bea6-4863-a11d-241f8fe3c5f3.jpg', '0dfbe505-0e9c-47a7-b21c-8783e3e48998.jpg', 'd3071119-b4a7-494e-94c7-702cd3aeb1ec.jpg', 'fe640fae-15df-4338-848f-727b7500caf6.jpg', '0a29a005-ce69-43af-9ce8-b9928b408f5b.jpg', 'b77b9473-7230-49f4-a9b8-9f721bc4adfb.jpg', '773a52c7-4f15-42c3-95cb-2d3ee0206a2c.jpg', 'b3a1deb9-c6b9-4808-b58c-ead2107a0385.jpg', 'a672d56f-3297-45ac-aea8-1c42df06401e.jpg', '56b63f7e-41be-4c7c-80b6-c249c03a0194.jpg', '8670eff4-11cc-46c2-8bb3-b5210ad87a66.jpg', 'e17cb051-e784-461a-99a6-42c0312971e2.jpg', 'a28bb687-9d5e-4ad2-84c3-d36795751529.jpg', '1c00092e-5a16-4616-9758-a07a986a6c72.jpg', 'd731776c-9379-4036-b3e4-87ed897e5679.jpg', '5c7e36fd-8640-478b-8483-b67c38bbafb2.jpg', '3a60a017-6f77-482f-be0b-ab18f7f424a8.jpg', '724b06bd-2d6d-438a-b4bc-c0a7390e3893.jpg', '97024a7c-e5d1-4881-8d87-ed9bb8d2733b.jpg', '7f46099c-0f13-45fd-a52b-82264b419460.jpg', 'acb27346-fdc2-4dff-a00e-2f5aa52924e6.jpg', '9a6535ed-702a-4992-8221-18adc50db616.jpg', '72c7cc05-bc3c-40f7-922f-5fd8fc10c4ad.jpg', '99689dac-56ef-49e3-a788-de22b13153c1.jpg', '45bf39e5-d711-48b6-a405-faadea557af1.jpg', '60fe48cd-4a4f-4c8c-a98b-935b77c3557b.jpg', '9c2e9e1f-0467-4fad-82c1-c0deb7eef2af.jpg', '3e11e149-a9dd-4073-954f-ca64b89265a4.jpg', '9e2a1b58-9e90-4405-b518-7fed805c79df.jpg', '7c7401ab-50de-4678-b58e-82d85b7e30fc.jpg', '2859c7e8-dcb4-4d48-94bd-fc5f377f4325.jpg', 'cc0ee676-5653-4368-9cb6-8b58dacb9ac0.jpg', '54406ce8-6353-438e-83b4-9cdc601915d7.jpg', '5ea913c0-805c-4158-8a6c-b43f2f6beb6f.jpg', '2930bdde-c653-47b4-8e63-d3bebfec2064.jpg', '5c8003fd-582b-4465-bf8f-c81f2f2f466f.jpg', '80e02425-7675-42a4-a219-b05af05a15e2.jpg', 'f58d9cf2-2823-4543-9bb3-a14a6817ea00.jpg', '7c873029-0af7-4abb-a12d-df1061d35eb5.jpg', 'c9c7df21-640d-44b8-bf27-53f22e15be32.jpg', 'dfd82958-9aba-45a6-a098-12c80c695dc5.jpg', '116b031b-1106-40e1-9417-084d867b5a9c.jpg', '3529b055-204d-4af4-9ac0-df24ed392de6.jpg', '3c7bd0ed-83f4-4093-b0fa-637a3c9bac4c.jpg', 'a24ee8e9-66aa-4c66-9ad1-a22995413e52.jpg', 'eb432fc2-8e50-456a-99ce-977d32047b7f.jpg', 'daa90485-1551-417d-8f45-54e01f4c533f.jpg', '87d626ed-cb25-47ca-a5c6-b6a981a10545.jpg', 'd5d8398c-7fd4-4790-852e-9da0a825c8da.jpg', 'c40900ed-030e-479c-9aed-0298c1cd3be4.jpg', '12b5a660-4f18-467d-a464-cb416ce91bc9.jpg', '84f4eff9-0077-475f-891c-d368fe3a89f0.jpg', 'cb01fa0b-e2f1-4e2a-93cd-d55439be47e7.jpg', '6e2db064-a510-43b7-83b8-d1ebd4253678.jpg', 'a6598947-824c-4689-82eb-eb4953a34206.jpg', '365670f7-dae6-4e9f-97f0-be66a97381b4.jpg', '348c6717-f1b6-4eb9-a96f-88de18217bfd.jpg', '4d22137f-3f83-4ff5-9746-a63f7cc0f591.jpg', 'b061ab12-3af0-4352-9c49-853be7112dba.jpg', '4a1fcdb4-ca36-4aa3-b01b-ed908bc68a65.jpg', '1789cb63-8f8b-44d1-84cc-13bcbe2e204f.jpg', 'd868c86c-f45e-48b1-9704-2fa39385fba1.jpg', 'fa6c7290-aa48-4369-ab26-46fe833efc09.jpg', '36a4c032-0970-41fa-ab5c-9227dc2ab1b2.jpg', 'd558cb3e-7d8c-4ee2-a662-2bcfec1cd8a4.jpg', 'd3ca7e51-f960-40bf-bcdd-31fe8b076a4d.jpg', '63302169-ac97-412b-883c-720d66c2208f.jpg', '7c939759-c0dc-49eb-bef9-afd979707fc3.jpg', '105a5c8b-b46f-40a2-b026-800ee5dc855e.jpg', 'd4f91038-1667-44aa-a41f-ab9390b66bc4.jpg', '68edfd1c-7782-49b9-b713-2fb86a824b1e.jpg', '080c5db5-77a0-4491-9e24-dbcc3beafbe7.jpg', '05a4bb2b-79cf-44d7-bce2-23321045b8b7.jpg', 'af1b1dad-6a22-476d-b7ee-b504363283b5.jpg', '8bfa0dd6-b9be-48d7-99b9-13b742f77ad3.jpg', 'f8431f28-7c83-48d2-b481-867b9e928061.jpg', 'ecc1ac61-3a1f-46fc-8f44-674208227d01.jpg', '7ebe0b11-450a-40e5-b3ae-c8ee5d43f15a.jpg', 'e74abdc6-7a95-46dd-af99-34e9a4e00045.jpg', 'f70b198d-0297-4b0c-b5ec-c854118a3621.jpg', 'cf158482-30eb-4d3d-abf0-aa47c4eb7cae.jpg', '3bd72983-611e-4294-bfb9-51cb0d5cc4ce.jpg', '52244b3c-9b4a-45ab-ab11-3200a402c6cb.jpg', 'dce85c3d-ef44-4b17-98d1-718d4612ba58.jpg', '2755e104-3ccd-451e-ba5c-bec1c6792fb1.jpg', 'c0b0a070-4f59-4f6f-b77c-78a50331d04c.jpg', '064c180b-cc0c-47b8-a973-c535362df177.jpg', '89f0a3e2-5e13-4732-89ed-cb483f8a38c0.jpg', '3adb8573-40f0-43d0-a335-a9fd3319468c.jpg', 'e03e2a29-fffc-4fd1-ba3e-43aa5fd8b2ed.jpg', 'aa5aa5eb-8c6d-46ef-b131-97d77f3645d0.jpg', '8c23c5b3-eced-439d-8ad6-4dee61a954cc.jpg', '2510aae6-7daa-49d2-95b2-dd6a769d8ed0.jpg', '6599e98d-29fb-4af8-ad27-ae4d73adaf18.jpg', '2c8b448c-727c-4e73-bbd9-797101d3dc05.jpg', 'ab06fd52-7e61-44b4-a635-4cfdc8813013.jpg', '628f7e7b-4e2e-4ff4-a9f3-be40595e71e3.jpg', 'f6819ac8-15b9-4cf1-8a8d-5299e2ca2a90.jpg', 'd0afb6b8-099b-42d4-9547-18a255b74aa4.jpg', 'd04029e1-726f-4be6-b06b-f3ad625ccc4c.jpg', '7362d6d7-9cb7-49e0-b000-227173211fc8.jpg', '4951b36f-e1ef-41e8-9fd0-d26e6e6975e1.jpg', 'bc0cea81-5bc8-4e43-b73a-615c5b283d00.jpg', '4bf8aa1a-5992-4649-be84-c14c209abe44.jpg', '1798121d-eb02-4519-b79a-ee0c94ff250b.jpg', '06edecaf-cbb0-4026-9c33-6a9c400df846.jpg', 'd8aff881-bcb1-4988-8b76-b7101e056d6d.jpg', '11002ede-cac0-4dc3-a072-38a197b9b96f.jpg', 'ad1edad0-a844-4234-a893-8e06520e2b42.jpg', 'a82a2cab-c8f8-4493-9b48-1f28aca814a9.jpg', '046880ed-1686-4d66-9929-095627020dfd.jpg', '47dd299a-db4a-4ab5-9d04-9f5ec4aecc3f.jpg', 'aecbd34b-9d27-4385-95aa-1869e6dfbe9d.jpg', '73555d3f-1374-4f39-bd30-3ea7cd679596.jpg', 'f62c818f-143a-4d02-ba58-9d479140ea96.jpg', '451dc4b3-48ea-4a20-8015-3a4e103f2a77.jpg', '59e1dd11-e15a-4e16-98a1-3b21b24eb448.jpg', '9a824a72-eba8-4eee-ae73-2ee1250c62c2.jpg', '7630ec53-77b7-4a09-8c58-9b66b136b053.jpg', '3e231487-e819-488c-be2c-661568ef2602.jpg', 'd0f035ce-2f3b-480b-94ad-77e2ae64fdbe.jpg', '71ab900f-5a8d-4d2e-8fdd-64631129a6e6.jpg', 'c2ab046d-cea6-462e-8ccc-6cff81fdc1a0.jpg', '73dc73f7-8397-48d6-8152-bcb3c1e5637a.jpg', '04062424-03f2-4bcc-b603-076353f75f2e.jpg', 'cbbe1dfa-d859-46f4-9600-09b3e6707b46.jpg', '5a0979c5-1343-4a91-a69f-ae9f34101a7d.jpg', '3aab31c8-16a3-49ec-8ff9-6a87433f98b0.jpg', 'cd832757-b467-4c50-8aa3-07a0165fee35.jpg', '1f7de4da-f609-4b8d-9fc5-e916ed25c0a1.jpg', 'dc8da9e0-67e9-482e-a3eb-a190b0943140.jpg', 'af18d8f2-9ade-478a-bab9-5902438e4be3.jpg', 'a63ca026-00ea-499d-a4b2-5e9617f7003e.jpg', 'c0accf89-9be5-42e5-8419-2c7c799ab2a3.jpg', '41e7c800-cbf4-472c-ab1b-7417ea9e0f6b.jpg', '33ae6f9d-d66e-4711-b4d8-0753d8c4a55a.jpg', '2e2d64dd-5854-43a3-9a95-2939db18600b.jpg', '1a0c9094-ca93-4649-82e8-5da60559339c.jpg', '73cd80c0-3903-486f-bfe4-ef3076e7bf95.jpg', '1e0ae9d2-1396-4c66-843d-1c64fd89356f.jpg', 'e260c5e3-73d9-441b-b791-f56490c77107.jpg', 'b267b441-a232-4400-b8e3-e0baea72be42.jpg', '2f482710-d66e-4c17-bd4f-af23ad2eac08.jpg', 'f91c6a77-6f69-421d-bd0d-24d1bc34c608.jpg', 'b9ef58f4-ff04-4161-9289-b1265d9e1d70.jpg', '3bd4a703-ee64-40ad-a8e4-5372316bb616.jpg', '43015043-e24b-45df-91ff-e0b80e206ce6.jpg', '0e72b7ef-2bdb-4e25-aaf0-0acac313a5c6.jpg', '9b55eb41-1e53-4393-bb82-7b5bec5b8fa5.jpg', '8ee56021-1d01-4242-a0fa-b95b0d0dc9b5.jpg', 'cdc241e2-39d2-4603-976b-03a6a0871155.jpg', '8d6d08fa-bb2a-4a69-afe4-ee6357bec25f.jpg', '94adc77c-2b6b-4b43-a226-86ad649944da.jpg', '00a10414-db4c-44c8-a5dd-ca47ee4d37f4.jpg', 'fe046161-e5b0-41bb-9d5a-28f9481eb954.jpg', 'dfaeeb69-907c-40b9-824b-426e3ca05a27.jpg', 'f4ef51c5-e3c8-4ce6-bdd7-a81f33ad42b6.jpg', '10354edf-6190-4b0d-84a2-c1a28ba07b1d.jpg', '56463f29-6e87-41bc-937b-039330e53ecd.jpg', 'e4592a3b-51ab-451d-8837-80517b7356cb.jpg', '4e5646c5-46af-4746-ad79-165403a18ad7.jpg', '1095bb40-8a22-4da3-81f5-9e238a0686d0.jpg', '36b09bfb-abe1-4883-8159-b21c94a61cf2.jpg', 'c592a74a-d45b-4741-b4c7-4e6eb1b280ac.jpg', 'a450b27a-c157-41c2-8f3b-93b57d828b46.jpg', '191f8c66-058d-48b4-8951-1d55579b3c4b.jpg', 'c9ce76cd-13a5-4235-b82b-16c4fc05646e.jpg', 'f9a628c9-7a8e-4e3f-9130-9dd6a496706a.jpg', '5dd4f59d-4947-4c71-8d8d-6929530e390a.jpg', '917bea2b-f7fb-44a0-9bbd-be608f394c94.jpg', '9af53ddf-359e-491f-947e-e1b0a176d5fb.jpg', '5d413a76-dba1-4151-981c-fd58acd61d33.jpg', 'fa30240b-d04d-4133-854e-014e23d44f6a.jpg', '591347a2-b426-4e2b-8314-052d994a39fe.jpg', '658f6644-777a-4c1b-bbd0-082429abf449.jpg', '45ad5fee-4c6f-4b6e-b11d-9313bf8d9154.jpg', '6d43e225-4ebc-4d47-a605-45b6861012eb.jpg', '185856ab-17d0-4ecd-84e3-afa1b709595e.jpg', '357f48ad-7c3c-42cf-a1a5-adc3bb1e7a5e.jpg', 'ccd76c67-73b4-4aec-9687-35c3a299e109.jpg', 'eef18189-54fb-4e6d-9d03-493d24498684.jpg', '06e0d9fa-5693-4d17-b5a5-3e1ffbc3dd5a.jpg', '70fa2ed0-7b53-4131-9424-4bb65afccfa9.jpg', '89309198-3246-4efc-9cf9-9e7c5423d0c9.jpg', '61394b76-7df4-4159-8f5b-684df79ff56b.jpg', 'fcf79da6-80af-47bf-9e5b-a38e75566d45.jpg', 'c98b8b21-7f17-420c-b687-e100fe8af784.jpg', '4dd7ca3a-494e-44e5-9e0a-510b2043355d.jpg', '5b1bc3a9-3b34-4310-a4fc-c311db8516f1.jpg', '86b745df-3881-4278-a030-656cc7edcbfe.jpg', '679064ab-2f4f-43af-8fbe-a34b191bf1b6.jpg', '3d462c2a-f9c3-49d6-841d-ead6e54957c2.jpg', 'e68a6b2a-435a-4dfd-b56d-d11e8fad810f.jpg', 'b8730cb7-094e-4987-b346-3a32a20fe367.jpg', '2bc026a7-7f1e-4d8a-99b3-b1066b48785e.jpg', '650d90c4-dd1a-40d7-888c-6a6886fd831d.jpg', '17335cab-5ed3-4bf4-ad25-5dd113a436b2.jpg', '3291abf5-175d-46b1-911d-6eb93ce9de98.jpg', '6346e9c1-bd1b-4513-a536-85562bf95bb9.jpg', 'a1682cb4-4208-4a1d-8454-2375588a5e7c.jpg', 'be237f70-83a7-412b-b56b-ad2468514ef5.jpg', 'b9535e4c-24c8-420a-90dd-033c6ab5b1ac.jpg', '97503ccb-296e-45c3-9f2e-772439bb5b53.jpg', 'dc2b2a1d-b9a1-4b78-8e13-81265242980d.jpg', 'c0f19765-5b94-4f69-beda-aef7fa947cc9.jpg', '5790ef86-849b-4259-8c61-9eacbfb11a69.jpg', '6dc555c0-59c2-408f-874a-21617f224d60.jpg', 'a012d6ec-7ef5-44ca-98d2-dea6e8a79eec.jpg', '1ba5cd77-446e-4f29-ab87-502deeefa75f.jpg', '3bfdb373-06c3-4f06-96ff-4e4357b39aa0.jpg', '21a31ff3-6257-4cba-a97c-cd942bc7c5e0.jpg', 'ea672634-3be5-4e3f-8338-e3f25e7aaec1.jpg', '439cc568-61dd-4eab-ae6d-79efe0f66a7f.jpg', '2c913a31-5b5d-4e74-8193-0cb9da456401.jpg', '82432d50-d403-46d9-9678-47459fa6c9be.jpg', '5b719c47-3239-41aa-9546-853d91576a43.jpg', 'a6009432-8192-4032-8e54-dae40492da51.jpg', '8dfb7517-e13c-42e9-93b3-76fcb444e805.jpg', 'b7d3207e-f98e-41fe-ba21-c5648fa45e1c.jpg', '3d515094-9829-4c58-9293-257c93d8e725.jpg', 'd83f9259-486d-4ace-8fbe-bfe9e13e0eed.jpg', 'faa62ba1-57f7-4e3d-820e-13df3c527607.jpg', '6621b302-c451-4ca3-a44b-2dca51479448.jpg', 'c12ed73b-e97f-4cb6-82ec-e1b6756636b0.jpg', 'e8160eaa-d154-44bb-8bcd-1e466513273f.jpg', 'ed0eee04-316b-4113-b774-1af9015ab363.jpg', 'd2dd4b9c-b92d-4295-9468-419405caa8f2.jpg', 'a265b0e5-c4e3-4cc4-8a64-2e707a48e5f5.jpg', '70030e40-bf58-4399-a3e8-3291803b9e70.jpg', '6f417a13-2a95-4e27-be2c-ef4816c24d0c.jpg', '6dc4588c-8377-457b-a8e4-914e8c203229.jpg', '4bf35223-f6c9-4da6-b179-5cce15583c86.jpg', 'd71b3118-2e6d-4200-8022-f223652360cb.jpg', '69b8dd2c-7881-4c25-926f-f23d750eb90d.jpg', 'c0c873b9-766c-47bd-9ca1-be48f53e215b.jpg', '5529c527-7488-492f-a67c-38021fdb0231.jpg', 'e865f10a-271a-4d5e-802f-0b90700236b2.jpg', 'a46aebed-e1b4-4e21-9d23-e09086f3ff24.jpg', 'd6d4af4c-10e4-4cc9-b856-feefd23a7d0e.jpg', '0a8b2b38-4727-4dcd-b440-9532daa1f5ab.jpg', '14a68cc1-e46b-4f80-9873-f9ca563ecc02.jpg', '3db466af-5f4c-479d-99ac-ebb9ac416daa.jpg', '36fcd172-e083-4fb4-84e2-4f75716c1929.jpg', '9e7bd563-a924-48a7-acf6-3ed82ccf6fc9.jpg', '760d12ca-21ac-417b-876c-88f2750dafe6.jpg', '0a27b60d-04e4-4143-a62f-e94ed23b6729.jpg', '3f5a652d-73d9-44e5-bf2e-e688edeb0d3f.jpg', '40520a23-83b5-442c-ae8d-e99a149d2817.jpg', '9e9d382e-642f-4572-8b1b-0a3d2e5edd7e.jpg', '121a7ede-d256-4a04-a9c0-0496ff8dd694.jpg', '0f4f71b7-46e9-45c8-a68b-4c2b90681b7b.jpg', '7f80774d-ea61-4c3d-bc8e-0831a837d2c0.jpg', '3073f360-dd37-4e23-bb8b-4789df7f275c.jpg', '72a32043-6771-4baa-a266-f09caf73b519.jpg', '2a7eafd1-5c64-4018-bd02-33e369f6aa52.jpg', 'fa3b2917-a39a-4160-a700-855867ba5932.jpg', '87057c80-b0eb-47bc-8b4b-f833ced493ce.jpg', '8c517ce8-7c51-43c5-8d5e-746f093000a0.jpg', '88ab6763-26a9-4420-81fe-7d2322f04552.jpg', '277c58ec-2036-492d-9f29-d0b35e076f0a.jpg', 'd24cbd3a-2fc8-47a2-a072-3617752c946b.jpg', 'eda21029-4ca4-41bb-9216-3e479050a9c1.jpg', '2c82d92a-7883-4a17-a52d-18f751579f88.jpg', '5b50eb7d-e403-4373-b474-2938cc9183f1.jpg', '9a33c026-b833-45b4-896e-f55dafe49117.jpg', '8918a020-6754-4a41-9256-71917fa51f28.jpg', '51a023e4-da34-44df-b20d-15fcb4c87a8c.jpg', 'b939911e-33d1-4cb7-9f6c-f8b00d2b15d1.jpg', '8424e92d-b813-4a02-826e-84e88703ab46.jpg', '2349871b-7b87-44ff-9b06-d23ad9e99d5c.jpg', '8f349787-ba97-49d8-8ed8-4c6579025b39.jpg', '8ff16a6b-c8db-4c6a-9637-ee17aa3138b3.jpg', '83b08dac-15ba-446e-8885-6e042a07777d.jpg', '7d1132dd-6afa-4d52-b79e-88cc5c7b88ab.jpg', '29821ff9-3472-4342-815e-fba8277e9c81.jpg', 'fccd9b87-1fe4-452e-9d64-5993723669c9.jpg', 'fa0830f4-b8b2-4a47-9e58-4e9675788fc8.jpg', '67b76ead-b629-483d-940b-4f4bddf3998e.jpg', 'bca9013a-25a2-441d-8e3c-d6806eb85145.jpg', '94e80d8c-278a-42c9-a3ba-35cf68372286.jpg', 'f92e8547-c749-45af-a795-76eeb3c1587e.jpg', '7244192e-1cf4-4433-a76f-afd3edfabb5f.jpg', 'c2ee9a32-e527-4f92-89ac-cc871825904a.jpg', '4307802a-ef8f-404c-9cfd-7bd546a546dc.jpg', '207172f6-532f-4790-a69e-bae4f8d9ca48.jpg', '13783014-228e-4bae-861d-6af770dc76ef.jpg', 'd7c3ed96-cf3f-47aa-8e81-7192907f8572.jpg', '98816380-6516-42d1-b3ab-72ea8606f153.jpg', '681a078f-3eac-4f5f-a31e-769ac9cb11eb.jpg', '3122a77e-a295-4671-98ee-c805f3f928f0.jpg', '2e1edc3d-c068-4493-a8b8-f8f2ee9660c9.jpg', 'acd94d75-a757-4f79-9dfc-ae6a54bedff0.jpg', '151b6c5d-017d-48d8-8aa9-fb10fe0cf857.jpg', 'e7f184f1-c6fe-43ac-b777-683226e79fbc.jpg', '93515d26-0818-4bf4-9cce-b7150c30515a.jpg', '6ab30a6f-6bf1-4031-8457-083b2e58df87.jpg', 'ee98e930-2480-477a-b20e-2a1e77ca2bd6.jpg', '45831be7-6336-49d2-a5eb-a087db71b418.jpg', 'e5611551-b48f-42d2-a0af-d4281280e496.jpg', '9902aee3-ed58-4110-ab93-c12e0bba6ecd.jpg', 'd5db1c6b-892a-4875-b41e-e6aeb6486149.jpg', 'ada5985a-1461-46a8-b8ce-f58154746204.jpg', 'b6cacca9-3971-41e0-9921-09c1663a29cd.jpg', 'ef616e6c-35d2-4a65-bdd2-0dcce21b0672.jpg', '573a3893-5cd6-4c4e-be8f-69fef1ef0dc8.jpg', 'b4b97054-50ae-4ffc-88cf-a59171dfd460.jpg', '12f1a7ce-8afd-4e78-900c-10b6dbd4edf9.jpg', '71f2409d-ec75-4437-b8e0-c4ff6e30e6cc.jpg', 'c397896f-fdc4-4675-b651-4be34dae6f67.jpg', '34960323-55d1-444b-bd3e-7c7595560384.jpg', '02e31cd1-5fa9-4e77-b268-cc7fa7fce907.jpg', '7a736325-1529-4e1e-a993-88afee0de239.jpg', '74421e13-1e32-4316-b1bb-9d95b7a3fd39.jpg', 'ece40d68-2ba8-45ff-8646-28b4ec6e7a1a.jpg', 'a6c999ce-303f-4c4b-a92c-274bd2c83e9a.jpg', '71d8b700-6ffd-471c-a6f1-1452c26740cb.jpg', 'c02f9f60-5c0b-4f56-97fc-6b05cbbc732f.jpg', '842f9779-575a-4ec5-a281-03ab25630280.jpg', 'fe7d0a14-d2c3-432b-afd5-be2212ce42cc.jpg', '8d256349-05e7-4363-9205-6a96be618c74.jpg', '7c1389d5-94e2-4052-b591-3c281684496b.jpg', 'c8947203-f3a4-4d8b-8eff-ae5556316565.jpg', 'e7fa9eed-4e1f-4c4f-920b-b48f41f1e701.jpg', '33769a41-af90-4a51-852f-786f1553038b.jpg', '73e003fa-e90b-4be5-a6e5-3316ab8604ca.jpg', '96afa423-047c-4ccc-8554-3474aac2a8e2.jpg', '8bfde6b6-5a78-481b-9495-6e93d5696671.jpg', '2d15ccfc-55d9-433d-ae98-df05a79429ea.jpg', 'eaebfc91-2044-41ef-a904-29cdf73ca83c.jpg', 'fce31c3b-ce60-494f-a115-69068feabb6a.jpg', '7615a205-a614-4d21-ade3-0e4b5543f4f0.jpg', '098dcdf7-aace-484c-9d27-5740291ba3c9.jpg', '9ba9ac29-6c96-4655-9df2-af558cb434d0.jpg', '4b5bcebb-1073-41ea-a188-ab295da6dd9b.jpg', '103f1666-9a5f-4aa7-bf46-d1e3133e92fc.jpg', 'b870b8e3-3f0c-42da-a718-8b95ff33be26.jpg', '57064fb7-92fc-4eec-b6a2-0252a89e1b49.jpg', 'b6eb8425-a672-4c4a-b350-7c83a3f6c4c2.jpg', 'c3f054c8-fccc-49ab-8c3b-0f3ac7166293.jpg', '1b2a8c19-aee0-4333-94bb-bb04c2bb1c79.jpg', 'd31606bb-dc92-43f4-81ef-7e3afe73450f.jpg', '793575f2-fa2f-453a-bb02-ab2e2e356376.jpg', '68475064-0400-4a08-a664-6da82c0d13ef.jpg', '95cb6dcf-0eea-44c8-97bf-8d7d64bbf2fe.jpg', '5f51063e-136f-4385-bdfc-d7dd08039143.jpg', 'a1e8a097-ea55-4215-84eb-9f54b03b2771.jpg', '4cc1bdb5-782d-46fb-aacb-7498d283e543.jpg', 'cb843692-402f-4310-9f69-d94120755450.jpg', 'db949d9c-a703-4861-a443-3a45aa761f8c.jpg', '2e566aac-4411-4957-bc86-74538e4064cc.jpg', 'c4666c22-f8a1-474a-a5b5-8c15439902d4.jpg', '2cbf942a-6a94-4e46-8749-f52484a388ba.jpg', 'dafddc99-ce44-4e20-aaa9-ebab602c9db8.jpg', '92e35409-04be-4c55-a09a-60c231f96f06.jpg', 'ef183c49-8107-4395-a5d0-2e363aa47dc5.jpg', '977e393c-57f4-484f-a0e0-ba6554196cc6.jpg', '634c1c2a-35a4-4c89-9a81-13c8e7f7c1d6.jpg', 'afb56979-d2a9-40b4-b58d-dc1975c52222.jpg', '3a049635-a537-4bb5-91f8-8c07d8dd003e.jpg', 'bebdc3b3-ae72-4774-9d01-a883d6e4a034.jpg', 'a65193e5-42c2-4b0c-9f22-7c99a39520ba.jpg', 'd1625394-cf2d-4583-8163-77a511872103.jpg', '3bdaeee7-abcb-46c3-9bab-f2a4a66d781b.jpg', '9c193a3f-bcbd-4c9f-b3c8-383a8d2bf759.jpg', 'f613f285-c2bb-4201-8fe5-17a727813436.jpg', '7335dd44-4d8a-4de1-aeca-327466f5aab8.jpg', 'd9d8b3f0-aee2-43b5-9284-ac0255f5cade.jpg', 'f0b1e1af-8318-4ccd-9f66-cf7c3e357083.jpg', '562ac628-12f5-40a1-abb9-2142de98fd0b.jpg', 'cde80f82-bd4e-4f02-94c0-2ca37e4ceddf.jpg', 'ff5f6dfb-850f-4679-a5e0-7ee030a6ce9f.jpg', '9bca5171-151d-4ba7-8909-80d6c942a05c.jpg', '7e1dd9d9-a28e-4281-abe4-2830f982c23a.jpg', '1fa7725f-b235-4c1b-8d06-6c33a1d9c7db.jpg', '9c158b0f-ff87-409d-8bc3-dbc3e8cca2f7.jpg', '0503bcdb-e291-4ffb-ae82-84cd0a2543d3.jpg', '3516b1ee-8654-4ee5-9487-9fe2143d3700.jpg', 'd13480bc-4eb1-43fc-b53b-0a9166765702.jpg', '813cd233-9a65-4513-b9e4-ca8d9a767a94.jpg', '25b35ad2-64a3-4b98-bc6a-a801224385e1.jpg', '874551c7-56d9-494a-afac-2842c0e06714.jpg', '598b3cc9-dc3f-4785-9977-d2a5337655ef.jpg', '248c417a-dfb5-41f5-9edb-95c0b745180d.jpg', 'b2197df2-a2ea-4e31-b909-e8ee018f5ac0.jpg', '96b665cb-3095-42ef-aad8-e7b29820780f.jpg', 'a1d61d40-56d5-4f97-b4c1-7e3943a93543.jpg', 'd93dfcd0-860f-46de-a8a1-156eeb058b31.jpg', '069fb6aa-d372-4285-ae51-29f4156d1041.jpg', '830b6439-1465-43d7-a80a-62f9524c704a.jpg', 'dfe78b18-42dd-475a-a0b4-161d2afd0197.jpg', '3eb55c99-8e72-4d76-aded-b8e38af7e3c4.jpg', '82f0f229-9004-4311-b222-705ae39f2395.jpg', 'c9ce4c1b-d285-424e-b24a-3c95394943b6.jpg', '4e5b636c-6919-4688-9f4e-a8a0557ecab9.jpg', '4b2ff148-44a8-415c-9fe1-6795530c1e4a.jpg', 'cb939adb-c1aa-4d21-94f3-f871844903eb.jpg', '63f8ed2f-3291-4ba5-a873-a4fe08363432.jpg', 'fcfebf3d-8186-4cec-9fcb-e9c2128643de.jpg', 'c5884ab3-f2f2-45ac-96be-cd0cec33195e.jpg', 'ea22d0ef-2e0e-4f51-847a-bb326dbadd60.jpg', '922ef62a-ee63-4f68-b61a-4742a589d458.jpg', 'aa0faa6c-85b4-413d-ab92-0db1d22713c2.jpg', 'df04d8ab-14a4-43db-9b6c-85fc07b1372c.jpg', '2f210cb0-867c-4cbd-a424-7a21642189a9.jpg', 'ab210753-3b24-4c44-874e-fb91d0b74dfa.jpg', 'a427a568-311d-42bb-85a0-3c526e93dbd9.jpg', '8e5136f7-ba28-4fb1-aa7d-262cc1ec26f0.jpg', '6e3306c7-2ac6-4a7b-8415-e36f71f9d497.jpg', '71472910-05a2-4b34-bace-5a94884cbb80.jpg', '3dbd06d9-bb14-4b89-8382-4c842a51f765.jpg', '387bff8a-19bd-49dc-acfa-5f6b353a57a0.jpg', '7b620af1-e31f-4857-b66b-33d43ea92b41.jpg', 'becd081d-fc5d-452a-8d2c-71474295c655.jpg', '9291a7d6-5174-4800-b2df-4da045155412.jpg', '35da6f94-0ac8-48b7-b3b1-f7aaf8255dcb.jpg', 'ce9a6132-f6de-4fa3-bc0a-ac52cbe2b307.jpg', '824f60b4-9e63-468f-9493-2c26bf4392a2.jpg', '47e240f1-a272-4540-916d-8b8f1671df9c.jpg', '8246d0dd-386e-4baf-8eeb-3a7381abf896.jpg', '7e6b282c-96c1-445a-906e-054d8c6ca3f8.jpg', '16f9d923-1f8c-44b3-ad96-23fe60bfa641.jpg', '8c459468-d44d-4795-81ee-49d84580b57c.jpg', 'af32d49d-c9bd-456e-9544-e1b64e2f9383.jpg', '35ac70fe-e126-4bc2-8fa1-cd9943980938.jpg', '1c1030c2-8605-4e5d-95d9-87b9939cdb5d.jpg', '391d97ce-1f7a-44e2-832b-00c1da69c8ce.jpg', '05d4193b-22d5-493e-a416-1d5f50e64c2f.jpg', '234d1fe9-3c65-451d-94e4-8157ddfbb649.jpg', '6c3f2db1-0e60-44ee-b94c-a031609c49a4.jpg', '0042dfce-6c3e-4528-a306-5ac3c1cb6bb8.jpg', 'e335f9c1-d4d6-4c7c-8ba5-591188c45cae.jpg', '31053e80-fcd0-4ab9-b658-2c0725e1e678.jpg', '21cbc1b8-ce0e-4860-b9cd-a18d164b246d.jpg', 'a82a9454-3a45-41d7-8500-19a859f94db9.jpg', '850282f1-01d1-4a80-8d45-11a35cedd09c.jpg', 'aa66b56d-ede1-416e-a2ef-b76e8b8c5b9e.jpg', '927c0439-8ce8-41fa-b191-c362e8fa8ec2.jpg', 'bc35091f-b370-4f41-9005-365f0cd889e8.jpg', 'f9769559-0822-4957-931e-1de4a6e20955.jpg', '7cf5dde3-9325-4f2d-80c2-4626e556f888.jpg', '732d1a6a-4998-493d-b1f3-717085f9b5e7.jpg', '3d9e5e39-d9aa-4f83-a02d-a768e90d0613.jpg', '230582f9-c7df-493b-83c9-d3c1bf0d2394.jpg', '8c3b9305-23cd-4af7-afd9-a8272f8d040d.jpg', '0e396788-34ee-4271-82fc-6e240ca7d30e.jpg', '26c20772-c8cb-4b1a-8001-0c360117b811.jpg', '6457476c-a683-463f-ac05-2eb41190fb90.jpg', '1f5e3ad9-3366-4ee6-a0ef-f80de29099a3.jpg', 'cf163513-d56b-471b-95ce-df45a6eceddf.jpg', 'b32696d4-6783-4ad2-9f30-b4a1e4fd9350.jpg', '2535d0b0-b2f0-4114-a922-2542429c10fb.jpg', 'c46927f1-a652-4cca-bbc2-f9108d9c6f34.jpg', '6d4e8091-04df-4a42-8459-2bda379666ab.jpg', '8d3afff9-f6a7-47b2-945b-5b1cabc145a6.jpg', '83f76703-bd04-4d7c-b982-acc338634318.jpg', 'df90f89b-fcfd-48f6-9286-1e7252f0b4c9.jpg', '6b4e2675-a307-46d3-a423-cd2acdc3c619.jpg', '360264a2-4ec7-4732-afe1-feb17d3743d2.jpg', '2541e05a-c00b-4156-baac-eb9b0f7ae36b.jpg', 'db86595f-e904-42df-be58-99b59d9e3af4.jpg', '4328c770-55e8-4d6c-af2c-34d72e748e16.jpg', 'd6d5de53-31f1-4319-a851-ebabb0c2407c.jpg', 'a4957186-4579-42aa-a47c-f523f04b14ad.jpg', '5049578f-7fc5-45a2-8be4-9e07ff225d9e.jpg', '2c625763-a289-40ca-82a5-449a6a64389b.jpg', 'c2b5882c-3790-4dd1-a3b5-e1a4f50f5240.jpg', 'e63bcfb4-4d6c-4d1b-b4b8-f91781b9b93e.jpg', 'fed02f11-588b-4381-9435-22d412fe1162.jpg', '97c5189d-1b9e-4f68-97de-7ed9d2d29775.jpg', '21127e32-1d60-4e87-b1cc-d23465df19e2.jpg', 'b497d7d1-c936-41ae-b380-46c63993025c.jpg', 'd3fffd02-f90c-456c-ba28-0a5cf5665f40.jpg', '9060e908-1814-4f23-8516-87f445bde560.jpg', 'b4e743bd-1317-4fc2-bf5e-81dd675d5103.jpg', '39a3cb3e-7026-4562-bccc-8cd216b97f0a.jpg', '9d4c8a6c-1b8f-47ff-9bb2-c6d43c74f7f0.jpg', '0914204e-ec8b-45bc-8057-a519236fe10b.jpg', '01a1165b-efb8-4b41-8cd9-ddd7ddf80176.jpg', '5e114e43-ffd2-43a0-9947-5ebf996a9772.jpg', 'cb510443-4c95-4106-9583-57a0c92ed2d3.jpg', 'fee138b2-9852-4a4a-a1db-2b284ad35a04.jpg', '951ef8b5-e005-4595-9595-a57f86109a73.jpg', 'a9813ed4-38c6-46a3-b66a-98485037cea4.jpg', 'e278782d-ca16-4952-be3b-606ec91558ee.jpg', 'ea428b72-a070-497b-9303-8cb70ffc1901.jpg', '336971d8-2f6b-48ee-b330-6de7b490eecc.jpg', '0f96e9aa-808e-46b2-be4c-f972f911fe56.jpg', '35cf8906-3800-4b70-84bd-2db05f84256d.jpg', 'ba4c5c90-3d20-4d3d-9b4e-a0fd961c8a7b.jpg', '2c7d3d36-ff56-465f-bc8f-b66e03945e62.jpg', '4e3d1155-9f93-4755-9e35-3d423aeb3b25.jpg', '875cf56b-63b3-46a0-b9c7-b1b4fee142da.jpg', '8c3d32fa-b42d-4171-b46c-a2f17801571b.jpg', '992221de-6010-4b2e-bdaa-77c9f8771da4.jpg', '8dba3014-9918-4cbe-8737-ed686b00673f.jpg', '0999bc12-db18-497a-b28c-8ec7d4840db9.jpg', '3d80fe57-c5fa-4a00-8fc6-bfce66ff4d62.jpg', '1b16de3e-d56d-4c5b-9320-e9b7133c8dc8.jpg', '300e0ccb-ed41-4857-a39e-6eb35dbb4213.jpg', '1148d233-72ac-43cb-913c-f11a8cc2ea3a.jpg', 'a63cfc2c-6e78-4ffb-8967-f84d86c7dbd7.jpg', '246b0ae9-1469-48fa-8bf2-6a43efefaa7b.jpg', '41362189-293b-4a51-adde-9214b0f112a3.jpg', '0219abd0-b27d-4784-ab4d-c04e172327bf.jpg', '28b7b854-60fa-4d4a-bd6b-3b4f75b74865.jpg', '18cc2218-4c9d-4d81-8a76-8853e7eb718f.jpg', 'ed56da09-abf1-4cd3-937f-6aadb4b43464.jpg', 'fdfbd837-365e-4435-9b58-d2312c08288c.jpg', '60b8d061-c73a-4fe4-804b-3260ff0ec256.jpg', 'd7911f44-6e0c-4ce5-8b3d-1b4919dcde97.jpg', '3adde631-c5c9-49de-a82f-db47798137c0.jpg', 'f25d9ffd-bef3-4de5-b7bd-b93c0d6b68b3.jpg', 'bcbb9852-7576-4487-8274-ff83f0898c5f.jpg', '77bc95f1-7f57-4a02-aee3-3ddb1088b1df.jpg', 'c1762212-2f07-41f0-b3a0-85b8f946f70d.jpg', '43b71f65-5065-4d11-bb20-a4a769ee082e.jpg', 'b3d35761-580d-4550-a5b2-43a0628db00d.jpg', 'b1ea26eb-3c3a-4960-ab92-1b877960ea1b.jpg', 'd788bfae-ddfe-42cd-9653-7f432b15ef67.jpg', '7d6912eb-caa8-49b3-8a62-1ec67100ace7.jpg', 'b75bdcd0-e805-4e9a-97ed-7a24bc271960.jpg', '2ae44009-472b-415d-9759-560ced256e96.jpg', '2101b066-e7be-45f8-864c-3825832e90cb.jpg', '9f6674b6-b409-4449-9fe8-3cfca2c46346.jpg', 'f92242dd-9f96-4bb1-b4b4-251a13c30ea3.jpg', 'ed5b39e2-bdfa-4d6f-aa2c-5d2f3d79ff28.jpg', '06fc0d8f-3c4c-491c-9b3b-67a9b8ad407b.jpg', 'e85c16af-34ea-4c22-80b2-c1447cd71a52.jpg', 'd823934d-f4aa-440c-9f65-ac9b783757e7.jpg', '28fbc896-2902-4484-8a85-f7f187601729.jpg', '894c7546-4da0-4639-b1c2-1847ee339dac.jpg', '942a38f4-2e86-44e2-84c4-b956233e0461.jpg', '8ddfa8f8-2052-42af-874d-39013db8181a.jpg', 'b274db25-0203-4e3f-8788-9baef0bff58d.jpg', 'cff8b3c9-222c-4ab8-a185-786da4ffbaa2.jpg', '3dc7211b-901c-4476-9718-c1ba6a869a5c.jpg', 'd9e0e391-baeb-456a-9084-e020dbf23543.jpg', '875ca69c-5b8d-4f67-9cda-74bd8c5b025b.jpg', '494ab613-0788-4a5d-9c99-ac25f1ebf562.jpg', 'a15760d2-8ab0-4f62-85c6-16f327ac36b8.jpg', '2cdccff7-c863-4a2e-9677-25fbf13f7b23.jpg', 'c608b702-acb9-4e49-80e5-828ded49650e.jpg', '725aa8ed-7c01-4ff8-9e66-7da950df421a.jpg', 'fd790637-dbbf-4ea2-8e20-4c64eb574ba7.jpg', 'cf468920-b1ae-48d3-897b-57596d7aec36.jpg']\n",
            "Number of images in train directory: 20983\n",
            "Number of images in train and val directory: 21284\n",
            "Number of images in test directory: 2344\n"
          ]
        },
        {
          "output_type": "stream",
          "name": "stderr",
          "text": [
            "\n"
          ]
        }
      ]
    },
    {
      "cell_type": "code",
      "source": [
        "# 自定義數據集類（用於test資料夾）\n",
        "class TestImageDataset(Dataset):\n",
        "    def __init__(self, image_dir, transform=None):\n",
        "        self.image_dir = image_dir\n",
        "        self.transform = transform\n",
        "        self.image_files = [f for f in os.listdir(image_dir) if f.endswith('.jpg')]\n",
        "\n",
        "    def __len__(self):\n",
        "        return len(self.image_files)\n",
        "\n",
        "    def __getitem__(self, idx):\n",
        "        img_name = self.image_files[idx]\n",
        "        img_path = os.path.join(self.image_dir, img_name)\n",
        "        image = Image.open(img_path).convert('RGB')\n",
        "        if self.transform:\n",
        "            image = self.transform(image)\n",
        "        return image, img_name  # 返回圖片和文件名\n",
        "\n",
        "# 增強數據增強\n",
        "train_transforms = transforms.Compose([\n",
        "    transforms.Resize((224, 224), interpolation=Image.BILINEAR),\n",
        "    transforms.RandomHorizontalFlip(p=0.5),\n",
        "    transforms.RandomRotation(15),  # 隨機旋轉 ±15 度\n",
        "    transforms.RandomAffine(degrees=0, translate=(0.1, 0.1), scale=(0.9, 1.1)),  # 平移和縮放\n",
        "    transforms.ColorJitter(brightness=0.2, contrast=0.2, saturation=0.2),\n",
        "    transforms.ToTensor(),\n",
        "    transforms.Normalize(mean=[0.485, 0.456, 0.406], std=[0.229, 0.224, 0.225]),\n",
        "    transforms.RandomErasing(p=0.5, scale=(0.02, 0.33))\n",
        "])\n",
        "\n",
        "test_transforms = transforms.Compose([\n",
        "    # 將圖片縮放至224x224像素，確保與訓練集尺寸一致\n",
        "    transforms.Resize((224, 224), interpolation=Image.BILINEAR),\n",
        "    # 將圖片轉換為PyTorch張量\n",
        "    transforms.ToTensor(),\n",
        "    # 與訓練集相同的標準化參數，保持一致性\n",
        "    transforms.Normalize(mean=[0.485, 0.456, 0.406],\n",
        "                        std=[0.229, 0.224, 0.225])\n",
        "])\n",
        "\n",
        "# 加載數據\n",
        "# 使用ImageFolder加載train和val數據（自動處理類別子資料夾0-99）\n",
        "train_dataset = datasets.ImageFolder(train_dir, transform=train_transforms)\n",
        "val_dataset = datasets.ImageFolder(val_dir, transform=train_transforms)\n",
        "test_dataset = TestImageDataset(test_dir, transform=test_transforms)\n",
        "\n",
        "\n",
        "# 創建DataLoader\n",
        "train_loader = DataLoader(train_dataset, batch_size=32, shuffle=True)\n",
        "val_loader = DataLoader(val_dataset, batch_size=32, shuffle=False)\n",
        "test_loader = DataLoader(test_dataset, batch_size=32, shuffle=False)\n",
        "\n",
        "# 確認數據量\n",
        "print(f\"Original train size: {len(train_dataset)}\")\n",
        "print(f\"Original val size: {len(val_dataset)}\")\n",
        "print(f\"Test size: {len(test_dataset)}\")\n",
        "\n",
        "# 確認類別數量\n",
        "print(f\"Number of classes: {len(train_dataset.classes)}\")  # 應為100\n",
        "print(f\"Class to index mapping: {train_dataset.class_to_idx}\")  # 應為 {'0': 0, '1': 1, ..., '99': 99}"
      ],
      "metadata": {
        "id": "3gCqHdSetlWT",
        "colab": {
          "base_uri": "https://localhost:8080/"
        },
        "outputId": "36d39a41-b15d-4777-db0c-a2e6edf5d4dc"
      },
      "execution_count": 24,
      "outputs": [
        {
          "output_type": "stream",
          "name": "stdout",
          "text": [
            "Original train size: 20982\n",
            "Original val size: 300\n",
            "Test size: 2344\n",
            "Number of classes: 100\n",
            "Class to index mapping: {'0': 0, '01': 1, '02': 2, '03': 3, '04': 4, '05': 5, '06': 6, '07': 7, '08': 8, '09': 9, '10': 10, '11': 11, '12': 12, '13': 13, '14': 14, '15': 15, '16': 16, '17': 17, '18': 18, '19': 19, '20': 20, '21': 21, '22': 22, '23': 23, '24': 24, '25': 25, '26': 26, '27': 27, '28': 28, '29': 29, '30': 30, '31': 31, '32': 32, '33': 33, '34': 34, '35': 35, '36': 36, '37': 37, '38': 38, '39': 39, '40': 40, '41': 41, '42': 42, '43': 43, '44': 44, '45': 45, '46': 46, '47': 47, '48': 48, '49': 49, '50': 50, '51': 51, '52': 52, '53': 53, '54': 54, '55': 55, '56': 56, '57': 57, '58': 58, '59': 59, '60': 60, '61': 61, '62': 62, '63': 63, '64': 64, '65': 65, '66': 66, '67': 67, '68': 68, '69': 69, '70': 70, '71': 71, '72': 72, '73': 73, '74': 74, '75': 75, '76': 76, '77': 77, '78': 78, '79': 79, '80': 80, '81': 81, '82': 82, '83': 83, '84': 84, '85': 85, '86': 86, '87': 87, '88': 88, '89': 89, '90': 90, '91': 91, '92': 92, '93': 93, '94': 94, '95': 95, '96': 96, '97': 97, '98': 98, '99': 99}\n"
          ]
        }
      ]
    },
    {
      "cell_type": "code",
      "source": [
        "class LabelSmoothingCrossEntropy(nn.Module):\n",
        "    def __init__(self, smoothing=0.1):\n",
        "        super(LabelSmoothingCrossEntropy, self).__init__()\n",
        "        self.smoothing = smoothing\n",
        "        self.confidence = 1.0 - smoothing\n",
        "\n",
        "    def forward(self, x, target):\n",
        "        log_probs = torch.nn.functional.log_softmax(x, dim=-1)\n",
        "        nll_loss = -log_probs.gather(dim=-1, index=target.unsqueeze(1))\n",
        "        nll_loss = nll_loss.squeeze(1)\n",
        "        smooth_loss = -log_probs.mean(dim=-1)\n",
        "        loss = self.confidence * nll_loss + self.smoothing * smooth_loss\n",
        "        return loss.mean()\n",
        "\n"
      ],
      "metadata": {
        "id": "qRPQ0CdOksud"
      },
      "execution_count": 25,
      "outputs": []
    },
    {
      "cell_type": "code",
      "source": [
        "# 定義模型\n",
        "model = models.resnet50(pretrained=True)\n",
        "num_features = model.fc.in_features\n",
        "model.fc = nn.Sequential(\n",
        "    nn.Linear(num_features, 512),  # 增加一層\n",
        "    nn.ReLU(),\n",
        "    nn.BatchNorm1d(512),           # 添加 BatchNorm 穩定訓練\n",
        "    nn.Linear(512, 100)            # 直接輸出，移除 256 層\n",
        ")\n",
        "model = model.to(device)\n",
        "\n",
        "\n",
        "# 定義優化器，使用差分學習率\n",
        "optimizer = optim.Adam([\n",
        "    {'params': [p for n, p in model.named_parameters() if \"fc\" not in n], 'lr': 2e-5},\n",
        "    {'params': model.fc.parameters(), 'lr': 2e-4}\n",
        "], weight_decay=1e-3)\n",
        "\n",
        "\n",
        "# Label Smoothing Loss\n",
        "criterion = LabelSmoothingCrossEntropy(smoothing=0.1)\n",
        "\n",
        "# 學習率調度器\n",
        "scheduler = optim.lr_scheduler.CosineAnnealingWarmRestarts(optimizer, T_0=5, T_mult=1)\n",
        "\n",
        "# 檢查參數數量\n",
        "def count_parameters(model):\n",
        "    return sum(p.numel() for p in model.parameters() if p.requires_grad)\n",
        "\n",
        "print(f\"Number of parameters: {count_parameters(model):,}\")"
      ],
      "metadata": {
        "id": "nptdNaAitp0d",
        "colab": {
          "base_uri": "https://localhost:8080/"
        },
        "outputId": "ce086856-92ff-4b60-d160-1eeecddfbbd4"
      },
      "execution_count": 28,
      "outputs": [
        {
          "output_type": "stream",
          "name": "stdout",
          "text": [
            "Number of parameters: 24,609,444\n"
          ]
        }
      ]
    },
    {
      "cell_type": "code",
      "source": [
        "# 訓練模型並記錄損失\n",
        "num_epochs = 15\n",
        "train_losses = []\n",
        "val_accuracies = []\n",
        "\n",
        "for epoch in range(num_epochs):\n",
        "    model.train()\n",
        "    running_loss = 0.0\n",
        "    train_bar = tqdm(train_loader, desc=f\"Epoch [{epoch+1}/{num_epochs}] Training\", leave=True)\n",
        "    for images, labels in train_bar:\n",
        "        images, labels = images.to(device), labels.to(device)\n",
        "        optimizer.zero_grad()\n",
        "        outputs = model(images)\n",
        "        loss = criterion(outputs, labels)\n",
        "        loss.backward()\n",
        "        optimizer.step()\n",
        "        running_loss += loss.item()\n",
        "        train_bar.set_postfix({'loss': f\"{loss.item():.4f}\"})\n",
        "\n",
        "    avg_loss = running_loss / len(train_loader)\n",
        "    train_losses.append(avg_loss)\n",
        "    print(f\"Epoch [{epoch+1}/{num_epochs}], Average Loss: {avg_loss:.4f}\")\n",
        "\n",
        "    # 驗證階段\n",
        "    model.eval()\n",
        "    val_loss = 0.0\n",
        "    correct = 0\n",
        "    total = 0\n",
        "    val_bar = tqdm(val_loader, desc=f\"Epoch [{epoch+1}/{num_epochs}] Validation\", leave=True)\n",
        "    with torch.no_grad():\n",
        "        for images, labels in val_bar:\n",
        "            images, labels = images.to(device), labels.to(device)\n",
        "            outputs = model(images)\n",
        "            loss = criterion(outputs, labels)\n",
        "            val_loss += loss.item()\n",
        "            _, predicted = torch.max(outputs, 1)\n",
        "            total += labels.size(0)\n",
        "            correct += (predicted == labels).sum().item()\n",
        "\n",
        "    val_loss = val_loss / len(val_loader)\n",
        "    accuracy = 100 * correct / total\n",
        "    val_accuracies.append(accuracy)\n",
        "    print(f\"Validation Loss: {val_loss:.4f}, Accuracy: {accuracy:.2f}%\")\n",
        "\n",
        "    # 調整學習率\n",
        "    scheduler.step()\n",
        "\n",
        "    # 保存檢查點\n",
        "    if (epoch + 1) % 5 == 0:\n",
        "      checkpoint = {\n",
        "          'epoch': epoch + 1,\n",
        "          'model_state_dict': model.state_dict(),\n",
        "          'optimizer_state_dict': optimizer.state_dict(),\n",
        "          'loss': avg_loss,\n",
        "          'accuracy': accuracy,\n",
        "      }\n",
        "      torch.save(checkpoint, f'/content/drive/MyDrive/Colab Notebooks/checkpoint_epoch_{epoch+1}.pth')\n",
        "      print(f\"Checkpoint saved to /content/drive/MyDrive/Colab Notebooks/checkpoint_epoch_{epoch+1}.pth\")\n",
        "\n",
        "\n",
        "# 保存模型\n",
        "torch.save(model.state_dict(), '/content/drive/MyDrive/Colab Notebooks/resnet18_modified.pth')\n",
        "\n"
      ],
      "metadata": {
        "id": "2MW30w-HtrsZ",
        "colab": {
          "base_uri": "https://localhost:8080/"
        },
        "outputId": "5777e59e-e501-4d8d-a15a-4147e141e2fd"
      },
      "execution_count": null,
      "outputs": [
        {
          "output_type": "stream",
          "name": "stderr",
          "text": [
            "Epoch [1/15] Training: 100%|██████████| 656/656 [05:44<00:00,  1.90it/s, loss=2.6955]\n"
          ]
        },
        {
          "output_type": "stream",
          "name": "stdout",
          "text": [
            "Epoch [1/15], Average Loss: 2.4259\n"
          ]
        },
        {
          "output_type": "stream",
          "name": "stderr",
          "text": [
            "Epoch [1/15] Validation: 100%|██████████| 10/10 [00:03<00:00,  2.54it/s]\n"
          ]
        },
        {
          "output_type": "stream",
          "name": "stdout",
          "text": [
            "Validation Loss: 2.1819, Accuracy: 55.33%\n"
          ]
        },
        {
          "output_type": "stream",
          "name": "stderr",
          "text": [
            "Epoch [2/15] Training: 100%|██████████| 656/656 [05:42<00:00,  1.91it/s, loss=1.6988]\n"
          ]
        },
        {
          "output_type": "stream",
          "name": "stdout",
          "text": [
            "Epoch [2/15], Average Loss: 1.7257\n"
          ]
        },
        {
          "output_type": "stream",
          "name": "stderr",
          "text": [
            "Epoch [2/15] Validation: 100%|██████████| 10/10 [00:03<00:00,  2.54it/s]\n"
          ]
        },
        {
          "output_type": "stream",
          "name": "stdout",
          "text": [
            "Validation Loss: 1.9721, Accuracy: 67.00%\n"
          ]
        },
        {
          "output_type": "stream",
          "name": "stderr",
          "text": [
            "Epoch [3/15] Training: 100%|██████████| 656/656 [05:45<00:00,  1.90it/s, loss=1.6245]\n"
          ]
        },
        {
          "output_type": "stream",
          "name": "stdout",
          "text": [
            "Epoch [3/15], Average Loss: 1.5418\n"
          ]
        },
        {
          "output_type": "stream",
          "name": "stderr",
          "text": [
            "Epoch [3/15] Validation: 100%|██████████| 10/10 [00:04<00:00,  2.50it/s]\n"
          ]
        },
        {
          "output_type": "stream",
          "name": "stdout",
          "text": [
            "Validation Loss: 1.8079, Accuracy: 69.00%\n"
          ]
        },
        {
          "output_type": "stream",
          "name": "stderr",
          "text": [
            "Epoch [4/15] Training: 100%|██████████| 656/656 [05:43<00:00,  1.91it/s, loss=1.4016]\n"
          ]
        },
        {
          "output_type": "stream",
          "name": "stdout",
          "text": [
            "Epoch [4/15], Average Loss: 1.4414\n"
          ]
        },
        {
          "output_type": "stream",
          "name": "stderr",
          "text": [
            "Epoch [4/15] Validation: 100%|██████████| 10/10 [00:03<00:00,  2.53it/s]\n"
          ]
        },
        {
          "output_type": "stream",
          "name": "stdout",
          "text": [
            "Validation Loss: 1.7380, Accuracy: 68.67%\n"
          ]
        },
        {
          "output_type": "stream",
          "name": "stderr",
          "text": [
            "Epoch [5/15] Training: 100%|██████████| 656/656 [05:44<00:00,  1.90it/s, loss=1.1456]\n"
          ]
        },
        {
          "output_type": "stream",
          "name": "stdout",
          "text": [
            "Epoch [5/15], Average Loss: 1.3704\n"
          ]
        },
        {
          "output_type": "stream",
          "name": "stderr",
          "text": [
            "Epoch [5/15] Validation: 100%|██████████| 10/10 [00:04<00:00,  2.48it/s]\n"
          ]
        },
        {
          "output_type": "stream",
          "name": "stdout",
          "text": [
            "Validation Loss: 1.7566, Accuracy: 71.00%\n",
            "Checkpoint saved to /content/drive/MyDrive/Colab Notebooks/checkpoint_epoch_5.pth\n"
          ]
        },
        {
          "output_type": "stream",
          "name": "stderr",
          "text": [
            "Epoch [6/15] Training: 100%|██████████| 656/656 [05:45<00:00,  1.90it/s, loss=1.4908]\n"
          ]
        },
        {
          "output_type": "stream",
          "name": "stdout",
          "text": [
            "Epoch [6/15], Average Loss: 1.4584\n"
          ]
        },
        {
          "output_type": "stream",
          "name": "stderr",
          "text": [
            "Epoch [6/15] Validation: 100%|██████████| 10/10 [00:03<00:00,  2.53it/s]\n"
          ]
        },
        {
          "output_type": "stream",
          "name": "stdout",
          "text": [
            "Validation Loss: 1.7724, Accuracy: 73.67%\n"
          ]
        },
        {
          "output_type": "stream",
          "name": "stderr",
          "text": [
            "Epoch [7/15] Training: 100%|██████████| 656/656 [05:45<00:00,  1.90it/s, loss=1.1897]\n"
          ]
        },
        {
          "output_type": "stream",
          "name": "stdout",
          "text": [
            "Epoch [7/15], Average Loss: 1.3825\n"
          ]
        },
        {
          "output_type": "stream",
          "name": "stderr",
          "text": [
            "Epoch [7/15] Validation: 100%|██████████| 10/10 [00:03<00:00,  2.53it/s]\n"
          ]
        },
        {
          "output_type": "stream",
          "name": "stdout",
          "text": [
            "Validation Loss: 1.7595, Accuracy: 73.00%\n"
          ]
        },
        {
          "output_type": "stream",
          "name": "stderr",
          "text": [
            "Epoch [8/15] Training: 100%|██████████| 656/656 [05:44<00:00,  1.91it/s, loss=1.7723]\n"
          ]
        },
        {
          "output_type": "stream",
          "name": "stdout",
          "text": [
            "Epoch [8/15], Average Loss: 1.3102\n"
          ]
        },
        {
          "output_type": "stream",
          "name": "stderr",
          "text": [
            "Epoch [8/15] Validation: 100%|██████████| 10/10 [00:03<00:00,  2.53it/s]\n"
          ]
        },
        {
          "output_type": "stream",
          "name": "stdout",
          "text": [
            "Validation Loss: 1.6829, Accuracy: 74.67%\n"
          ]
        },
        {
          "output_type": "stream",
          "name": "stderr",
          "text": [
            "Epoch [9/15] Training: 100%|██████████| 656/656 [05:44<00:00,  1.90it/s, loss=1.1532]\n"
          ]
        },
        {
          "output_type": "stream",
          "name": "stdout",
          "text": [
            "Epoch [9/15], Average Loss: 1.2426\n"
          ]
        },
        {
          "output_type": "stream",
          "name": "stderr",
          "text": [
            "Epoch [9/15] Validation: 100%|██████████| 10/10 [00:04<00:00,  2.50it/s]\n"
          ]
        },
        {
          "output_type": "stream",
          "name": "stdout",
          "text": [
            "Validation Loss: 1.5848, Accuracy: 76.33%\n"
          ]
        },
        {
          "output_type": "stream",
          "name": "stderr",
          "text": [
            "Epoch [10/15] Training: 100%|██████████| 656/656 [05:43<00:00,  1.91it/s, loss=1.1525]\n"
          ]
        },
        {
          "output_type": "stream",
          "name": "stdout",
          "text": [
            "Epoch [10/15], Average Loss: 1.1986\n"
          ]
        },
        {
          "output_type": "stream",
          "name": "stderr",
          "text": [
            "Epoch [10/15] Validation: 100%|██████████| 10/10 [00:04<00:00,  2.46it/s]\n"
          ]
        },
        {
          "output_type": "stream",
          "name": "stdout",
          "text": [
            "Validation Loss: 1.5414, Accuracy: 77.00%\n",
            "Checkpoint saved to /content/drive/MyDrive/Colab Notebooks/checkpoint_epoch_10.pth\n"
          ]
        },
        {
          "output_type": "stream",
          "name": "stderr",
          "text": [
            "Epoch [11/15] Training: 100%|██████████| 656/656 [05:44<00:00,  1.91it/s, loss=1.2894]\n"
          ]
        },
        {
          "output_type": "stream",
          "name": "stdout",
          "text": [
            "Epoch [11/15], Average Loss: 1.2784\n"
          ]
        },
        {
          "output_type": "stream",
          "name": "stderr",
          "text": [
            "Epoch [11/15] Validation: 100%|██████████| 10/10 [00:04<00:00,  2.47it/s]\n"
          ]
        },
        {
          "output_type": "stream",
          "name": "stdout",
          "text": [
            "Validation Loss: 1.6636, Accuracy: 76.33%\n"
          ]
        },
        {
          "output_type": "stream",
          "name": "stderr",
          "text": [
            "Epoch [12/15] Training:   1%|▏         | 9/656 [00:04<05:42,  1.89it/s, loss=1.3646]"
          ]
        }
      ]
    },
    {
      "cell_type": "code",
      "source": [
        "# 繪製訓練曲線\n",
        "plt.figure(figsize=(10, 5))\n",
        "plt.subplot(1, 2, 1)\n",
        "plt.plot(range(1, num_epochs+1), train_losses, label='Training Loss')\n",
        "plt.xlabel('Epoch')\n",
        "plt.ylabel('Loss')\n",
        "plt.title('Training Loss Curve')\n",
        "plt.legend()\n",
        "\n",
        "plt.subplot(1, 2, 2)\n",
        "plt.plot(range(1, num_epochs+1), val_accuracies, label='Validation Accuracy', color='orange')\n",
        "plt.xlabel('Epoch')\n",
        "plt.ylabel('Accuracy (%)')\n",
        "plt.title('Validation Accuracy Curve')\n",
        "plt.legend()\n",
        "plt.tight_layout()\n",
        "plt.savefig('/content/drive/MyDrive/Colab Notebooks/training_curves.png')"
      ],
      "metadata": {
        "colab": {
          "base_uri": "https://localhost:8080/",
          "height": 816
        },
        "id": "VEb0h4PNtldj",
        "outputId": "17280b46-277a-4ac6-a4f1-936571636ca0"
      },
      "execution_count": null,
      "outputs": [
        {
          "output_type": "error",
          "ename": "ValueError",
          "evalue": "x and y must have same first dimension, but have shapes (25,) and (16,)",
          "traceback": [
            "\u001b[0;31m---------------------------------------------------------------------------\u001b[0m",
            "\u001b[0;31mValueError\u001b[0m                                Traceback (most recent call last)",
            "\u001b[0;32m<ipython-input-39-733459ae2d2e>\u001b[0m in \u001b[0;36m<cell line: 0>\u001b[0;34m()\u001b[0m\n\u001b[1;32m      2\u001b[0m \u001b[0mplt\u001b[0m\u001b[0;34m.\u001b[0m\u001b[0mfigure\u001b[0m\u001b[0;34m(\u001b[0m\u001b[0mfigsize\u001b[0m\u001b[0;34m=\u001b[0m\u001b[0;34m(\u001b[0m\u001b[0;36m10\u001b[0m\u001b[0;34m,\u001b[0m \u001b[0;36m5\u001b[0m\u001b[0;34m)\u001b[0m\u001b[0;34m)\u001b[0m\u001b[0;34m\u001b[0m\u001b[0;34m\u001b[0m\u001b[0m\n\u001b[1;32m      3\u001b[0m \u001b[0mplt\u001b[0m\u001b[0;34m.\u001b[0m\u001b[0msubplot\u001b[0m\u001b[0;34m(\u001b[0m\u001b[0;36m1\u001b[0m\u001b[0;34m,\u001b[0m \u001b[0;36m2\u001b[0m\u001b[0;34m,\u001b[0m \u001b[0;36m1\u001b[0m\u001b[0;34m)\u001b[0m\u001b[0;34m\u001b[0m\u001b[0;34m\u001b[0m\u001b[0m\n\u001b[0;32m----> 4\u001b[0;31m \u001b[0mplt\u001b[0m\u001b[0;34m.\u001b[0m\u001b[0mplot\u001b[0m\u001b[0;34m(\u001b[0m\u001b[0mrange\u001b[0m\u001b[0;34m(\u001b[0m\u001b[0;36m1\u001b[0m\u001b[0;34m,\u001b[0m \u001b[0mnum_epochs\u001b[0m\u001b[0;34m+\u001b[0m\u001b[0;36m1\u001b[0m\u001b[0;34m)\u001b[0m\u001b[0;34m,\u001b[0m \u001b[0mtrain_losses\u001b[0m\u001b[0;34m,\u001b[0m \u001b[0mlabel\u001b[0m\u001b[0;34m=\u001b[0m\u001b[0;34m'Training Loss'\u001b[0m\u001b[0;34m)\u001b[0m\u001b[0;34m\u001b[0m\u001b[0;34m\u001b[0m\u001b[0m\n\u001b[0m\u001b[1;32m      5\u001b[0m \u001b[0mplt\u001b[0m\u001b[0;34m.\u001b[0m\u001b[0mxlabel\u001b[0m\u001b[0;34m(\u001b[0m\u001b[0;34m'Epoch'\u001b[0m\u001b[0;34m)\u001b[0m\u001b[0;34m\u001b[0m\u001b[0;34m\u001b[0m\u001b[0m\n\u001b[1;32m      6\u001b[0m \u001b[0mplt\u001b[0m\u001b[0;34m.\u001b[0m\u001b[0mylabel\u001b[0m\u001b[0;34m(\u001b[0m\u001b[0;34m'Loss'\u001b[0m\u001b[0;34m)\u001b[0m\u001b[0;34m\u001b[0m\u001b[0;34m\u001b[0m\u001b[0m\n",
            "\u001b[0;32m/usr/local/lib/python3.11/dist-packages/matplotlib/pyplot.py\u001b[0m in \u001b[0;36mplot\u001b[0;34m(scalex, scaley, data, *args, **kwargs)\u001b[0m\n\u001b[1;32m   3827\u001b[0m     \u001b[0;34m**\u001b[0m\u001b[0mkwargs\u001b[0m\u001b[0;34m,\u001b[0m\u001b[0;34m\u001b[0m\u001b[0;34m\u001b[0m\u001b[0m\n\u001b[1;32m   3828\u001b[0m ) -> list[Line2D]:\n\u001b[0;32m-> 3829\u001b[0;31m     return gca().plot(\n\u001b[0m\u001b[1;32m   3830\u001b[0m         \u001b[0;34m*\u001b[0m\u001b[0margs\u001b[0m\u001b[0;34m,\u001b[0m\u001b[0;34m\u001b[0m\u001b[0;34m\u001b[0m\u001b[0m\n\u001b[1;32m   3831\u001b[0m         \u001b[0mscalex\u001b[0m\u001b[0;34m=\u001b[0m\u001b[0mscalex\u001b[0m\u001b[0;34m,\u001b[0m\u001b[0;34m\u001b[0m\u001b[0;34m\u001b[0m\u001b[0m\n",
            "\u001b[0;32m/usr/local/lib/python3.11/dist-packages/matplotlib/axes/_axes.py\u001b[0m in \u001b[0;36mplot\u001b[0;34m(self, scalex, scaley, data, *args, **kwargs)\u001b[0m\n\u001b[1;32m   1775\u001b[0m         \"\"\"\n\u001b[1;32m   1776\u001b[0m         \u001b[0mkwargs\u001b[0m \u001b[0;34m=\u001b[0m \u001b[0mcbook\u001b[0m\u001b[0;34m.\u001b[0m\u001b[0mnormalize_kwargs\u001b[0m\u001b[0;34m(\u001b[0m\u001b[0mkwargs\u001b[0m\u001b[0;34m,\u001b[0m \u001b[0mmlines\u001b[0m\u001b[0;34m.\u001b[0m\u001b[0mLine2D\u001b[0m\u001b[0;34m)\u001b[0m\u001b[0;34m\u001b[0m\u001b[0;34m\u001b[0m\u001b[0m\n\u001b[0;32m-> 1777\u001b[0;31m         \u001b[0mlines\u001b[0m \u001b[0;34m=\u001b[0m \u001b[0;34m[\u001b[0m\u001b[0;34m*\u001b[0m\u001b[0mself\u001b[0m\u001b[0;34m.\u001b[0m\u001b[0m_get_lines\u001b[0m\u001b[0;34m(\u001b[0m\u001b[0mself\u001b[0m\u001b[0;34m,\u001b[0m \u001b[0;34m*\u001b[0m\u001b[0margs\u001b[0m\u001b[0;34m,\u001b[0m \u001b[0mdata\u001b[0m\u001b[0;34m=\u001b[0m\u001b[0mdata\u001b[0m\u001b[0;34m,\u001b[0m \u001b[0;34m**\u001b[0m\u001b[0mkwargs\u001b[0m\u001b[0;34m)\u001b[0m\u001b[0;34m]\u001b[0m\u001b[0;34m\u001b[0m\u001b[0;34m\u001b[0m\u001b[0m\n\u001b[0m\u001b[1;32m   1778\u001b[0m         \u001b[0;32mfor\u001b[0m \u001b[0mline\u001b[0m \u001b[0;32min\u001b[0m \u001b[0mlines\u001b[0m\u001b[0;34m:\u001b[0m\u001b[0;34m\u001b[0m\u001b[0;34m\u001b[0m\u001b[0m\n\u001b[1;32m   1779\u001b[0m             \u001b[0mself\u001b[0m\u001b[0;34m.\u001b[0m\u001b[0madd_line\u001b[0m\u001b[0;34m(\u001b[0m\u001b[0mline\u001b[0m\u001b[0;34m)\u001b[0m\u001b[0;34m\u001b[0m\u001b[0;34m\u001b[0m\u001b[0m\n",
            "\u001b[0;32m/usr/local/lib/python3.11/dist-packages/matplotlib/axes/_base.py\u001b[0m in \u001b[0;36m__call__\u001b[0;34m(self, axes, data, return_kwargs, *args, **kwargs)\u001b[0m\n\u001b[1;32m    295\u001b[0m                 \u001b[0mthis\u001b[0m \u001b[0;34m+=\u001b[0m \u001b[0margs\u001b[0m\u001b[0;34m[\u001b[0m\u001b[0;36m0\u001b[0m\u001b[0;34m]\u001b[0m\u001b[0;34m,\u001b[0m\u001b[0;34m\u001b[0m\u001b[0;34m\u001b[0m\u001b[0m\n\u001b[1;32m    296\u001b[0m                 \u001b[0margs\u001b[0m \u001b[0;34m=\u001b[0m \u001b[0margs\u001b[0m\u001b[0;34m[\u001b[0m\u001b[0;36m1\u001b[0m\u001b[0;34m:\u001b[0m\u001b[0;34m]\u001b[0m\u001b[0;34m\u001b[0m\u001b[0;34m\u001b[0m\u001b[0m\n\u001b[0;32m--> 297\u001b[0;31m             yield from self._plot_args(\n\u001b[0m\u001b[1;32m    298\u001b[0m                 \u001b[0maxes\u001b[0m\u001b[0;34m,\u001b[0m \u001b[0mthis\u001b[0m\u001b[0;34m,\u001b[0m \u001b[0mkwargs\u001b[0m\u001b[0;34m,\u001b[0m \u001b[0mambiguous_fmt_datakey\u001b[0m\u001b[0;34m=\u001b[0m\u001b[0mambiguous_fmt_datakey\u001b[0m\u001b[0;34m,\u001b[0m\u001b[0;34m\u001b[0m\u001b[0;34m\u001b[0m\u001b[0m\n\u001b[1;32m    299\u001b[0m                 \u001b[0mreturn_kwargs\u001b[0m\u001b[0;34m=\u001b[0m\u001b[0mreturn_kwargs\u001b[0m\u001b[0;34m\u001b[0m\u001b[0;34m\u001b[0m\u001b[0m\n",
            "\u001b[0;32m/usr/local/lib/python3.11/dist-packages/matplotlib/axes/_base.py\u001b[0m in \u001b[0;36m_plot_args\u001b[0;34m(self, axes, tup, kwargs, return_kwargs, ambiguous_fmt_datakey)\u001b[0m\n\u001b[1;32m    492\u001b[0m \u001b[0;34m\u001b[0m\u001b[0m\n\u001b[1;32m    493\u001b[0m         \u001b[0;32mif\u001b[0m \u001b[0mx\u001b[0m\u001b[0;34m.\u001b[0m\u001b[0mshape\u001b[0m\u001b[0;34m[\u001b[0m\u001b[0;36m0\u001b[0m\u001b[0;34m]\u001b[0m \u001b[0;34m!=\u001b[0m \u001b[0my\u001b[0m\u001b[0;34m.\u001b[0m\u001b[0mshape\u001b[0m\u001b[0;34m[\u001b[0m\u001b[0;36m0\u001b[0m\u001b[0;34m]\u001b[0m\u001b[0;34m:\u001b[0m\u001b[0;34m\u001b[0m\u001b[0;34m\u001b[0m\u001b[0m\n\u001b[0;32m--> 494\u001b[0;31m             raise ValueError(f\"x and y must have same first dimension, but \"\n\u001b[0m\u001b[1;32m    495\u001b[0m                              f\"have shapes {x.shape} and {y.shape}\")\n\u001b[1;32m    496\u001b[0m         \u001b[0;32mif\u001b[0m \u001b[0mx\u001b[0m\u001b[0;34m.\u001b[0m\u001b[0mndim\u001b[0m \u001b[0;34m>\u001b[0m \u001b[0;36m2\u001b[0m \u001b[0;32mor\u001b[0m \u001b[0my\u001b[0m\u001b[0;34m.\u001b[0m\u001b[0mndim\u001b[0m \u001b[0;34m>\u001b[0m \u001b[0;36m2\u001b[0m\u001b[0;34m:\u001b[0m\u001b[0;34m\u001b[0m\u001b[0;34m\u001b[0m\u001b[0m\n",
            "\u001b[0;31mValueError\u001b[0m: x and y must have same first dimension, but have shapes (25,) and (16,)"
          ]
        },
        {
          "output_type": "display_data",
          "data": {
            "text/plain": [
              "<Figure size 1000x500 with 1 Axes>"
            ],
            "image/png": "[encoded data removed]"
          },
          "metadata": {}
        }
      ]
    },
    {
      "cell_type": "code",
      "source": [
        "# 以'/content/drive/MyDrive/Colab Notebooks/resnet18_modified.pth'開始test\n",
        "#model_path = '/content/drive/MyDrive/Colab Notebooks/resnet18_modified.pth'\n",
        "#model.load_state_dict(torch.load(model_path))\n",
        "\n",
        "# 生成測試集預測\n",
        "model.eval()\n",
        "predictions = []\n",
        "image_names = []\n",
        "\n",
        "with torch.no_grad():\n",
        "    total_batches = len(test_loader)\n",
        "    for batch_idx, (images, img_names) in enumerate(tqdm(test_loader, desc=\"Generating Predictions with TTA\", unit=\"batch\", total=total_batches)):\n",
        "        try:\n",
        "            images = images.to(device)\n",
        "            outputs = model(images) # 原圖預測\n",
        "            images_flipped = torch.flip(images, dims=[3])   # 水平翻轉預測\n",
        "            outputs_flipped = model(images_flipped)\n",
        "            images_rotated = transforms.functional.rotate(images, 15)   # 旋轉 ±15 度預測\n",
        "            outputs_rotated = model(images_rotated)\n",
        "            images_bright = transforms.functional.adjust_brightness(images, 1.2)    # 亮度調整 (1.2x) 預測\n",
        "            outputs_bright = model(images_bright)\n",
        "            images_contrast = transforms.functional.adjust_contrast(images, 1.2)      # 對比度調整 (1.2x) 預測\n",
        "            outputs_contrast = model(images_contrast)\n",
        "\n",
        "            outputs = (outputs + outputs_flipped + outputs_rotated + outputs_bright + outputs_contrast) / 5\n",
        "\n",
        "            _, preds = torch.max(outputs, 1)\n",
        "            batch_preds = preds.cpu().numpy()\n",
        "\n",
        "            if len(batch_preds) != len(img_names):\n",
        "                print(f\"Batch {batch_idx}: Mismatch! Predictions: {len(batch_preds)}, Image names: {len(img_names)}\")\n",
        "                print(f\"Image names in this batch: {img_names}\")\n",
        "                continue\n",
        "            predictions.extend(batch_preds)\n",
        "            image_names.extend(img_names)\n",
        "        except Exception as e:\n",
        "            print(f\"Error processing batch {batch_idx}: {e}\")\n",
        "            continue\n",
        "\n",
        "print(f\"Length of image_names: {len(image_names)}\")\n",
        "print(f\"Length of predictions: {len(predictions)}\")\n",
        "\n",
        "\n",
        "# 創建提交文件\n",
        "submission_df = pd.DataFrame({\n",
        "    'image_name': [name.rsplit('.', 1)[0] for name in image_names],  # 移除.jpg\n",
        "    'pred_label': predictions\n",
        "})\n",
        "submission_df.to_csv('/content/drive/MyDrive/Colab Notebooks/prediction.csv', index=False)\n",
        "\n",
        "from google.colab import files\n",
        "files.download('/content/drive/MyDrive/Colab Notebooks/prediction.csv')\n",
        "\n",
        "print(\"Prediction file 'prediction.csv' has been generated.\")\n",
        "\n"
      ],
      "metadata": {
        "colab": {
          "base_uri": "https://localhost:8080/",
          "height": 88
        },
        "id": "fZdy0x0otskl",
        "outputId": "113e685a-e0d2-43cd-a4fe-31a7f18f8eed"
      },
      "execution_count": 22,
      "outputs": [
        {
          "output_type": "stream",
          "name": "stderr",
          "text": [
            "Generating Predictions with TTA: 100%|██████████| 74/74 [00:30<00:00,  2.43batch/s]"
          ]
        },
        {
          "output_type": "stream",
          "name": "stdout",
          "text": [
            "Length of image_names: 2344\n",
            "Length of predictions: 2344\n"
          ]
        },
        {
          "output_type": "stream",
          "name": "stderr",
          "text": [
            "\n"
          ]
        },
        {
          "output_type": "display_data",
          "data": {
            "text/plain": [
              "<IPython.core.display.Javascript object>"
            ],
            "application/javascript": [
              "\n",
              "    async function download(id, filename, size) {\n",
              "      if (!google.colab.kernel.accessAllowed) {\n",
              "        return;\n",
              "      }\n",
              "      const div = document.createElement('div');\n",
              "      const label = document.createElement('label');\n",
              "      label.textContent = `Downloading \"${filename}\": `;\n",
              "      div.appendChild(label);\n",
              "      const progress = document.createElement('progress');\n",
              "      progress.max = size;\n",
              "      div.appendChild(progress);\n",
              "      document.body.appendChild(div);\n",
              "\n",
              "      const buffers = [];\n",
              "      let downloaded = 0;\n",
              "\n",
              "      const channel = await google.colab.kernel.comms.open(id);\n",
              "      // Send a message to notify the kernel that we're ready.\n",
              "      channel.send({})\n",
              "\n",
              "      for await (const message of channel.messages) {\n",
              "        // Send a message to notify the kernel that we're ready.\n",
              "        channel.send({})\n",
              "        if (message.buffers) {\n",
              "          for (const buffer of message.buffers) {\n",
              "            buffers.push(buffer);\n",
              "            downloaded += buffer.byteLength;\n",
              "            progress.value = downloaded;\n",
              "          }\n",
              "        }\n",
              "      }\n",
              "      const blob = new Blob(buffers, {type: 'application/binary'});\n",
              "      const a = document.createElement('a');\n",
              "      a.href = window.URL.createObjectURL(blob);\n",
              "      a.download = filename;\n",
              "      div.appendChild(a);\n",
              "      a.click();\n",
              "      div.remove();\n",
              "    }\n",
              "  "
            ]
          },
          "metadata": {}
        },
        {
          "output_type": "display_data",
          "data": {
            "text/plain": [
              "<IPython.core.display.Javascript object>"
            ],
            "application/javascript": [
              "download(\"download_cde6be38-29e8-4488-b9a9-25017bff7b5e\", \"prediction.csv\", 93585)"
            ]
          },
          "metadata": {}
        },
        {
          "output_type": "stream",
          "name": "stdout",
          "text": [
            "Prediction file 'prediction.csv' has been generated.\n"
          ]
        }
      ]
    }
  ]
}